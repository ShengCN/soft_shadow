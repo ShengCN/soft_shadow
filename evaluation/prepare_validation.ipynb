{
 "cells": [
  {
   "cell_type": "code",
   "execution_count": 1,
   "metadata": {},
   "outputs": [],
   "source": [
    "%load_ext autoreload\n",
    "%autoreload 2"
   ]
  },
  {
   "cell_type": "code",
   "execution_count": 17,
   "metadata": {},
   "outputs": [],
   "source": [
    "import sys\n",
    "sys.path.append('..')\n",
    "\n",
    "import os\n",
    "import numpy as np\n",
    "import matplotlib.pyplot as plt\n",
    "import csv\n",
    "from tqdm import tqdm\n",
    "import multiprocessing\n",
    "from functools import partial\n",
    "from PIL import Image\n",
    "import numbergen as ng\n",
    "import imagen as ig\n",
    "from skimage.transform import resize\n",
    "import time\n",
    "import cv2\n",
    "from ssn.random_pattern import random_pattern\n",
    "import numbergen as ng\n",
    "import imagen as ig\n",
    "import random"
   ]
  },
  {
   "cell_type": "code",
   "execution_count": 7,
   "metadata": {},
   "outputs": [],
   "source": [
    "pattern_generator = random_pattern()"
   ]
  },
  {
   "cell_type": "code",
   "execution_count": 9,
   "metadata": {},
   "outputs": [],
   "source": [
    "def show(img, title='',cmap=None): \n",
    "    plt.figure(figsize=(15,10))\n",
    "    plt.imshow(img, cmap=cmap)\n",
    "    plt.title(title)\n",
    "    plt.show()"
   ]
  },
  {
   "cell_type": "code",
   "execution_count": 11,
   "metadata": {},
   "outputs": [],
   "source": [
    "testing_ibl_folder = '/home/ysheng/Dataset/ibls/pattern/'\n",
    "testing_real_ibl_folder = '/home/ysheng/Dataset/ibls/real/'"
   ]
  },
  {
   "cell_type": "code",
   "execution_count": 54,
   "metadata": {},
   "outputs": [
    {
     "name": "stdout",
     "output_type": "stream",
     "text": [
      "[0, 1, 2, 3, 4, 5, 6, 7, 8, 9, 10, 11, 12, 13, 14, 15, 16, 17, 18, 19, 20, 21, 22, 23, 24, 25, 26, 27, 28, 29, 30, 31, 32, 33, 34, 35, 36, 37, 38, 39, 40, 41, 42, 43, 44, 45, 46, 47, 48, 49]\n",
      "[0.1, 0.2, 0.30000000000000004, 0.4, 0.5, 0.6000000000000001, 0.7000000000000001, 0.8, 0.9, 1.0, 1.1, 1.2000000000000002, 1.3, 1.4000000000000001, 1.5, 1.6, 1.7000000000000002, 1.8, 1.9000000000000001, 2.0, 2.1, 2.2, 2.3000000000000003, 2.4000000000000004, 2.5, 2.6, 2.7, 2.8000000000000003, 2.9000000000000004, 3.0]\n"
     ]
    }
   ],
   "source": [
    "sample_dimension = 10\n",
    "num_list = [i for i in range(50)]\n",
    "size_list = [i * 0.01 for i in range(1,11)]\n",
    "\n",
    "print(num_list)\n",
    "print(scale_list)"
   ]
  },
  {
   "cell_type": "code",
   "execution_count": 49,
   "metadata": {},
   "outputs": [],
   "source": [
    "def normalize(ibl, energy=3500):\n",
    "    total_energy = np.sum(ibl)\n",
    "    if total_energy < 1e-3:\n",
    "        print('small energy: ', total_energy)\n",
    "        return np.zeros((80,512))\n",
    "\n",
    "    ibl = ibl * energy / total_energy\n",
    "\n",
    "    return ibl\n",
    "\n",
    "def to_normalized_ibl(ibl):\n",
    "    \"\"\" input is pattern generated ibl [80x512]\n",
    "        output is noramlized ibl: [16x32]\n",
    "    \"\"\"\n",
    "    ibl = cv2.resize(ibl, (32, 5))\n",
    "    ret = np.zeros((16, 32))\n",
    "    ret[:5,:] = ibl\n",
    "    return ret"
   ]
  },
  {
   "cell_type": "markdown",
   "metadata": {},
   "source": [
    "## prepare testing ibls"
   ]
  },
  {
   "cell_type": "code",
   "execution_count": 56,
   "metadata": {},
   "outputs": [
    {
     "name": "stderr",
     "output_type": "stream",
     "text": [
      "100%|██████████| 50/50 [01:21<00:00,  1.63s/it]\n"
     ]
    }
   ],
   "source": [
    "pattern = pattern_generator.get_pattern()\n",
    "scale = 3.0\n",
    "size_list.reverse()\n",
    "for num in tqdm(num_list):\n",
    "    for size in size_list:\n",
    "        seed = random.randint(0,19920208)\n",
    "        factor = 80/256\n",
    "        if num == 0:\n",
    "            ibl = np.zeros((80,512))\n",
    "        else:\n",
    "            gs = ig.Composite(operator=np.add,\n",
    "                              generators=[ig.Gaussian(\n",
    "                                        size=size*ng.UniformRandom(seed=seed+i+4),\n",
    "                                        scale=scale*(ng.UniformRandom(seed=seed+i+5)+1e-3),\n",
    "                                        x=ng.UniformRandom(seed=seed+i+1)-0.5,\n",
    "                                        y=(ng.UniformRandom(seed=seed+i+2)-0.5)*factor,\n",
    "                                        aspect_ratio=0.7,\n",
    "                                        orientation=np.pi*ng.UniformRandom(seed=seed+i+3),\n",
    "                                        ) for i in range(num)],\n",
    "                                position=(0, 0), \n",
    "                                xdensity=512)\n",
    "            ibl = normalize(gs()[80:160,:], 3500) \n",
    "        title = 'num_{}_size_{}_ibl.png'.format(num, size)\n",
    "#         show(ibl, title)\n",
    "        ibl = to_normalized_ibl(ibl)\n",
    "#         show(ibl, title)\n",
    "        cv2.imwrite(os.path.join(testing_ibl_folder, title),ibl)"
   ]
  },
  {
   "cell_type": "markdown",
   "metadata": {},
   "source": [
    "## prepare real testing ibls "
   ]
  },
  {
   "cell_type": "code",
   "execution_count": null,
   "metadata": {},
   "outputs": [],
   "source": []
  },
  {
   "cell_type": "markdown",
   "metadata": {},
   "source": [
    "## prepare animation ibls"
   ]
  },
  {
   "cell_type": "code",
   "execution_count": null,
   "metadata": {},
   "outputs": [],
   "source": []
  },
  {
   "cell_type": "markdown",
   "metadata": {},
   "source": [
    "## output one batch data"
   ]
  },
  {
   "cell_type": "code",
   "execution_count": null,
   "metadata": {},
   "outputs": [],
   "source": []
  }
 ],
 "metadata": {
  "kernelspec": {
   "display_name": "Python 3",
   "language": "python",
   "name": "python3"
  },
  "language_info": {
   "codemirror_mode": {
    "name": "ipython",
    "version": 3
   },
   "file_extension": ".py",
   "mimetype": "text/x-python",
   "name": "python",
   "nbconvert_exporter": "python",
   "pygments_lexer": "ipython3",
   "version": "3.7.7"
  }
 },
 "nbformat": 4,
 "nbformat_minor": 4
}
