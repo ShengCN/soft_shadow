{
 "cells": [
  {
   "cell_type": "code",
   "execution_count": 1,
   "metadata": {},
   "outputs": [],
   "source": [
    "%load_ext autoreload\n",
    "%autoreload 2"
   ]
  },
  {
   "cell_type": "code",
   "execution_count": 25,
   "metadata": {},
   "outputs": [],
   "source": [
    "import sys\n",
    "sys.path.append('..')\n",
    "\n",
    "import os\n",
    "from os.path import join\n",
    "import numpy as np\n",
    "import matplotlib.pyplot as plt\n",
    "import csv\n",
    "from tqdm import tqdm\n",
    "import multiprocessing\n",
    "from functools import partial\n",
    "from PIL import Image\n",
    "import numbergen as ng\n",
    "import imagen as ig\n",
    "from skimage.transform import resize\n",
    "import time\n",
    "import cv2\n",
    "from ssn.random_pattern import random_pattern\n",
    "import numbergen as ng\n",
    "import imagen as ig\n",
    "import random\n",
    "import imageio\n",
    "import metric\n",
    "\n",
    "def show(img, title='',cmap=None): \n",
    "    plt.figure(figsize=(15,10))\n",
    "    plt.imshow(img, cmap=cmap)\n",
    "    plt.title(title)\n",
    "    plt.show()\n",
    "    \n",
    "def normalize(ibl, energy=3500):\n",
    "    total_energy = np.sum(ibl)\n",
    "    if total_energy < 1e-3:\n",
    "        print('small energy: ', total_energy)\n",
    "        return np.zeros((80,512))\n",
    "\n",
    "    ibl = ibl * energy / total_energy\n",
    "\n",
    "    return ibl\n",
    "\n",
    "def to_normalized_ibl(ibl):\n",
    "    \"\"\" input is pattern generated ibl [80x512]\n",
    "        output is noramlized ibl: [16x32]\n",
    "    \"\"\"\n",
    "    ibl = cv2.resize(ibl, (32, 5))\n",
    "    ret = np.zeros((16, 32))\n",
    "    ret[:5,:] = ibl\n",
    "    return ret\n",
    "\n",
    "def get_files(folder):\n",
    "    return [os.path.join(folder, f) for f in os.listdir(folder) if os.path.isfile(os.path.join(folder, f))]\n",
    "\n",
    "def get_folders(folder):\n",
    "    return [os.path.join(folder, f) for f in os.listdir(folder) if os.path.isdir(os.path.join(folder, f))]"
   ]
  },
  {
   "cell_type": "markdown",
   "metadata": {},
   "source": [
    "## Prepare a dictionary \n",
    "\n",
    "ibl_key -> [[mts, pred, net_gt],[mts, pred, net_gt],[mts, pred, net_gt], ....]"
   ]
  },
  {
   "cell_type": "code",
   "execution_count": 30,
   "metadata": {},
   "outputs": [
    {
     "name": "stdout",
     "output_type": "stream",
     "text": [
      "ibl files: 260\n"
     ]
    }
   ],
   "source": [
    "result_folder = '/home/ysheng/Dataset/evaluation/'\n",
    "\n",
    "model_list = get_folders(result_folder)\n",
    "dbg, dbg_num = True, 1\n",
    "\n",
    "\"\"\"\n",
    "    ibl key -> files\n",
    "\"\"\"\n",
    "ibl_dict = {}\n",
    "\n",
    "ibl_folder = join(model, 'pattern')\n",
    "ibl_folders = get_folders(ibl_folder)\n",
    "\n",
    "for ibl_f in ibl_folders:\n",
    "    ibl_name = os.path.basename(ibl_f)\n",
    "    ibl_dict[ibl_name] = []\n",
    "\n",
    "ibl_keys = ibl_dict.keys()\n",
    "print('ibl files: {}'.format(len(ibl_keys)))\n",
    "\n",
    "# for ibl in tqdm(ibl_dict.keys()):\n",
    "#     for model in model_list:\n",
    "#         cur_folder = join(model, join('pattern', ibl))\n",
    "#         gt_path, pred_path, mitsuba_path = join(cur_folder, 'gt.png'), join(cur_folder, 'predict.png'), join(cur_folder, 'mitsuba_shadow.exr')\n",
    "\n",
    "#         ibl_dict[ibl].append([gt_path, pred_path, mitsuba_path])"
   ]
  },
  {
   "cell_type": "markdown",
   "metadata": {},
   "source": [
    "ibl_num -> [[mts, pred, net_gt]]\n",
    "\n",
    "\n",
    "ibl_size -> [[mts, pred, net_gt]]"
   ]
  },
  {
   "cell_type": "code",
   "execution_count": 75,
   "metadata": {},
   "outputs": [
    {
     "name": "stderr",
     "output_type": "stream",
     "text": [
      "\n",
      "\n",
      "\n",
      "\n",
      "\n",
      "\n",
      "100%|██████████| 260/260 [00:00<00:00, 297549.53it/s]A\u001b[A"
     ]
    },
    {
     "name": "stdout",
     "output_type": "stream",
     "text": [
      "#: 26, size: 10, model: 10\n"
     ]
    },
    {
     "name": "stderr",
     "output_type": "stream",
     "text": [
      "\n"
     ]
    }
   ],
   "source": [
    "ibl_num_dict, ibl_size_dict = dict(), dict()\n",
    "def parse_key(key):\n",
    "    \"\"\" key -> num, size\n",
    "    \"\"\"\n",
    "    num = key[key.find('num_') + len('num_'):key.find('_size_')]\n",
    "    size = key[key.find('size_') + len('size_'):key.find('_ibl')]\n",
    "    return int(num), float(size)\n",
    "\n",
    "for ibl in tqdm(ibl_keys):\n",
    "    num, size = parse_key(ibl)\n",
    "    \n",
    "    if num not in ibl_num_dict.keys():\n",
    "        ibl_num_dict[num] = []\n",
    "        \n",
    "    if size not in ibl_size_dict.keys():\n",
    "        ibl_size_dict[size] = []\n",
    "    \n",
    "    ibl_num_dict[num].append(ibl)\n",
    "    ibl_size_dict[size].append(ibl)\n",
    "\n",
    "    \n",
    "print('#: {}, size: {}, model: {}'.format(len(ibl_num_dict.keys()), len(ibl_size_dict.keys()),len(model_list)))"
   ]
  },
  {
   "cell_type": "markdown",
   "metadata": {},
   "source": [
    "## compute ibl num metrices"
   ]
  },
  {
   "cell_type": "code",
   "execution_count": 76,
   "metadata": {},
   "outputs": [],
   "source": [
    "def np_property(img):\n",
    "    print('shape: {}, min: {}, max: {}'.format(img.shape, np.min(img), np.max(img)))\n",
    "\n",
    "def compute_metric(gt_np, pred_np, mts_np):\n",
    "    gt_mts = [metric.rmse(gt_np, mts_np), metric.rmse_s(gt_np, mts_np)[1], metric.ZNCC(gt_np, mts_np)]\n",
    "    pred_mts = [metric.rmse(pred_np, mts_np), metric.rmse_s(pred_np, mts_np)[1], metric.ZNCC(pred_np, mts_np)]\n",
    "    return np.array(gt_mts), np.array(pred_mts)"
   ]
  },
  {
   "cell_type": "code",
   "execution_count": 114,
   "metadata": {},
   "outputs": [
    {
     "name": "stdout",
     "output_type": "stream",
     "text": [
      "{15: array([[0.01350358, 0.01267972, 0.94932609],\n",
      "       [0.02793415, 0.02711215, 0.76912462]]), 49: array([[0.01542377, 0.01442066, 0.93555277],\n",
      "       [0.02980063, 0.02899135, 0.73253095]]), 43: array([[0.01693606, 0.0155866 , 0.93467854],\n",
      "       [0.03143057, 0.0308123 , 0.73154994]]), 13: array([[0.01717344, 0.01557307, 0.94946169],\n",
      "       [0.03778279, 0.03514702, 0.74563378]]), 5: array([[0.01724708, 0.01469435, 0.9693047 ],\n",
      "       [0.04402064, 0.03973706, 0.75133928]]), 27: array([[0.01831116, 0.01687626, 0.93312817],\n",
      "       [0.03529563, 0.03433643, 0.70698698]]), 23: array([[0.01762454, 0.01581675, 0.93789793],\n",
      "       [0.03488972, 0.03386556, 0.71925725]]), 41: array([[0.0169906 , 0.01563286, 0.92401213],\n",
      "       [0.03077741, 0.03034357, 0.70733325]]), 19: array([[0.02253029, 0.02087958, 0.91146413],\n",
      "       [0.04092811, 0.03962089, 0.66097567]]), 31: array([[0.01587563, 0.01480843, 0.93782836],\n",
      "       [0.0308893 , 0.03010875, 0.73650734]]), 9: array([[0.01841198, 0.01682731, 0.94417869],\n",
      "       [0.04301014, 0.04150607, 0.67664274]]), 47: array([[0.0155008 , 0.0142882 , 0.94059022],\n",
      "       [0.02888023, 0.02819208, 0.75913206]]), 45: array([[0.01428705, 0.01319859, 0.94553785],\n",
      "       [0.02906487, 0.02862432, 0.72766421]]), 21: array([[0.01663799, 0.0154922 , 0.93997156],\n",
      "       [0.033138  , 0.03234401, 0.72062918]]), 11: array([[0.01848892, 0.01743557, 0.93117498],\n",
      "       [0.03736287, 0.03608073, 0.71287602]]), 39: array([[0.01540933, 0.01411596, 0.9453778 ],\n",
      "       [0.03090813, 0.03046542, 0.72711827]]), 29: array([[0.01744308, 0.01577185, 0.93596628],\n",
      "       [0.03346458, 0.03290476, 0.71266421]]), 1: array([[0.01649609, 0.01556041, 0.97558142],\n",
      "       [0.05566088, 0.04812453, 0.73537123]]), 25: array([[0.01880511, 0.01757663, 0.91977657],\n",
      "       [0.03422213, 0.03362603, 0.69524541]]), 51: array([[0.0157926 , 0.01426055, 0.94769651],\n",
      "       [0.03259435, 0.03193502, 0.71819646]]), 3: array([[0.01949094, 0.01866848, 0.95043071],\n",
      "       [0.04777453, 0.04509216, 0.69875405]]), 17: array([[0.01862363, 0.01690102, 0.93274868],\n",
      "       [0.03659569, 0.03536682, 0.70848104]]), 7: array([[0.02254309, 0.02074098, 0.92301323],\n",
      "       [0.04555155, 0.04323764, 0.67226188]]), 37: array([[0.01660574, 0.01532144, 0.9284494 ],\n",
      "       [0.03148341, 0.0307661 , 0.70564237]]), 33: array([[0.01579543, 0.01454732, 0.94098849],\n",
      "       [0.0319665 , 0.03142893, 0.70972565]]), 35: array([[0.01710229, 0.015924  , 0.92589805],\n",
      "       [0.03091139, 0.03036402, 0.71923096]])}\n"
     ]
    }
   ],
   "source": [
    "# ori_num_metric = np.copy(num_metric)\n",
    "# ori_size_metric = np.copy(size_metric)\n",
    "print(ori_num_metric)\n",
    "print(metric_dict)"
   ]
  },
  {
   "cell_type": "code",
   "execution_count": 117,
   "metadata": {},
   "outputs": [
    {
     "name": "stdout",
     "output_type": "stream",
     "text": [
      "time: 3.223684072494507 s616   \n",
      "time: 3.078256607055664 s\n"
     ]
    }
   ],
   "source": [
    "num_metric = {}\n",
    "# for num in tqdm(ibl_num_dict.keys()):\n",
    "#     num_metric[num] = np.zeros((2,3))\n",
    "#     sample_num = len(model_list) * len(ibl_num_dict[num])\n",
    "    \n",
    "#     print('{} ibl has {} samples'.format(num, sample_num))\n",
    "#     for ibl_folder in ibl_num_dict[num]: \n",
    "#         for m in model_list:\n",
    "#             cur_folder = join(m, join('pattern', ibl_folder))\n",
    "            \n",
    "#             gt_path, pred_path, mitsuba_path = join(cur_folder, 'gt.png'), join(cur_folder, 'predict.png'), join(cur_folder, 'mitsuba_shadow.exr')\n",
    "#             gt_np, pred_np, mts_np = plt.imread(gt_path)[:,:,0], plt.imread(pred_path)[:,:,0], 1.0 - imageio.imread(mitsuba_path)[:,:,0]\n",
    "            \n",
    "#             # gt_np -> mts_np(mse, mses, zncc)\n",
    "#             # pred_np -> mts_np(mse, mses, zncc)\n",
    "#             # average over all samples\n",
    "#             gt_mts, pred_mts = compute_metric(gt_np, pred_np, mts_np)\n",
    "#             num_metric[num][0] += gt_mts / sample_num\n",
    "#             num_metric[num][1] += pred_mts / sample_num\n",
    "            \n",
    "# #             np_property(gt_np)\n",
    "# #             np_property(pred_np)\n",
    "# #             np_property(mts_np)  \n",
    "# #             show(gt_np)\n",
    "# #             show(pred_np)\n",
    "# #             show(mts_np)\n",
    "\n",
    "# parallel version\n",
    "def worker(input_param):\n",
    "    ibl_key, ibl_dict = input_param\n",
    "    sample_num = len(ibl_dict[ibl_key]) * len(model_list)\n",
    "    cur_metric = np.zeros((2,3))\n",
    "    for ibl_folder in ibl_dict[ibl_key]: \n",
    "        for m in model_list:\n",
    "            cur_folder = join(m, join('pattern', ibl_folder))\n",
    "            \n",
    "            gt_path, pred_path, mitsuba_path = join(cur_folder, 'gt.png'), join(cur_folder, 'predict.png'), join(cur_folder, 'mitsuba_shadow.exr')\n",
    "            gt_np, pred_np, mts_np = plt.imread(gt_path)[:,:,0], plt.imread(pred_path)[:,:,0], 1.0 - imageio.imread(mitsuba_path)[:,:,0]\n",
    "            \n",
    "            # gt_np -> mts_np(mse, mses, zncc)\n",
    "            # pred_np -> mts_np(mse, mses, zncc)\n",
    "            # average over all samples\n",
    "            gt_mts, pred_mts = compute_metric(gt_np, pred_np, mts_np)\n",
    "            cur_metric[0] += gt_mts / sample_num\n",
    "            cur_metric[1] += pred_mts / sample_num\n",
    "    return (ibl_key, cur_metric)\n",
    "\n",
    "#\n",
    "#\n",
    "def parallel_metric(metric_dict, processor_num = 32):\n",
    "    s = time.time()\n",
    "    \n",
    "    # (net_gt, pred) x (mse, mse_s, zncc)\n",
    "#     metric_result = np.zeros((len(metric_dict.keys()), 2, 3))\n",
    "    metric_result = {}\n",
    "    for k in metric_dict.keys():\n",
    "        metric_result[k] = np.zeros((2,3))\n",
    "    \n",
    "    task_num = len(metric_dict.keys())\n",
    "    input_list = zip(metric_dict.keys(), [metric_dict] * len(metric_dict.keys()))\n",
    "    \n",
    "    with multiprocessing.Pool(processor_num) as pool:\n",
    "        # working_fn = partial(batch_working_process, src_folder, out_folder)\n",
    "        for i, cur_result in enumerate(pool.imap_unordered(worker, input_list), 1):\n",
    "            ibl_key, cur_metric = cur_result\n",
    "            metric_result[ibl_key] = cur_metric\n",
    "            \n",
    "            print(\"Finished: {} \\r\".format(float(i)/task_num), flush=True, end='')\n",
    "    print('time: {} s'.format(time.time() - s))\n",
    "    return metric_result\n",
    "\n",
    "num_metric = parallel_metric(ibl_num_dict)\n",
    "size_metric = parallel_metric(ibl_size_dict)"
   ]
  },
  {
   "cell_type": "code",
   "execution_count": 120,
   "metadata": {},
   "outputs": [
    {
     "name": "stderr",
     "output_type": "stream",
     "text": [
      "\n",
      "\n",
      "\n",
      "\n",
      "\n",
      "\n",
      "  0%|          | 0/10 [00:00<?, ?it/s]\u001b[A\u001b[A\u001b[A\u001b[A\u001b[A\u001b[A\n",
      "\n",
      "\n",
      "\n",
      "\n",
      "\n",
      " 10%|█         | 1/10 [00:29<04:21, 29.05s/it]\u001b[A\u001b[A\u001b[A\u001b[A\u001b[A\u001b[A\n",
      "\n",
      "\n",
      "\n",
      "\n",
      "\n",
      " 20%|██        | 2/10 [01:00<03:59, 29.88s/it]\u001b[A\u001b[A\u001b[A\u001b[A\u001b[A\u001b[A\n",
      "\n",
      "\n",
      "\n",
      "\n",
      "\n",
      " 30%|███       | 3/10 [01:10<02:46, 23.76s/it]\u001b[A\u001b[A\u001b[A\u001b[A\u001b[A\u001b[A\n",
      "\n",
      "\n",
      "\n",
      "\n",
      "\n",
      " 40%|████      | 4/10 [01:12<01:44, 17.33s/it]\u001b[A\u001b[A\u001b[A\u001b[A\u001b[A\u001b[A\n",
      "\n",
      "\n",
      "\n",
      "\n",
      "\n",
      " 50%|█████     | 5/10 [01:15<01:04, 12.98s/it]\u001b[A\u001b[A\u001b[A\u001b[A\u001b[A\u001b[A\n",
      "\n",
      "\n",
      "\n",
      "\n",
      "\n",
      " 60%|██████    | 6/10 [01:22<00:44, 11.21s/it]\u001b[A\u001b[A\u001b[A\u001b[A\u001b[A\u001b[A\n",
      "\n",
      "\n",
      "\n",
      "\n",
      "\n",
      " 70%|███████   | 7/10 [01:26<00:26,  8.89s/it]\u001b[A\u001b[A\u001b[A\u001b[A\u001b[A\u001b[A\n",
      "\n",
      "\n",
      "\n",
      "\n",
      "\n",
      " 80%|████████  | 8/10 [01:28<00:13,  6.90s/it]\u001b[A\u001b[A\u001b[A\u001b[A\u001b[A\u001b[A\n",
      "\n",
      "\n",
      "\n",
      "\n",
      "\n",
      " 90%|█████████ | 9/10 [01:30<00:05,  5.50s/it]\u001b[A\u001b[A\u001b[A\u001b[A\u001b[A\u001b[A\n",
      "\n",
      "\n",
      "\n",
      "\n",
      "\n",
      "100%|██████████| 10/10 [01:56<00:00, 11.67s/it]\u001b[A\u001b[A\u001b[A\u001b[A\u001b[A\u001b[A\n"
     ]
    }
   ],
   "source": [
    "size_metric = {}\n",
    "for size in tqdm(ibl_size_dict.keys()):\n",
    "    size_metric[size] = np.zeros((2,3))\n",
    "    sample_num = len(model_list) * len(ibl_size_dict[size])\n",
    "    \n",
    "#     print('{} ibl has {} samples'.format(size, sample_num))\n",
    "    for ibl_folder in ibl_size_dict[size]: \n",
    "        for m in model_list:\n",
    "            cur_folder = join(m, join('pattern', ibl_folder))\n",
    "            \n",
    "            gt_path, pred_path, mitsuba_path = join(cur_folder, 'gt.png'), join(cur_folder, 'predict.png'), join(cur_folder, 'mitsuba_shadow.exr')\n",
    "            gt_np, pred_np, mts_np = plt.imread(gt_path)[:,:,0], plt.imread(pred_path)[:,:,0], 1.0 - imageio.imread(mitsuba_path)[:,:,0]\n",
    "            \n",
    "            # gt_np -> mts_np(mse, mses, zncc)\n",
    "            # pred_np -> mts_np(mse, mses, zncc)\n",
    "            # average over all samples\n",
    "            gt_mts, pred_mts = compute_metric(gt_np, pred_np, mts_np)\n",
    "            size_metric[size][0] += gt_mts / sample_num\n",
    "            size_metric[size][1] += pred_mts / sample_num\n",
    "\n",
    "#             np_property(gt_np)\n",
    "#             np_property(pred_np)\n",
    "#             np_property(mts_np)  \n",
    "#             show(gt_np)\n",
    "#             show(pred_np)\n",
    "#             show(mts_np)"
   ]
  },
  {
   "cell_type": "code",
   "execution_count": 121,
   "metadata": {},
   "outputs": [],
   "source": [
    "ori_size_metric = size_metric"
   ]
  },
  {
   "cell_type": "code",
   "execution_count": null,
   "metadata": {},
   "outputs": [],
   "source": [
    "# print(np.sum(num_metric - ori_num_metric))\n",
    "# print(np.sum(size_metric- ori_size_metric))\n",
    "\n",
    "for k in size_metric.keys():\n",
    "    print('diff: ',np.sum(size_metric[k]-ori_size_metric[k]))"
   ]
  },
  {
   "cell_type": "markdown",
   "metadata": {},
   "source": [
    "## Result Plot"
   ]
  },
  {
   "cell_type": "code",
   "execution_count": 88,
   "metadata": {},
   "outputs": [
    {
     "name": "stdout",
     "output_type": "stream",
     "text": [
      "num metric: 26, size metric: 10\n",
      "[1, 3, 5, 7, 9, 11, 13, 15, 17, 19, 21, 23, 25, 27, 29, 31, 33, 35, 37, 39, 41, 43, 45, 47, 49, 51]\n",
      "[0.01, 0.02, 0.03, 0.04, 0.05, 0.06, 0.07, 0.08, 0.09, 0.1]\n",
      "(26, 3)\n",
      "(26, 3)\n",
      "(10, 3)\n",
      "(10, 3)\n"
     ]
    }
   ],
   "source": [
    "print('num metric: {}, size metric: {}'.format(len(num_metric.keys()), len(size_metric.keys())))\n",
    "\n",
    "num_keys, size_keys = list(num_metric.keys()), list(size_metric.keys())\n",
    "    \n",
    "num_keys.sort()\n",
    "size_keys.sort()\n",
    "print(num_keys)\n",
    "print(size_keys)\n",
    "\n",
    "num_gt_mts, num_pred_mts = [], []\n",
    "size_gt_mts,size_pred_mts = [], []\n",
    "\n",
    "for num in num_keys:\n",
    "    num_gt_mts.append(num_metric[num][0])\n",
    "    num_pred_mts.append(num_metric[num][1])\n",
    "    \n",
    "for size in size_keys:\n",
    "    size_gt_mts.append(size_metric[size][0])\n",
    "    size_pred_mts.append(size_metric[size][1])\n",
    "\n",
    "num_gt_mts = np.array(num_gt_mts)\n",
    "num_pred_mts = np.array(num_pred_mts)\n",
    "size_gt_mts = np.array(size_gt_mts)\n",
    "size_pred_mts = np.array(size_pred_mts)\n",
    "\n",
    "print(num_gt_mts.shape)\n",
    "print(num_pred_mts.shape)\n",
    "print(size_gt_mts.shape)\n",
    "print(size_pred_mts.shape)"
   ]
  },
  {
   "cell_type": "code",
   "execution_count": 103,
   "metadata": {},
   "outputs": [
    {
     "data": {
      "image/png": "[encoded data removed]",
      "text/plain": [
       "<Figure size 2880x1440 with 2 Axes>"
      ]
     },
     "metadata": {
      "needs_background": "light"
     },
     "output_type": "display_data"
    },
    {
     "data": {
      "image/png": "[encoded data removed]",
      "text/plain": [
       "<Figure size 2880x1440 with 2 Axes>"
      ]
     },
     "metadata": {
      "needs_background": "light"
     },
     "output_type": "display_data"
    }
   ],
   "source": [
    "def plot_metric(x_values, gt_mts, pred_mts, x_label,save_path=''):\n",
    "    plt.figure(figsize=(40, 20))\n",
    "    plt.title('GT vs Mitsuba')\n",
    "    width = 0.35\n",
    "    \n",
    "    plt.subplot(1,2,1)\n",
    "    ind = np.arange(gt_mts.shape[0]) \n",
    "#     plt.bar(ind + width * 0, gt_mts[:, 0], width, label='GT RMSE')\n",
    "#     plt.bar(ind + width * 1, pred_mts[:, 0], width, label='Pred RMSE')\n",
    "    plt.bar(ind + width * 0, gt_mts[:, 1], width, label='GT RMSE_S')\n",
    "    plt.bar(ind + width * 1, pred_mts[:, 1], width, label='Pred RMSE_S')\n",
    "    plt.xlabel(x_label)\n",
    "    plt.xticks(ind + width/2, x_values)\n",
    "    plt.legend(loc='best')\n",
    "\n",
    "    \n",
    "    plt.subplot(1,2,2)\n",
    "    plt.bar(ind+ width * 0, gt_mts[:, 2], label='GT ZNCC')\n",
    "    plt.bar(ind + width * 1, pred_mts[:, 2], label='Pred ZNCC')\n",
    "    plt.xlabel(x_label)\n",
    "    plt.xticks(ind + width / 2, x_values)\n",
    "    plt.legend(loc='best')\n",
    "\n",
    "    plt.show()\n",
    "    if save_path != '':\n",
    "        plt.savefig(save_path)\n",
    "    \n",
    "    \n",
    "plot_metric(num_keys, num_gt_mts, num_pred_mts, 'Number of IBLs', \"num_metric.png\")\n",
    "# plot_metric(num_keys, num_pred_mts, 'Number of IBLs')\n",
    "plot_metric(size_keys, size_gt_mts, size_pred_mts, 'IBL size', \"size_metric.png\")\n",
    "# plot_metric(size_keys, size_pred_mts, 'IBL size')"
   ]
  },
  {
   "cell_type": "code",
   "execution_count": null,
   "metadata": {},
   "outputs": [],
   "source": [
    "width = 0.35       \n",
    "plt.bar(ind, men_means, width, label='Men')\n",
    "plt.bar(ind + width, women_means, width, label='Women')"
   ]
  }
 ],
 "metadata": {
  "kernelspec": {
   "display_name": "Python 3",
   "language": "python",
   "name": "python3"
  },
  "language_info": {
   "codemirror_mode": {
    "name": "ipython",
    "version": 3
   },
   "file_extension": ".py",
   "mimetype": "text/x-python",
   "name": "python",
   "nbconvert_exporter": "python",
   "pygments_lexer": "ipython3",
   "version": "3.7.7"
  }
 },
 "nbformat": 4,
 "nbformat_minor": 4
}
