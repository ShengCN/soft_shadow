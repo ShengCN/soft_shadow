{
 "cells": [
  {
   "cell_type": "code",
   "execution_count": 3,
   "metadata": {},
   "outputs": [],
   "source": [
    "%load_ext autoreload\n",
    "%autoreload 2\n",
    "%matplotlib inline"
   ]
  },
  {
   "cell_type": "code",
   "execution_count": 4,
   "metadata": {},
   "outputs": [
    {
     "name": "stdout",
     "output_type": "stream",
     "text": [
      "options:  Namespace(file='/home/ysheng/.local/share/jupyter/runtime/kernel-b8ed2ea4-b26b-4e2e-9bf8-550d9b697ad0.json', ibl=None, mask=None, output=None, verbose=False, weight='../weights/new_pattern_11-May-09-59-PM.pt')\n",
      "Device:  cuda:2\n"
     ]
    }
   ],
   "source": [
    "import numpy as np\n",
    "import matplotlib.pyplot as plt\n",
    "import animation as ibl_ani\n",
    "import numbergen as ng\n",
    "import imagen as ig\n",
    "from tqdm import tqdm\n",
    "import matplotlib.animation as animation\n",
    "import os\n",
    "from os.path import join\n",
    "from evaluation import evaluate, mitsuba_render,net_gt, net_render\n",
    "import shutil\n",
    "import imageio \n",
    "import cv2\n",
    "\n",
    "def get_files(folder):\n",
    "    return [os.path.join(folder, f) for f in os.listdir(folder) if os.path.isfile(os.path.join(folder, f))]\n",
    "\n",
    "def get_folders(folder):\n",
    "    return [os.path.join(folder, f) for f in os.listdir(folder) if os.path.isdir(os.path.join(folder, f))]"
   ]
  },
  {
   "cell_type": "code",
   "execution_count": 5,
   "metadata": {},
   "outputs": [],
   "source": [
    "def show(img, title=''):\n",
    "    plt.figure(figsize=(15,10))\n",
    "    plt.imshow(img)\n",
    "    plt.title(title)\n",
    "    plt.show()"
   ]
  },
  {
   "cell_type": "code",
   "execution_count": 6,
   "metadata": {},
   "outputs": [],
   "source": [
    "test_folder = 'animation'\n",
    "os.makedirs(test_folder, exist_ok=True)\n",
    "\n",
    "animation_list = [join(test_folder, '{:03d}'.format(i)) for i in range(1, 30)]"
   ]
  },
  {
   "cell_type": "code",
   "execution_count": 7,
   "metadata": {},
   "outputs": [],
   "source": [
    "def to_normalized_ibl(ibl_np):\n",
    "    \"\"\" pattern -> normalized_ibl\n",
    "    \"\"\"\n",
    "    ibl_np = ibl_np * 3500.0\n",
    "    ibl_np = cv2.resize(ibl_np, (32,16))\n",
    "    ibl_np[6:,:] = 0.0\n",
    "    return ibl_np \n",
    "\n",
    "def save_ibls(output_folder, num, size):\n",
    "    animator = ibl_ani.base_ibl_animator(num, size, verbose=False)\n",
    "    max_iter = 720\n",
    "    \n",
    "    ims = []\n",
    "    fig = plt.figure()\n",
    "\n",
    "    for i in range(max_iter):\n",
    "        img = to_normalized_ibl(animator.animate_ibl(i, max_iter))\n",
    "        fpath = join(output_folder, '{:06d}.png'.format(i))\n",
    "        plt.axis('off')\n",
    "        plt.imsave(fpath, img, cmap='gray')\n",
    "        im = plt.imshow(img, animated=True, cmap='gray')\n",
    "        ims.append([im])\n",
    "    ani = animation.ArtistAnimation(fig, ims, interval=24, blit=True, repeat_delay=1000)\n",
    "    ani.save('{}ibl_ani.mp4'.format(num))\n",
    "\n",
    "def save_uniform_ibls(output_folder, size, num):\n",
    "    def get_ibl(u,v,size, num):\n",
    "        gs = ig.Composite(operator=np.add,\n",
    "                generators=[ig.Gaussian(\n",
    "                            size=size,\n",
    "                            scale=1.0,\n",
    "                            x=(u/512)-0.5,\n",
    "                            y=(1.0 - v/256)-0.5,\n",
    "                            aspect_ratio=1.0,\n",
    "                            ) for i in range(num)],\n",
    "                    xdensity=512)\n",
    "        return gs()\n",
    "    ims = []\n",
    "    fig = plt.figure()\n",
    "    \n",
    "    counter = 0\n",
    "    for i in tqdm(range(0, 512, 8)):\n",
    "        for j in range(0,80,2):\n",
    "            img = to_normalized_ibl(get_ibl(i,j,size, num))\n",
    "            fpath = join(output_folder, '{:06d}.png'.format(counter))\n",
    "            plt.axis('off')\n",
    "            plt.imsave(fpath, img, cmap='gray')\n",
    "            im = plt.imshow(img, cmap='gray')\n",
    "            ims.append([im])\n",
    "            counter += 1\n",
    "        print('finish')\n",
    "\n",
    "    print('finish')\n",
    "    \n",
    "#     ani = animation.ArtistAnimation(fig, ims, interval=24, blit=True, repeat_delay=1000)\n",
    "#     ani.save('{}ibl_ani.mp4'.format(num))"
   ]
  },
  {
   "cell_type": "code",
   "execution_count": 16,
   "metadata": {},
   "outputs": [
    {
     "name": "stderr",
     "output_type": "stream",
     "text": [
      "  2%|▏         | 1/64 [00:00<00:20,  3.10it/s]"
     ]
    },
    {
     "name": "stdout",
     "output_type": "stream",
     "text": [
      "finish\n"
     ]
    },
    {
     "name": "stderr",
     "output_type": "stream",
     "text": [
      "  3%|▎         | 2/64 [00:00<00:18,  3.31it/s]"
     ]
    },
    {
     "name": "stdout",
     "output_type": "stream",
     "text": [
      "finish\n"
     ]
    },
    {
     "name": "stderr",
     "output_type": "stream",
     "text": [
      "  5%|▍         | 3/64 [00:00<00:17,  3.48it/s]"
     ]
    },
    {
     "name": "stdout",
     "output_type": "stream",
     "text": [
      "finish\n"
     ]
    },
    {
     "name": "stderr",
     "output_type": "stream",
     "text": [
      "  6%|▋         | 4/64 [00:01<00:17,  3.50it/s]"
     ]
    },
    {
     "name": "stdout",
     "output_type": "stream",
     "text": [
      "finish\n"
     ]
    },
    {
     "name": "stderr",
     "output_type": "stream",
     "text": [
      "  8%|▊         | 5/64 [00:01<00:16,  3.63it/s]"
     ]
    },
    {
     "name": "stdout",
     "output_type": "stream",
     "text": [
      "finish\n"
     ]
    },
    {
     "name": "stderr",
     "output_type": "stream",
     "text": [
      "  9%|▉         | 6/64 [00:01<00:15,  3.77it/s]"
     ]
    },
    {
     "name": "stdout",
     "output_type": "stream",
     "text": [
      "finish\n"
     ]
    },
    {
     "name": "stderr",
     "output_type": "stream",
     "text": [
      " 11%|█         | 7/64 [00:01<00:14,  3.84it/s]"
     ]
    },
    {
     "name": "stdout",
     "output_type": "stream",
     "text": [
      "finish\n"
     ]
    },
    {
     "name": "stderr",
     "output_type": "stream",
     "text": [
      " 12%|█▎        | 8/64 [00:02<00:14,  3.73it/s]"
     ]
    },
    {
     "name": "stdout",
     "output_type": "stream",
     "text": [
      "finish\n"
     ]
    },
    {
     "name": "stderr",
     "output_type": "stream",
     "text": [
      " 14%|█▍        | 9/64 [00:02<00:14,  3.70it/s]"
     ]
    },
    {
     "name": "stdout",
     "output_type": "stream",
     "text": [
      "finish\n"
     ]
    },
    {
     "name": "stderr",
     "output_type": "stream",
     "text": [
      " 16%|█▌        | 10/64 [00:02<00:14,  3.81it/s]"
     ]
    },
    {
     "name": "stdout",
     "output_type": "stream",
     "text": [
      "finish\n"
     ]
    },
    {
     "name": "stderr",
     "output_type": "stream",
     "text": [
      " 17%|█▋        | 11/64 [00:02<00:14,  3.77it/s]"
     ]
    },
    {
     "name": "stdout",
     "output_type": "stream",
     "text": [
      "finish\n"
     ]
    },
    {
     "name": "stderr",
     "output_type": "stream",
     "text": [
      " 19%|█▉        | 12/64 [00:03<00:13,  3.85it/s]"
     ]
    },
    {
     "name": "stdout",
     "output_type": "stream",
     "text": [
      "finish\n"
     ]
    },
    {
     "name": "stderr",
     "output_type": "stream",
     "text": [
      " 20%|██        | 13/64 [00:03<00:13,  3.85it/s]"
     ]
    },
    {
     "name": "stdout",
     "output_type": "stream",
     "text": [
      "finish\n"
     ]
    },
    {
     "name": "stderr",
     "output_type": "stream",
     "text": [
      " 22%|██▏       | 14/64 [00:03<00:12,  3.92it/s]"
     ]
    },
    {
     "name": "stdout",
     "output_type": "stream",
     "text": [
      "finish\n"
     ]
    },
    {
     "name": "stderr",
     "output_type": "stream",
     "text": [
      " 23%|██▎       | 15/64 [00:03<00:12,  3.81it/s]"
     ]
    },
    {
     "name": "stdout",
     "output_type": "stream",
     "text": [
      "finish\n"
     ]
    },
    {
     "name": "stderr",
     "output_type": "stream",
     "text": [
      " 25%|██▌       | 16/64 [00:04<00:12,  3.78it/s]"
     ]
    },
    {
     "name": "stdout",
     "output_type": "stream",
     "text": [
      "finish\n"
     ]
    },
    {
     "name": "stderr",
     "output_type": "stream",
     "text": [
      " 27%|██▋       | 17/64 [00:04<00:12,  3.80it/s]"
     ]
    },
    {
     "name": "stdout",
     "output_type": "stream",
     "text": [
      "finish\n"
     ]
    },
    {
     "name": "stderr",
     "output_type": "stream",
     "text": [
      " 28%|██▊       | 18/64 [00:04<00:12,  3.68it/s]"
     ]
    },
    {
     "name": "stdout",
     "output_type": "stream",
     "text": [
      "finish\n"
     ]
    },
    {
     "name": "stderr",
     "output_type": "stream",
     "text": [
      " 30%|██▉       | 19/64 [00:05<00:12,  3.65it/s]"
     ]
    },
    {
     "name": "stdout",
     "output_type": "stream",
     "text": [
      "finish\n"
     ]
    },
    {
     "name": "stderr",
     "output_type": "stream",
     "text": [
      " 31%|███▏      | 20/64 [00:05<00:12,  3.51it/s]"
     ]
    },
    {
     "name": "stdout",
     "output_type": "stream",
     "text": [
      "finish\n"
     ]
    },
    {
     "name": "stderr",
     "output_type": "stream",
     "text": [
      " 33%|███▎      | 21/64 [00:05<00:12,  3.47it/s]"
     ]
    },
    {
     "name": "stdout",
     "output_type": "stream",
     "text": [
      "finish\n"
     ]
    },
    {
     "name": "stderr",
     "output_type": "stream",
     "text": [
      " 34%|███▍      | 22/64 [00:05<00:12,  3.36it/s]"
     ]
    },
    {
     "name": "stdout",
     "output_type": "stream",
     "text": [
      "finish\n"
     ]
    },
    {
     "name": "stderr",
     "output_type": "stream",
     "text": [
      " 36%|███▌      | 23/64 [00:06<00:12,  3.28it/s]"
     ]
    },
    {
     "name": "stdout",
     "output_type": "stream",
     "text": [
      "finish\n"
     ]
    },
    {
     "name": "stderr",
     "output_type": "stream",
     "text": [
      " 38%|███▊      | 24/64 [00:06<00:12,  3.24it/s]"
     ]
    },
    {
     "name": "stdout",
     "output_type": "stream",
     "text": [
      "finish\n"
     ]
    },
    {
     "name": "stderr",
     "output_type": "stream",
     "text": [
      " 39%|███▉      | 25/64 [00:06<00:12,  3.20it/s]"
     ]
    },
    {
     "name": "stdout",
     "output_type": "stream",
     "text": [
      "finish\n"
     ]
    },
    {
     "name": "stderr",
     "output_type": "stream",
     "text": [
      " 41%|████      | 26/64 [00:07<00:11,  3.18it/s]"
     ]
    },
    {
     "name": "stdout",
     "output_type": "stream",
     "text": [
      "finish\n"
     ]
    },
    {
     "name": "stderr",
     "output_type": "stream",
     "text": [
      " 42%|████▏     | 27/64 [00:07<00:11,  3.16it/s]"
     ]
    },
    {
     "name": "stdout",
     "output_type": "stream",
     "text": [
      "finish\n"
     ]
    },
    {
     "name": "stderr",
     "output_type": "stream",
     "text": [
      " 44%|████▍     | 28/64 [00:07<00:11,  3.15it/s]"
     ]
    },
    {
     "name": "stdout",
     "output_type": "stream",
     "text": [
      "finish\n"
     ]
    },
    {
     "name": "stderr",
     "output_type": "stream",
     "text": [
      " 45%|████▌     | 29/64 [00:08<00:11,  3.14it/s]"
     ]
    },
    {
     "name": "stdout",
     "output_type": "stream",
     "text": [
      "finish\n"
     ]
    },
    {
     "name": "stderr",
     "output_type": "stream",
     "text": [
      " 47%|████▋     | 30/64 [00:08<00:10,  3.14it/s]"
     ]
    },
    {
     "name": "stdout",
     "output_type": "stream",
     "text": [
      "finish\n"
     ]
    },
    {
     "name": "stderr",
     "output_type": "stream",
     "text": [
      " 48%|████▊     | 31/64 [00:08<00:10,  3.14it/s]"
     ]
    },
    {
     "name": "stdout",
     "output_type": "stream",
     "text": [
      "finish\n"
     ]
    },
    {
     "name": "stderr",
     "output_type": "stream",
     "text": [
      " 50%|█████     | 32/64 [00:09<00:10,  3.13it/s]"
     ]
    },
    {
     "name": "stdout",
     "output_type": "stream",
     "text": [
      "finish\n"
     ]
    },
    {
     "name": "stderr",
     "output_type": "stream",
     "text": [
      " 52%|█████▏    | 33/64 [00:09<00:09,  3.13it/s]"
     ]
    },
    {
     "name": "stdout",
     "output_type": "stream",
     "text": [
      "finish\n"
     ]
    },
    {
     "name": "stderr",
     "output_type": "stream",
     "text": [
      " 53%|█████▎    | 34/64 [00:09<00:09,  3.13it/s]"
     ]
    },
    {
     "name": "stdout",
     "output_type": "stream",
     "text": [
      "finish\n"
     ]
    },
    {
     "name": "stderr",
     "output_type": "stream",
     "text": [
      " 55%|█████▍    | 35/64 [00:10<00:09,  3.13it/s]"
     ]
    },
    {
     "name": "stdout",
     "output_type": "stream",
     "text": [
      "finish\n"
     ]
    },
    {
     "name": "stderr",
     "output_type": "stream",
     "text": [
      " 56%|█████▋    | 36/64 [00:10<00:08,  3.12it/s]"
     ]
    },
    {
     "name": "stdout",
     "output_type": "stream",
     "text": [
      "finish\n"
     ]
    },
    {
     "name": "stderr",
     "output_type": "stream",
     "text": [
      " 58%|█████▊    | 37/64 [00:10<00:08,  3.12it/s]"
     ]
    },
    {
     "name": "stdout",
     "output_type": "stream",
     "text": [
      "finish\n"
     ]
    },
    {
     "name": "stderr",
     "output_type": "stream",
     "text": [
      " 59%|█████▉    | 38/64 [00:11<00:08,  3.12it/s]"
     ]
    },
    {
     "name": "stdout",
     "output_type": "stream",
     "text": [
      "finish\n"
     ]
    },
    {
     "name": "stderr",
     "output_type": "stream",
     "text": [
      " 61%|██████    | 39/64 [00:11<00:08,  3.11it/s]"
     ]
    },
    {
     "name": "stdout",
     "output_type": "stream",
     "text": [
      "finish\n"
     ]
    },
    {
     "name": "stderr",
     "output_type": "stream",
     "text": [
      " 62%|██████▎   | 40/64 [00:11<00:07,  3.11it/s]"
     ]
    },
    {
     "name": "stdout",
     "output_type": "stream",
     "text": [
      "finish\n"
     ]
    },
    {
     "name": "stderr",
     "output_type": "stream",
     "text": [
      " 64%|██████▍   | 41/64 [00:12<00:09,  2.36it/s]"
     ]
    },
    {
     "name": "stdout",
     "output_type": "stream",
     "text": [
      "finish\n"
     ]
    },
    {
     "name": "stderr",
     "output_type": "stream",
     "text": [
      " 66%|██████▌   | 42/64 [00:12<00:08,  2.68it/s]"
     ]
    },
    {
     "name": "stdout",
     "output_type": "stream",
     "text": [
      "finish\n"
     ]
    },
    {
     "name": "stderr",
     "output_type": "stream",
     "text": [
      " 67%|██████▋   | 43/64 [00:12<00:07,  2.98it/s]"
     ]
    },
    {
     "name": "stdout",
     "output_type": "stream",
     "text": [
      "finish\n"
     ]
    },
    {
     "name": "stderr",
     "output_type": "stream",
     "text": [
      " 69%|██████▉   | 44/64 [00:13<00:06,  3.24it/s]"
     ]
    },
    {
     "name": "stdout",
     "output_type": "stream",
     "text": [
      "finish\n"
     ]
    },
    {
     "name": "stderr",
     "output_type": "stream",
     "text": [
      " 70%|███████   | 45/64 [00:13<00:05,  3.44it/s]"
     ]
    },
    {
     "name": "stdout",
     "output_type": "stream",
     "text": [
      "finish\n"
     ]
    },
    {
     "name": "stderr",
     "output_type": "stream",
     "text": [
      " 72%|███████▏  | 46/64 [00:13<00:05,  3.58it/s]"
     ]
    },
    {
     "name": "stdout",
     "output_type": "stream",
     "text": [
      "finish\n"
     ]
    },
    {
     "name": "stderr",
     "output_type": "stream",
     "text": [
      " 73%|███████▎  | 47/64 [00:13<00:04,  3.71it/s]"
     ]
    },
    {
     "name": "stdout",
     "output_type": "stream",
     "text": [
      "finish\n"
     ]
    },
    {
     "name": "stderr",
     "output_type": "stream",
     "text": [
      " 75%|███████▌  | 48/64 [00:14<00:04,  3.80it/s]"
     ]
    },
    {
     "name": "stdout",
     "output_type": "stream",
     "text": [
      "finish\n"
     ]
    },
    {
     "name": "stderr",
     "output_type": "stream",
     "text": [
      " 77%|███████▋  | 49/64 [00:14<00:03,  3.87it/s]"
     ]
    },
    {
     "name": "stdout",
     "output_type": "stream",
     "text": [
      "finish\n"
     ]
    },
    {
     "name": "stderr",
     "output_type": "stream",
     "text": [
      " 78%|███████▊  | 50/64 [00:14<00:03,  3.88it/s]"
     ]
    },
    {
     "name": "stdout",
     "output_type": "stream",
     "text": [
      "finish\n"
     ]
    },
    {
     "name": "stderr",
     "output_type": "stream",
     "text": [
      " 80%|███████▉  | 51/64 [00:14<00:03,  3.92it/s]"
     ]
    },
    {
     "name": "stdout",
     "output_type": "stream",
     "text": [
      "finish\n"
     ]
    },
    {
     "name": "stderr",
     "output_type": "stream",
     "text": [
      " 81%|████████▏ | 52/64 [00:15<00:03,  3.96it/s]"
     ]
    },
    {
     "name": "stdout",
     "output_type": "stream",
     "text": [
      "finish\n"
     ]
    },
    {
     "name": "stderr",
     "output_type": "stream",
     "text": [
      " 83%|████████▎ | 53/64 [00:15<00:02,  3.99it/s]"
     ]
    },
    {
     "name": "stdout",
     "output_type": "stream",
     "text": [
      "finish\n"
     ]
    },
    {
     "name": "stderr",
     "output_type": "stream",
     "text": [
      " 84%|████████▍ | 54/64 [00:15<00:02,  4.00it/s]"
     ]
    },
    {
     "name": "stdout",
     "output_type": "stream",
     "text": [
      "finish\n"
     ]
    },
    {
     "name": "stderr",
     "output_type": "stream",
     "text": [
      " 86%|████████▌ | 55/64 [00:15<00:02,  4.01it/s]"
     ]
    },
    {
     "name": "stdout",
     "output_type": "stream",
     "text": [
      "finish\n"
     ]
    },
    {
     "name": "stderr",
     "output_type": "stream",
     "text": [
      " 88%|████████▊ | 56/64 [00:16<00:01,  4.03it/s]"
     ]
    },
    {
     "name": "stdout",
     "output_type": "stream",
     "text": [
      "finish\n"
     ]
    },
    {
     "name": "stderr",
     "output_type": "stream",
     "text": [
      " 89%|████████▉ | 57/64 [00:16<00:01,  4.03it/s]"
     ]
    },
    {
     "name": "stdout",
     "output_type": "stream",
     "text": [
      "finish\n"
     ]
    },
    {
     "name": "stderr",
     "output_type": "stream",
     "text": [
      " 91%|█████████ | 58/64 [00:16<00:01,  4.04it/s]"
     ]
    },
    {
     "name": "stdout",
     "output_type": "stream",
     "text": [
      "finish\n"
     ]
    },
    {
     "name": "stderr",
     "output_type": "stream",
     "text": [
      " 92%|█████████▏| 59/64 [00:16<00:01,  4.05it/s]"
     ]
    },
    {
     "name": "stdout",
     "output_type": "stream",
     "text": [
      "finish\n"
     ]
    },
    {
     "name": "stderr",
     "output_type": "stream",
     "text": [
      " 94%|█████████▍| 60/64 [00:17<00:00,  4.06it/s]"
     ]
    },
    {
     "name": "stdout",
     "output_type": "stream",
     "text": [
      "finish\n"
     ]
    },
    {
     "name": "stderr",
     "output_type": "stream",
     "text": [
      " 95%|█████████▌| 61/64 [00:17<00:00,  4.06it/s]"
     ]
    },
    {
     "name": "stdout",
     "output_type": "stream",
     "text": [
      "finish\n"
     ]
    },
    {
     "name": "stderr",
     "output_type": "stream",
     "text": [
      " 97%|█████████▋| 62/64 [00:17<00:00,  4.07it/s]"
     ]
    },
    {
     "name": "stdout",
     "output_type": "stream",
     "text": [
      "finish\n"
     ]
    },
    {
     "name": "stderr",
     "output_type": "stream",
     "text": [
      " 98%|█████████▊| 63/64 [00:17<00:00,  4.07it/s]"
     ]
    },
    {
     "name": "stdout",
     "output_type": "stream",
     "text": [
      "finish\n"
     ]
    },
    {
     "name": "stderr",
     "output_type": "stream",
     "text": [
      "100%|██████████| 64/64 [00:18<00:00,  3.53it/s]"
     ]
    },
    {
     "name": "stdout",
     "output_type": "stream",
     "text": [
      "finish\n",
      "finish\n"
     ]
    },
    {
     "name": "stderr",
     "output_type": "stream",
     "text": [
      "\n"
     ]
    },
    {
     "data": {
      "image/png": "[encoded data removed]",
      "text/plain": [
       "<Figure size 432x288 with 1 Axes>"
      ]
     },
     "metadata": {
      "needs_background": "light"
     },
     "output_type": "display_data"
    }
   ],
   "source": [
    "out_folder = './animation/000'\n",
    "os.makedirs(out_folder, exist_ok=True)\n",
    "\n",
    "img = save_uniform_ibls(out_folder, 0.01, 1)"
   ]
  },
  {
   "cell_type": "code",
   "execution_count": 29,
   "metadata": {},
   "outputs": [
    {
     "name": "stderr",
     "output_type": "stream",
     "text": [
      "100%|██████████| 3/3 [02:13<00:00, 44.50s/it]\n"
     ]
    },
    {
     "data": {
      "image/png": "[encoded data removed]",
      "text/plain": [
       "<Figure size 432x288 with 1 Axes>"
      ]
     },
     "metadata": {
      "needs_background": "light"
     },
     "output_type": "display_data"
    },
    {
     "data": {
      "image/png": "[encoded data removed]",
      "text/plain": [
       "<Figure size 432x288 with 1 Axes>"
      ]
     },
     "metadata": {
      "needs_background": "light"
     },
     "output_type": "display_data"
    },
    {
     "data": {
      "image/png": "[encoded data removed]",
      "text/plain": [
       "<Figure size 432x288 with 1 Axes>"
      ]
     },
     "metadata": {
      "needs_background": "light"
     },
     "output_type": "display_data"
    }
   ],
   "source": [
    "animation_list = [join(test_folder, '001'), join(test_folder, '003'), join(test_folder, '020')]\n",
    "\n",
    "for folder in tqdm(animation_list):\n",
    "    os.makedirs(folder, exist_ok=True)\n",
    "    folder_name = os.path.basename(folder)\n",
    "    num = int(folder_name)\n",
    "    save_ibls(folder, num, 0.01)"
   ]
  },
  {
   "cell_type": "markdown",
   "metadata": {},
   "source": [
    "## Prepare Mitsuba animation"
   ]
  },
  {
   "cell_type": "code",
   "execution_count": 52,
   "metadata": {},
   "outputs": [
    {
     "name": "stderr",
     "output_type": "stream",
     "text": [
      "\n",
      "\n",
      "  0%|          | 0/1 [00:00<?, ?it/s]\u001b[A\u001b[A"
     ]
    },
    {
     "name": "stdout",
     "output_type": "stream",
     "text": [
      "update bash\n",
      "animation/001 there are 720 ibls\n"
     ]
    },
    {
     "name": "stderr",
     "output_type": "stream",
     "text": [
      "  0%|          | 0/1 [00:06<?, ?it/s]\n"
     ]
    },
    {
     "ename": "KeyboardInterrupt",
     "evalue": "",
     "output_type": "error",
     "traceback": [
      "\u001b[0;31m---------------------------------------------------------------------------\u001b[0m",
      "\u001b[0;31mKeyboardInterrupt\u001b[0m                         Traceback (most recent call last)",
      "\u001b[0;32m<ipython-input-52-928c96f64f6a>\u001b[0m in \u001b[0;36m<module>\u001b[0;34m\u001b[0m\n\u001b[1;32m     38\u001b[0m                 \u001b[0mrender_final\u001b[0m\u001b[0;34m=\u001b[0m\u001b[0;32mTrue\u001b[0m\u001b[0;34m\u001b[0m\u001b[0;34m\u001b[0m\u001b[0m\n\u001b[1;32m     39\u001b[0m \u001b[0;34m\u001b[0m\u001b[0m\n\u001b[0;32m---> 40\u001b[0;31m             \u001b[0mmitsuba_render\u001b[0m\u001b[0;34m(\u001b[0m\u001b[0mmask_file\u001b[0m\u001b[0;34m,\u001b[0m \u001b[0mibl\u001b[0m\u001b[0;34m,\u001b[0m \u001b[0mfinal_out_file\u001b[0m\u001b[0;34m,\u001b[0m \u001b[0mshadow_out_file\u001b[0m\u001b[0;34m,\u001b[0m \u001b[0mupdate_cam_param\u001b[0m\u001b[0;34m=\u001b[0m\u001b[0;32mTrue\u001b[0m\u001b[0;34m,\u001b[0m\u001b[0mreal_ibl\u001b[0m\u001b[0;34m=\u001b[0m\u001b[0;32mFalse\u001b[0m\u001b[0;34m,\u001b[0m \u001b[0mwrite_cmd\u001b[0m\u001b[0;34m=\u001b[0m\u001b[0;32mTrue\u001b[0m\u001b[0;34m,\u001b[0m \u001b[0mskip\u001b[0m\u001b[0;34m=\u001b[0m\u001b[0;32mFalse\u001b[0m\u001b[0;34m,\u001b[0m \u001b[0mcmd_path\u001b[0m\u001b[0;34m=\u001b[0m\u001b[0mcmd_path\u001b[0m\u001b[0;34m,\u001b[0m \u001b[0mfinal\u001b[0m\u001b[0;34m=\u001b[0m\u001b[0mrender_final\u001b[0m\u001b[0;34m)\u001b[0m\u001b[0;34m\u001b[0m\u001b[0;34m\u001b[0m\u001b[0m\n\u001b[0m\u001b[1;32m     41\u001b[0m \u001b[0;34m\u001b[0m\u001b[0m\n\u001b[1;32m     42\u001b[0m         \u001b[0mpbar\u001b[0m\u001b[0;34m.\u001b[0m\u001b[0mupdate\u001b[0m\u001b[0;34m(\u001b[0m\u001b[0;34m)\u001b[0m\u001b[0;34m\u001b[0m\u001b[0;34m\u001b[0m\u001b[0m\n",
      "\u001b[0;32m~/Documents/adobe_shadow_net/evaluation/evaluation.py\u001b[0m in \u001b[0;36mmitsuba_render\u001b[0;34m(mask_file, ibl_file, final_out_file, shadow_out_file, final, update_cam_param, real_ibl, write_cmd, skip, cmd_path)\u001b[0m\n\u001b[1;32m    121\u001b[0m     \"\"\"\n\u001b[1;32m    122\u001b[0m     \u001b[0mfinal_out_folder\u001b[0m\u001b[0;34m,\u001b[0m \u001b[0mshadow_out_folder\u001b[0m \u001b[0;34m=\u001b[0m \u001b[0mos\u001b[0m\u001b[0;34m.\u001b[0m\u001b[0mpath\u001b[0m\u001b[0;34m.\u001b[0m\u001b[0mdirname\u001b[0m\u001b[0;34m(\u001b[0m\u001b[0mfinal_out_file\u001b[0m\u001b[0;34m)\u001b[0m\u001b[0;34m,\u001b[0m \u001b[0mos\u001b[0m\u001b[0;34m.\u001b[0m\u001b[0mpath\u001b[0m\u001b[0;34m.\u001b[0m\u001b[0mdirname\u001b[0m\u001b[0;34m(\u001b[0m\u001b[0mshadow_out_file\u001b[0m\u001b[0;34m)\u001b[0m\u001b[0;34m\u001b[0m\u001b[0;34m\u001b[0m\u001b[0m\n\u001b[0;32m--> 123\u001b[0;31m     \u001b[0mcam_world_dict\u001b[0m \u001b[0;34m=\u001b[0m \u001b[0mparse_camera_world\u001b[0m\u001b[0;34m(\u001b[0m\u001b[0mupdate_cam_param\u001b[0m\u001b[0;34m)\u001b[0m\u001b[0;34m\u001b[0m\u001b[0;34m\u001b[0m\u001b[0m\n\u001b[0m\u001b[1;32m    124\u001b[0m \u001b[0;34m\u001b[0m\u001b[0m\n\u001b[1;32m    125\u001b[0m     \u001b[0;31m# parse camera parameters, human matrix\u001b[0m\u001b[0;34m\u001b[0m\u001b[0;34m\u001b[0m\u001b[0;34m\u001b[0m\u001b[0m\n",
      "\u001b[0;32m~/Documents/adobe_shadow_net/evaluation/evaluation.py\u001b[0m in \u001b[0;36mparse_camera_world\u001b[0;34m(update)\u001b[0m\n\u001b[1;32m     73\u001b[0m                 \u001b[0mlines\u001b[0m \u001b[0;34m=\u001b[0m \u001b[0;34m[\u001b[0m\u001b[0;34m]\u001b[0m\u001b[0;34m\u001b[0m\u001b[0;34m\u001b[0m\u001b[0m\n\u001b[1;32m     74\u001b[0m                 \u001b[0;32mwith\u001b[0m \u001b[0mopen\u001b[0m\u001b[0;34m(\u001b[0m\u001b[0mcam_world\u001b[0m\u001b[0;34m)\u001b[0m \u001b[0;32mas\u001b[0m \u001b[0mf\u001b[0m\u001b[0;34m:\u001b[0m\u001b[0;34m\u001b[0m\u001b[0;34m\u001b[0m\u001b[0m\n\u001b[0;32m---> 75\u001b[0;31m                     \u001b[0;32mfor\u001b[0m \u001b[0ml\u001b[0m \u001b[0;32min\u001b[0m \u001b[0mf\u001b[0m\u001b[0;34m:\u001b[0m\u001b[0;34m\u001b[0m\u001b[0;34m\u001b[0m\u001b[0m\n\u001b[0m\u001b[1;32m     76\u001b[0m                         \u001b[0mlines\u001b[0m\u001b[0;34m.\u001b[0m\u001b[0mappend\u001b[0m\u001b[0;34m(\u001b[0m\u001b[0ml\u001b[0m\u001b[0;34m.\u001b[0m\u001b[0mrstrip\u001b[0m\u001b[0;34m(\u001b[0m\u001b[0;34m'\\n'\u001b[0m\u001b[0;34m)\u001b[0m\u001b[0;34m)\u001b[0m\u001b[0;34m\u001b[0m\u001b[0;34m\u001b[0m\u001b[0m\n\u001b[1;32m     77\u001b[0m \u001b[0;34m\u001b[0m\u001b[0m\n",
      "\u001b[0;32m~/anaconda3/envs/python3/lib/python3.7/codecs.py\u001b[0m in \u001b[0;36mdecode\u001b[0;34m(self, input, final)\u001b[0m\n\u001b[1;32m    317\u001b[0m         \u001b[0;32mraise\u001b[0m \u001b[0mNotImplementedError\u001b[0m\u001b[0;34m\u001b[0m\u001b[0;34m\u001b[0m\u001b[0m\n\u001b[1;32m    318\u001b[0m \u001b[0;34m\u001b[0m\u001b[0m\n\u001b[0;32m--> 319\u001b[0;31m     \u001b[0;32mdef\u001b[0m \u001b[0mdecode\u001b[0m\u001b[0;34m(\u001b[0m\u001b[0mself\u001b[0m\u001b[0;34m,\u001b[0m \u001b[0minput\u001b[0m\u001b[0;34m,\u001b[0m \u001b[0mfinal\u001b[0m\u001b[0;34m=\u001b[0m\u001b[0;32mFalse\u001b[0m\u001b[0;34m)\u001b[0m\u001b[0;34m:\u001b[0m\u001b[0;34m\u001b[0m\u001b[0;34m\u001b[0m\u001b[0m\n\u001b[0m\u001b[1;32m    320\u001b[0m         \u001b[0;31m# decode input (taking the buffer into account)\u001b[0m\u001b[0;34m\u001b[0m\u001b[0;34m\u001b[0m\u001b[0;34m\u001b[0m\u001b[0m\n\u001b[1;32m    321\u001b[0m         \u001b[0mdata\u001b[0m \u001b[0;34m=\u001b[0m \u001b[0mself\u001b[0m\u001b[0;34m.\u001b[0m\u001b[0mbuffer\u001b[0m \u001b[0;34m+\u001b[0m \u001b[0minput\u001b[0m\u001b[0;34m\u001b[0m\u001b[0;34m\u001b[0m\u001b[0m\n",
      "\u001b[0;31mKeyboardInterrupt\u001b[0m: "
     ]
    }
   ],
   "source": [
    "ibl_animation_folder = 'animation'\n",
    "# animation_folders = get_folders(ibl_animation_folder)\n",
    "# animation_folders = [join(ibl_animation_folder, '001'), join(ibl_animation_folder, '003'), join(ibl_animation_folder, '020')]\n",
    "animation_folders = [join(ibl_animation_folder, '001')]\n",
    "animation_folders.sort()\n",
    "\n",
    "#todo\n",
    "cmd_path = 'mistuba_animation.sh'\n",
    "if os.path.exists(cmd_path):\n",
    "    print('update bash')\n",
    "    os.remove(cmd_path)\n",
    "\n",
    "# mask_file = '/home/ysheng/Dataset/new_dataset/cache/mask/notsimulated_combine_male_short_outfits_genesis8_armani_casualoutfit03_Base_Pose_Standing_A/pitch_15_rot_0_mask.png'\n",
    "mask_file = '/home/ysheng/Dataset/new_dataset/cache/test_mask/simulated_combine_male_genesis8_matias_hywavybob_dsoset_Base_Pose_Walking_B/pitch_35_rot_0_mask.png'\n",
    "\n",
    "mask_name = os.path.basename(os.path.dirname(mask_file))\n",
    "ani_out = '/home/ysheng/Dataset/eval_animation'\n",
    "cur_out = join(ani_out, mask_name)\n",
    "os.makedirs(cur_out, exist_ok=True)\n",
    "\n",
    "dbg, dbg_num = False, 1\n",
    "with tqdm(total=len(animation_folders)) as pbar:\n",
    "    for cur_ani_folder in animation_folders:\n",
    "        ibls = [join(cur_ani_folder, f) for f in os.listdir(cur_ani_folder) if f.find('png') != -1]\n",
    "        print('{} there are {} ibls'.format(cur_ani_folder, len(ibls)))\n",
    "        ibls.sort()\n",
    "        \n",
    "        ibl_name = os.path.basename(cur_ani_folder)\n",
    "        cur_ani_out_folder = join(cur_out, ibl_name)\n",
    "        os.makedirs(cur_ani_out_folder, exist_ok=True)\n",
    "        \n",
    "        for i, ibl in enumerate(ibls):\n",
    "            prefix = os.path.splitext(os.path.basename(ibl))[0]\n",
    "            \n",
    "            final_out_file, shadow_out_file = join(cur_ani_out_folder, prefix + '_final.exr'), join(cur_ani_out_folder, prefix + '_shadow.exr')\n",
    "            render_final = False\n",
    "            if i == 0:\n",
    "                render_final=True\n",
    "                \n",
    "            mitsuba_render(mask_file, ibl, final_out_file, shadow_out_file, update_cam_param=True,real_ibl=False, write_cmd=True, skip=False, cmd_path=cmd_path, final=render_final)\n",
    "            \n",
    "        pbar.update()\n",
    "        if dbg and pbar.n >= dbg_num:\n",
    "            break"
   ]
  },
  {
   "cell_type": "markdown",
   "metadata": {},
   "source": [
    "## Prepare Net animation"
   ]
  },
  {
   "cell_type": "code",
   "execution_count": 18,
   "metadata": {},
   "outputs": [
    {
     "name": "stdout",
     "output_type": "stream",
     "text": [
      "options:  Namespace(file='/home/ysheng/.local/share/jupyter/runtime/kernel-b8ed2ea4-b26b-4e2e-9bf8-550d9b697ad0.json', ibl=None, mask=None, output=None, verbose=False, weight='../weights/new_pattern_11-May-09-59-PM.pt')\n",
      "Device:  cuda:2\n"
     ]
    },
    {
     "name": "stderr",
     "output_type": "stream",
     "text": [
      "  0%|          | 0/1 [00:00<?, ?it/s]"
     ]
    },
    {
     "name": "stdout",
     "output_type": "stream",
     "text": [
      "animation/000 there are 2560 ibls\n"
     ]
    },
    {
     "name": "stderr",
     "output_type": "stream",
     "text": [
      "100%|██████████| 1/1 [00:39<00:00, 39.08s/it]\n"
     ]
    }
   ],
   "source": [
    "ibl_animation_folder = 'animation'\n",
    "# animation_folders = get_folders(ibl_animation_folder)\n",
    "# animation_folders = [join(ibl_animation_folder, '001'), join(ibl_animation_folder, '003'), join(ibl_animation_folder, '020')]\n",
    "animation_folders = [join(ibl_animation_folder, '000')]\n",
    "animation_folders.sort()\n",
    "\n",
    "mask_file = '/home/ysheng/Dataset/new_dataset/cache/test_mask/simulated_combine_male_genesis8_matias_hywavybob_dsoset_Base_Pose_Walking_B/pitch_35_rot_0_mask.png'\n",
    "mask_name = os.path.basename(os.path.dirname(mask_file))\n",
    "ani_out = '/home/ysheng/Dataset/eval_animation'\n",
    "cur_out = join(ani_out, mask_name)\n",
    "os.makedirs(cur_out, exist_ok=True)\n",
    "\n",
    "dbg, dbg_num = False, 1\n",
    "with tqdm(total=len(animation_folders)) as pbar:\n",
    "    for cur_ani_folder in animation_folders:\n",
    "        ibls = [join(cur_ani_folder, f) for f in os.listdir(cur_ani_folder) if f.find('png') != -1]\n",
    "        print('{} there are {} ibls'.format(cur_ani_folder, len(ibls)))\n",
    "        ibls.sort()\n",
    "        \n",
    "        ibl_name = os.path.basename(cur_ani_folder)\n",
    "        cur_ani_out_folder = join(cur_out, ibl_name)\n",
    "        os.makedirs(cur_ani_out_folder, exist_ok=True)\n",
    "        \n",
    "        for i, ibl in enumerate(ibls):\n",
    "            prefix = os.path.splitext(os.path.basename(ibl))[0]\n",
    "            out_file = join(cur_ani_out_folder, prefix + '_net.png')\n",
    "            net_render(mask_file, ibl, out_file, save_npy=False)\n",
    "            \n",
    "        pbar.update()\n",
    "        if dbg and pbar.n >= dbg_num:\n",
    "            break"
   ]
  },
  {
   "cell_type": "code",
   "execution_count": 8,
   "metadata": {},
   "outputs": [],
   "source": [
    "def make_animation(out_fname, render_files, ibl_files):\n",
    "    ims = []\n",
    "    fig = plt.figure()\n",
    "    render_files.sort()\n",
    "    ibl_files.sort()\n",
    "    \n",
    "    for i,f in enumerate(tqdm(render_files)):\n",
    "        plt.axis('off')\n",
    "        img = plt.imread(f)\n",
    "        \n",
    "        # dbg\n",
    "        img[np.where(img > 1e-2)] = 1.0\n",
    "        \n",
    "        ibl = plt.imread(ibl_files[i])\n",
    "        w,h = 64, 32\n",
    "        ibl = cv2.resize(ibl, (w, h))\n",
    "        \n",
    "#         cv2.normalize(ibl, ibl, 0.0, 50.0, cv2.NORM_MINMAX)\n",
    "        ibl = np.clip(ibl, 0.0, 1.0)\n",
    "        c = img.shape[2]\n",
    "        img[:h,:w] = ibl[:,:, :c]\n",
    "        im = plt.imshow(img, animated=True)\n",
    "        ims.append([im])\n",
    "        \n",
    "    ani = animation.ArtistAnimation(fig, ims, interval=24, blit=True, repeat_delay=1000)\n",
    "    ani.save(out_fname)\n",
    "\n",
    "dbg = True\n",
    "search_str = {'mitsuba':'shadow.png', 'net':'net.png'}\n",
    "def render_animations(render_out_folder, ani_out_folder, typename='mitsuba'):\n",
    "    models = get_folders(render_out_folder)\n",
    "    ori_ibl_folder = 'animation/'\n",
    "    \n",
    "    with tqdm(total=len(models)) as pbar:\n",
    "        for model in models:\n",
    "            ibl_folds = get_folders(model)\n",
    "            print('{}: {}'.format(model, len(ibl_folds)))\n",
    "\n",
    "            for ibl in tqdm(ibl_folds):\n",
    "                model_name, ibl_name = os.path.basename(model), os.path.basename(ibl)\n",
    "                \n",
    "                ibl_files = get_files(join(ori_ibl_folder, ibl_name))\n",
    "                mts_result_files = [join(ibl, f) for f in os.listdir(ibl) if (f.find(search_str['mitsuba']) != -1)]\n",
    "                net_result_files = [join(ibl, f) for f in os.listdir(ibl) if (f.find(search_str['net']) != -1)]\n",
    "                mts_out_fname = '{}_{}_mitsuab.mp4'.format(model_name, ibl_name)\n",
    "                net_out_fname = '{}_{}_net.mp4'.format(model_name, ibl_name)\n",
    "                \n",
    "                mts_out_fname = join(ani_out_folder, mts_out_fname)\n",
    "                net_out_fname = join(ani_out_folder, net_out_fname)\n",
    "                \n",
    "                if typename == 'mitsuba':\n",
    "                    make_animation(mts_out_fname, mts_result_files, ibl_files)\n",
    "                \n",
    "                if typename == 'net':\n",
    "                    make_animation(net_out_fname, net_result_files, ibl_files)\n",
    "                \n",
    "                if typename == 'both':\n",
    "                    make_animation(net_out_fname, net_result_files, ibl_files)\n",
    "                    make_animation(mts_out_fname, mts_result_files, ibl_files)\n",
    "                \n",
    "                if dbg:\n",
    "                    break\n",
    "            if dbg:\n",
    "                break\n",
    "                \n",
    "            pbar.update()\n",
    "            "
   ]
  },
  {
   "cell_type": "markdown",
   "metadata": {},
   "source": [
    "## Render Mitsuba and Net Animations "
   ]
  },
  {
   "cell_type": "code",
   "execution_count": 9,
   "metadata": {},
   "outputs": [
    {
     "name": "stderr",
     "output_type": "stream",
     "text": [
      "  0%|          | 0/1 [00:00<?, ?it/s]\n",
      "  0%|          | 0/1 [00:00<?, ?it/s]\u001b[A\n",
      "\n",
      "  0%|          | 0/2560 [00:00<?, ?it/s]\u001b[A\u001b[A"
     ]
    },
    {
     "name": "stdout",
     "output_type": "stream",
     "text": [
      "/home/ysheng/Dataset/eval_animation/simulated_combine_male_genesis8_matias_hywavybob_dsoset_Base_Pose_Walking_B: 1\n"
     ]
    },
    {
     "name": "stderr",
     "output_type": "stream",
     "text": [
      "\n",
      "\n",
      "  0%|          | 5/2560 [00:00<01:41, 25.25it/s]\u001b[A\u001b[A\n",
      "\n",
      "  0%|          | 9/2560 [00:00<01:31, 27.90it/s]\u001b[A\u001b[A\n",
      "\n",
      "  1%|          | 14/2560 [00:00<01:19, 31.85it/s]\u001b[A\u001b[A\n",
      "\n",
      "  1%|          | 17/2560 [00:00<01:30, 28.05it/s]\u001b[A\u001b[A\n",
      "\n",
      "  1%|          | 21/2560 [00:00<01:25, 29.53it/s]\u001b[A\u001b[A\n",
      "\n",
      "  1%|          | 26/2560 [00:00<01:26, 29.20it/s]\u001b[A\u001b[A\n",
      "\n",
      "  1%|          | 30/2560 [00:00<01:20, 31.57it/s]\u001b[A\u001b[A\n",
      "\n",
      "  1%|▏         | 36/2560 [00:01<01:10, 35.69it/s]\u001b[A\u001b[A\n",
      "\n",
      "  2%|▏         | 41/2560 [00:01<01:05, 38.62it/s]\u001b[A\u001b[A\n",
      "\n",
      "  2%|▏         | 46/2560 [00:01<01:05, 38.32it/s]\u001b[A\u001b[A\n",
      "\n",
      "  2%|▏         | 50/2560 [00:01<01:08, 36.73it/s]\u001b[A\u001b[A\n",
      "\n",
      "  2%|▏         | 54/2560 [00:01<01:06, 37.60it/s]\u001b[A\u001b[A\n",
      "\n",
      "  2%|▏         | 60/2560 [00:01<00:59, 41.73it/s]\u001b[A\u001b[A\n",
      "\n",
      "  3%|▎         | 65/2560 [00:01<00:56, 43.87it/s]\u001b[A\u001b[A\n",
      "\n",
      "  3%|▎         | 70/2560 [00:01<01:01, 40.69it/s]\u001b[A\u001b[A\n",
      "\n",
      "  3%|▎         | 75/2560 [00:02<01:04, 38.75it/s]\u001b[A\u001b[A\n",
      "\n",
      "  3%|▎         | 80/2560 [00:02<01:04, 38.41it/s]\u001b[A\u001b[A\n",
      "\n",
      "  3%|▎         | 84/2560 [00:02<01:04, 38.26it/s]\u001b[A\u001b[A\n",
      "\n",
      "  3%|▎         | 88/2560 [00:02<01:06, 36.97it/s]\u001b[A\u001b[A\n",
      "\n",
      "  4%|▎         | 92/2560 [00:02<01:16, 32.32it/s]\u001b[A\u001b[A\n",
      "\n",
      "  4%|▍         | 96/2560 [00:02<01:21, 30.17it/s]\u001b[A\u001b[A\n",
      "\n",
      "  4%|▍         | 100/2560 [00:02<01:31, 26.88it/s]\u001b[A\u001b[A\n",
      "\n",
      "  4%|▍         | 103/2560 [00:02<01:30, 27.23it/s]\u001b[A\u001b[A\n",
      "\n",
      "  4%|▍         | 106/2560 [00:03<01:27, 27.90it/s]\u001b[A\u001b[A\n",
      "\n",
      "  4%|▍         | 110/2560 [00:03<01:19, 30.64it/s]\u001b[A\u001b[A\n",
      "\n",
      "  4%|▍         | 115/2560 [00:03<01:12, 33.72it/s]\u001b[A\u001b[A\n",
      "\n",
      "  5%|▍         | 120/2560 [00:03<01:07, 36.33it/s]\u001b[A\u001b[A\n",
      "\n",
      "  5%|▍         | 126/2560 [00:03<01:00, 40.13it/s]\u001b[A\u001b[A\n",
      "\n",
      "  5%|▌         | 131/2560 [00:03<01:02, 38.93it/s]\u001b[A\u001b[A\n",
      "\n",
      "  5%|▌         | 136/2560 [00:03<01:04, 37.66it/s]\u001b[A\u001b[A\n",
      "\n",
      "  6%|▌         | 141/2560 [00:03<01:03, 38.08it/s]\u001b[A\u001b[A\n",
      "\n",
      "  6%|▌         | 145/2560 [00:04<01:10, 34.48it/s]\u001b[A\u001b[A\n",
      "\n",
      "  6%|▌         | 149/2560 [00:04<01:13, 32.79it/s]\u001b[A\u001b[A\n",
      "\n",
      "  6%|▌         | 153/2560 [00:04<01:20, 30.08it/s]\u001b[A\u001b[A\n",
      "\n",
      "  6%|▌         | 157/2560 [00:04<01:18, 30.51it/s]\u001b[A\u001b[A\n",
      "\n",
      "  6%|▋         | 161/2560 [00:04<01:17, 30.89it/s]\u001b[A\u001b[A\n",
      "\n",
      "  6%|▋         | 165/2560 [00:04<01:15, 31.57it/s]\u001b[A\u001b[A\n",
      "\n",
      "  7%|▋         | 169/2560 [00:04<01:15, 31.82it/s]\u001b[A\u001b[A\n",
      "\n",
      "  7%|▋         | 173/2560 [00:04<01:10, 33.83it/s]\u001b[A\u001b[A\n",
      "\n",
      "  7%|▋         | 177/2560 [00:05<01:09, 34.35it/s]\u001b[A\u001b[A\n",
      "\n",
      "  7%|▋         | 181/2560 [00:05<01:12, 32.95it/s]\u001b[A\u001b[A\n",
      "\n",
      "  7%|▋         | 185/2560 [00:05<01:19, 29.72it/s]\u001b[A\u001b[A\n",
      "\n",
      "  7%|▋         | 189/2560 [00:05<01:23, 28.54it/s]\u001b[A\u001b[A\n",
      "\n",
      "  8%|▊         | 192/2560 [00:05<01:25, 27.73it/s]\u001b[A\u001b[A\n",
      "\n",
      "  8%|▊         | 195/2560 [00:05<01:27, 27.02it/s]\u001b[A\u001b[A\n",
      "\n",
      "  8%|▊         | 198/2560 [00:05<01:25, 27.47it/s]\u001b[A\u001b[A\n",
      "\n",
      "  8%|▊         | 201/2560 [00:05<01:24, 27.98it/s]\u001b[A\u001b[A\n",
      "\n",
      "  8%|▊         | 205/2560 [00:06<01:20, 29.21it/s]\u001b[A\u001b[A\n",
      "\n",
      "  8%|▊         | 211/2560 [00:06<01:09, 33.97it/s]\u001b[A\u001b[A\n",
      "\n",
      "  8%|▊         | 215/2560 [00:06<01:07, 34.97it/s]\u001b[A\u001b[A\n",
      "\n",
      "  9%|▊         | 220/2560 [00:06<01:05, 35.74it/s]\u001b[A\u001b[A\n",
      "\n",
      "  9%|▉         | 224/2560 [00:06<01:07, 34.44it/s]\u001b[A\u001b[A\n",
      "\n",
      "  9%|▉         | 228/2560 [00:06<01:10, 33.05it/s]\u001b[A\u001b[A\n",
      "\n",
      "  9%|▉         | 232/2560 [00:06<01:13, 31.78it/s]\u001b[A\u001b[A\n",
      "\n",
      "  9%|▉         | 236/2560 [00:06<01:15, 30.90it/s]\u001b[A\u001b[A\n",
      "\n",
      "  9%|▉         | 240/2560 [00:07<01:21, 28.63it/s]\u001b[A\u001b[A\n",
      "\n",
      " 10%|▉         | 244/2560 [00:07<01:16, 30.17it/s]\u001b[A\u001b[A\n",
      "\n",
      " 10%|▉         | 248/2560 [00:07<01:15, 30.74it/s]\u001b[A\u001b[A\n",
      "\n",
      " 10%|▉         | 253/2560 [00:07<01:08, 33.86it/s]\u001b[A\u001b[A\n",
      "\n",
      " 10%|█         | 260/2560 [00:07<00:58, 39.59it/s]\u001b[A\u001b[A\n",
      "\n",
      " 10%|█         | 266/2560 [00:07<00:53, 42.96it/s]\u001b[A\u001b[A\n",
      "\n",
      " 11%|█         | 271/2560 [00:07<00:54, 41.85it/s]\u001b[A\u001b[A\n",
      "\n",
      " 11%|█         | 276/2560 [00:07<00:54, 41.78it/s]\u001b[A\u001b[A\n",
      "\n",
      " 11%|█         | 281/2560 [00:08<00:58, 39.19it/s]\u001b[A\u001b[A\n",
      "\n",
      " 11%|█         | 286/2560 [00:08<00:59, 38.47it/s]\u001b[A\u001b[A\n",
      "\n",
      " 11%|█▏        | 290/2560 [00:08<00:58, 38.69it/s]\u001b[A\u001b[A\n",
      "\n",
      " 11%|█▏        | 294/2560 [00:08<01:00, 37.64it/s]\u001b[A\u001b[A\n",
      "\n",
      " 12%|█▏        | 299/2560 [00:08<00:59, 37.97it/s]\u001b[A\u001b[A\n",
      "\n",
      " 12%|█▏        | 303/2560 [00:08<01:04, 34.77it/s]\u001b[A\u001b[A\n",
      "\n",
      " 12%|█▏        | 307/2560 [00:08<01:15, 29.68it/s]\u001b[A\u001b[A\n",
      "\n",
      " 12%|█▏        | 311/2560 [00:09<01:17, 28.84it/s]\u001b[A\u001b[A\n",
      "\n",
      " 12%|█▏        | 315/2560 [00:09<01:16, 29.45it/s]\u001b[A\u001b[A\n",
      "\n",
      " 12%|█▏        | 319/2560 [00:09<01:14, 30.17it/s]\u001b[A\u001b[A\n",
      "\n",
      " 13%|█▎        | 323/2560 [00:09<01:13, 30.24it/s]\u001b[A\u001b[A\n",
      "\n",
      " 13%|█▎        | 327/2560 [00:09<01:09, 32.11it/s]\u001b[A\u001b[A\n",
      "\n",
      " 13%|█▎        | 334/2560 [00:09<00:58, 38.12it/s]\u001b[A\u001b[A\n",
      "\n",
      " 14%|█▎        | 346/2560 [00:09<00:47, 46.82it/s]\u001b[A\u001b[A\n",
      "\n",
      " 14%|█▍        | 353/2560 [00:09<00:48, 45.59it/s]\u001b[A\u001b[A\n",
      "\n",
      " 14%|█▍        | 359/2560 [00:10<00:51, 42.69it/s]\u001b[A\u001b[A\n",
      "\n",
      " 14%|█▍        | 364/2560 [00:10<00:58, 37.55it/s]\u001b[A\u001b[A\n",
      "\n",
      " 14%|█▍        | 369/2560 [00:10<01:05, 33.43it/s]\u001b[A\u001b[A\n",
      "\n",
      " 15%|█▍        | 373/2560 [00:10<01:06, 32.90it/s]\u001b[A\u001b[A\n",
      "\n",
      " 15%|█▍        | 377/2560 [00:10<01:03, 34.58it/s]\u001b[A\u001b[A\n",
      "\n",
      " 15%|█▍        | 382/2560 [00:10<01:00, 36.07it/s]\u001b[A\u001b[A\n",
      "\n",
      " 15%|█▌        | 386/2560 [00:10<01:04, 33.84it/s]\u001b[A\u001b[A\n",
      "\n",
      " 15%|█▌        | 390/2560 [00:11<01:13, 29.40it/s]\u001b[A\u001b[A\n",
      "\n",
      " 15%|█▌        | 396/2560 [00:11<01:03, 34.09it/s]\u001b[A\u001b[A\n",
      "\n",
      " 16%|█▌        | 401/2560 [00:11<00:59, 36.55it/s]\u001b[A\u001b[A\n",
      "\n",
      " 16%|█▌        | 406/2560 [00:11<00:57, 37.41it/s]\u001b[A\u001b[A\n",
      "\n",
      " 16%|█▌        | 410/2560 [00:11<01:01, 34.95it/s]\u001b[A\u001b[A\n",
      "\n",
      " 16%|█▌        | 414/2560 [00:11<01:09, 30.80it/s]\u001b[A\u001b[A\n",
      "\n",
      " 16%|█▋        | 418/2560 [00:11<01:10, 30.47it/s]\u001b[A\u001b[A\n",
      "\n",
      " 16%|█▋        | 422/2560 [00:12<01:10, 30.18it/s]\u001b[A\u001b[A\n",
      "\n",
      " 17%|█▋        | 426/2560 [00:12<01:23, 25.59it/s]\u001b[A\u001b[A\n",
      "\n",
      " 17%|█▋        | 430/2560 [00:12<01:24, 25.11it/s]\u001b[A\u001b[A\n",
      "\n",
      " 17%|█▋        | 436/2560 [00:12<01:11, 29.62it/s]\u001b[A\u001b[A\n",
      "\n",
      " 17%|█▋        | 442/2560 [00:12<01:02, 33.96it/s]\u001b[A\u001b[A\n",
      "\n",
      " 18%|█▊        | 452/2560 [00:12<00:49, 42.26it/s]\u001b[A\u001b[A\n",
      "\n",
      " 18%|█▊        | 459/2560 [00:12<00:45, 45.87it/s]\u001b[A\u001b[A\n",
      "\n",
      " 18%|█▊        | 465/2560 [00:12<00:42, 48.75it/s]\u001b[A\u001b[A\n",
      "\n",
      " 18%|█▊        | 471/2560 [00:13<00:42, 49.50it/s]\u001b[A\u001b[A\n",
      "\n",
      " 19%|█▊        | 477/2560 [00:13<00:45, 45.48it/s]\u001b[A\u001b[A\n",
      "\n",
      " 19%|█▉        | 483/2560 [00:13<00:54, 37.82it/s]\u001b[A\u001b[A\n",
      "\n",
      " 19%|█▉        | 488/2560 [00:13<00:59, 34.80it/s]\u001b[A\u001b[A\n",
      "\n",
      " 19%|█▉        | 492/2560 [00:13<00:59, 34.50it/s]\u001b[A\u001b[A\n",
      "\n",
      " 20%|█▉        | 500/2560 [00:13<00:49, 41.57it/s]\u001b[A\u001b[A\n",
      "\n",
      " 20%|█▉        | 506/2560 [00:13<00:47, 43.11it/s]\u001b[A\u001b[A\n",
      "\n",
      " 20%|██        | 512/2560 [00:14<00:44, 45.93it/s]\u001b[A\u001b[A\n",
      "\n",
      " 20%|██        | 518/2560 [00:14<00:41, 49.04it/s]\u001b[A\u001b[A\n",
      "\n",
      " 21%|██        | 529/2560 [00:14<00:35, 57.66it/s]\u001b[A\u001b[A\n",
      "\n",
      " 21%|██        | 536/2560 [00:14<00:34, 59.22it/s]\u001b[A\u001b[A\n",
      "\n",
      " 21%|██        | 543/2560 [00:14<00:38, 52.87it/s]\u001b[A\u001b[A\n",
      "\n",
      " 21%|██▏       | 549/2560 [00:14<00:42, 47.69it/s]\u001b[A\u001b[A\n",
      "\n",
      " 22%|██▏       | 555/2560 [00:14<00:52, 38.08it/s]\u001b[A\u001b[A\n",
      "\n",
      " 22%|██▏       | 561/2560 [00:15<00:48, 41.51it/s]\u001b[A\u001b[A\n",
      "\n",
      " 22%|██▏       | 569/2560 [00:15<00:42, 47.26it/s]\u001b[A\u001b[A\n",
      "\n",
      " 23%|██▎       | 580/2560 [00:15<00:36, 54.65it/s]\u001b[A\u001b[A\n",
      "\n",
      " 23%|██▎       | 587/2560 [00:15<00:37, 53.19it/s]\u001b[A\u001b[A\n",
      "\n",
      " 23%|██▎       | 595/2560 [00:15<00:33, 58.92it/s]\u001b[A\u001b[A\n",
      "\n",
      " 24%|██▎       | 605/2560 [00:15<00:29, 65.96it/s]\u001b[A\u001b[A\n",
      "\n",
      " 24%|██▍       | 613/2560 [00:15<00:34, 55.80it/s]\u001b[A\u001b[A\n",
      "\n",
      " 24%|██▍       | 620/2560 [00:16<00:35, 53.92it/s]\u001b[A\u001b[A\n",
      "\n",
      " 24%|██▍       | 626/2560 [00:16<00:40, 47.84it/s]\u001b[A\u001b[A\n",
      "\n",
      " 25%|██▍       | 632/2560 [00:16<00:44, 43.54it/s]\u001b[A\u001b[A\n",
      "\n",
      " 25%|██▍       | 637/2560 [00:16<00:49, 38.75it/s]\u001b[A\u001b[A\n",
      "\n",
      " 25%|██▌       | 644/2560 [00:16<00:43, 44.29it/s]\u001b[A\u001b[A\n",
      "\n",
      " 25%|██▌       | 650/2560 [00:16<00:40, 47.19it/s]\u001b[A\u001b[A\n",
      "\n",
      " 26%|██▌       | 658/2560 [00:16<00:35, 53.28it/s]\u001b[A\u001b[A\n",
      "\n",
      " 26%|██▌       | 664/2560 [00:17<00:42, 44.14it/s]\u001b[A\u001b[A\n",
      "\n",
      " 26%|██▌       | 670/2560 [00:17<00:45, 41.85it/s]\u001b[A\u001b[A\n",
      "\n",
      " 26%|██▋       | 675/2560 [00:17<00:48, 39.09it/s]\u001b[A\u001b[A\n",
      "\n",
      " 27%|██▋       | 680/2560 [00:17<00:45, 41.33it/s]\u001b[A\u001b[A\n",
      "\n",
      " 27%|██▋       | 688/2560 [00:17<00:39, 47.26it/s]\u001b[A\u001b[A\n",
      "\n",
      " 27%|██▋       | 694/2560 [00:17<00:43, 42.74it/s]\u001b[A\u001b[A\n",
      "\n",
      " 27%|██▋       | 699/2560 [00:17<00:51, 36.10it/s]\u001b[A\u001b[A\n",
      "\n",
      " 28%|██▊       | 704/2560 [00:18<00:57, 32.01it/s]\u001b[A\u001b[A\n",
      "\n",
      " 28%|██▊       | 708/2560 [00:18<00:58, 31.83it/s]\u001b[A\u001b[A\n",
      "\n",
      " 28%|██▊       | 716/2560 [00:18<00:49, 37.19it/s]\u001b[A\u001b[A\n",
      "\n",
      " 28%|██▊       | 721/2560 [00:18<00:55, 33.19it/s]\u001b[A\u001b[A\n",
      "\n",
      " 29%|██▊       | 730/2560 [00:18<00:46, 39.78it/s]\u001b[A\u001b[A\n",
      "\n",
      " 29%|██▉       | 738/2560 [00:18<00:38, 46.82it/s]\u001b[A\u001b[A\n",
      "\n",
      " 29%|██▉       | 746/2560 [00:18<00:35, 51.81it/s]\u001b[A\u001b[A\n",
      "\n",
      " 29%|██▉       | 753/2560 [00:19<00:37, 48.15it/s]\u001b[A\u001b[A\n",
      "\n",
      " 30%|██▉       | 759/2560 [00:19<00:37, 48.35it/s]\u001b[A\u001b[A\n",
      "\n",
      " 30%|███       | 768/2560 [00:19<00:33, 52.88it/s]\u001b[A\u001b[A\n",
      "\n",
      " 30%|███       | 774/2560 [00:19<00:39, 45.13it/s]\u001b[A\u001b[A\n",
      "\n",
      " 30%|███       | 780/2560 [00:19<00:38, 45.92it/s]\u001b[A\u001b[A\n",
      "\n",
      " 31%|███       | 785/2560 [00:19<00:37, 46.79it/s]\u001b[A\u001b[A\n",
      "\n",
      " 31%|███       | 797/2560 [00:19<00:31, 56.29it/s]\u001b[A\u001b[A\n",
      "\n",
      " 31%|███▏      | 804/2560 [00:19<00:30, 57.40it/s]\u001b[A\u001b[A\n",
      "\n",
      " 32%|███▏      | 811/2560 [00:20<00:30, 57.55it/s]\u001b[A\u001b[A\n",
      "\n",
      " 32%|███▏      | 822/2560 [00:20<00:26, 66.43it/s]\u001b[A\u001b[A\n",
      "\n",
      " 33%|███▎      | 833/2560 [00:20<00:23, 74.81it/s]\u001b[A\u001b[A\n",
      "\n",
      " 33%|███▎      | 842/2560 [00:20<00:30, 55.91it/s]\u001b[A\u001b[A\n",
      "\n",
      " 33%|███▎      | 849/2560 [00:20<00:33, 51.20it/s]\u001b[A\u001b[A\n",
      "\n",
      " 34%|███▎      | 861/2560 [00:20<00:27, 61.66it/s]\u001b[A\u001b[A\n",
      "\n",
      " 34%|███▍      | 869/2560 [00:20<00:32, 51.47it/s]\u001b[A\u001b[A\n",
      "\n",
      " 34%|███▍      | 876/2560 [00:21<00:38, 43.73it/s]\u001b[A\u001b[A\n",
      "\n",
      " 34%|███▍      | 883/2560 [00:21<00:34, 48.63it/s]\u001b[A\u001b[A\n",
      "\n",
      " 35%|███▍      | 889/2560 [00:21<00:39, 42.22it/s]\u001b[A\u001b[A\n",
      "\n",
      " 35%|███▌      | 897/2560 [00:21<00:34, 48.57it/s]\u001b[A\u001b[A\n",
      "\n",
      " 35%|███▌      | 903/2560 [00:21<00:32, 51.31it/s]\u001b[A\u001b[A\n",
      "\n",
      " 36%|███▌      | 909/2560 [00:21<00:31, 52.99it/s]\u001b[A\u001b[A\n",
      "\n",
      " 36%|███▌      | 924/2560 [00:21<00:25, 64.66it/s]\u001b[A\u001b[A\n",
      "\n",
      " 36%|███▋      | 933/2560 [00:22<00:27, 60.14it/s]\u001b[A\u001b[A\n",
      "\n",
      " 37%|███▋      | 941/2560 [00:22<00:26, 60.48it/s]\u001b[A\u001b[A\n",
      "\n",
      " 37%|███▋      | 951/2560 [00:22<00:23, 67.44it/s]\u001b[A\u001b[A\n",
      "\n",
      " 37%|███▋      | 959/2560 [00:22<00:29, 53.66it/s]\u001b[A\u001b[A\n",
      "\n",
      " 38%|███▊      | 966/2560 [00:22<00:28, 56.36it/s]\u001b[A\u001b[A\n",
      "\n",
      " 38%|███▊      | 973/2560 [00:22<00:29, 53.46it/s]\u001b[A\u001b[A\n",
      "\n",
      " 39%|███▊      | 986/2560 [00:22<00:24, 64.51it/s]\u001b[A\u001b[A\n",
      "\n",
      " 39%|███▉      | 994/2560 [00:23<00:26, 58.78it/s]\u001b[A\u001b[A\n",
      "\n",
      " 39%|███▉      | 1001/2560 [00:23<00:26, 58.50it/s]\u001b[A\u001b[A\n",
      "\n",
      " 39%|███▉      | 1008/2560 [00:23<00:33, 46.96it/s]\u001b[A\u001b[A\n",
      "\n",
      " 40%|███▉      | 1014/2560 [00:23<00:31, 49.09it/s]\u001b[A\u001b[A\n",
      "\n",
      " 40%|███▉      | 1023/2560 [00:23<00:27, 56.62it/s]\u001b[A\u001b[A\n",
      "\n",
      " 40%|████      | 1033/2560 [00:23<00:23, 64.34it/s]\u001b[A\u001b[A\n",
      "\n",
      " 41%|████      | 1045/2560 [00:23<00:20, 74.32it/s]\u001b[A\u001b[A\n",
      "\n",
      " 41%|████      | 1054/2560 [00:23<00:19, 75.58it/s]\u001b[A\u001b[A\n",
      "\n",
      " 42%|████▏     | 1063/2560 [00:24<00:25, 59.21it/s]\u001b[A\u001b[A\n",
      "\n",
      " 42%|████▏     | 1071/2560 [00:24<00:29, 49.69it/s]\u001b[A\u001b[A\n",
      "\n",
      " 42%|████▏     | 1078/2560 [00:24<00:31, 47.18it/s]\u001b[A\u001b[A\n",
      "\n",
      " 42%|████▏     | 1084/2560 [00:24<00:31, 47.59it/s]\u001b[A\u001b[A\n",
      "\n",
      " 43%|████▎     | 1090/2560 [00:24<00:31, 46.46it/s]\u001b[A\u001b[A\n",
      "\n",
      " 43%|████▎     | 1097/2560 [00:24<00:29, 49.73it/s]\u001b[A\u001b[A\n",
      "\n",
      " 43%|████▎     | 1103/2560 [00:25<00:33, 43.53it/s]\u001b[A\u001b[A\n",
      "\n",
      " 43%|████▎     | 1110/2560 [00:25<00:29, 48.34it/s]\u001b[A\u001b[A\n",
      "\n",
      " 44%|████▎     | 1116/2560 [00:25<00:32, 44.19it/s]\u001b[A\u001b[A\n",
      "\n",
      " 44%|████▍     | 1121/2560 [00:25<00:33, 43.19it/s]\u001b[A\u001b[A\n",
      "\n",
      " 44%|████▍     | 1126/2560 [00:25<00:32, 44.42it/s]\u001b[A\u001b[A\n",
      "\n",
      " 44%|████▍     | 1132/2560 [00:25<00:30, 46.72it/s]\u001b[A\u001b[A\n",
      "\n",
      " 44%|████▍     | 1139/2560 [00:25<00:28, 50.67it/s]\u001b[A\u001b[A\n",
      "\n",
      " 45%|████▍     | 1149/2560 [00:25<00:24, 58.22it/s]\u001b[A\u001b[A\n",
      "\n",
      " 45%|████▌     | 1156/2560 [00:26<00:30, 45.92it/s]\u001b[A\u001b[A\n",
      "\n",
      " 45%|████▌     | 1162/2560 [00:26<00:32, 43.53it/s]\u001b[A\u001b[A\n",
      "\n",
      " 46%|████▌     | 1167/2560 [00:26<00:32, 42.50it/s]\u001b[A\u001b[A\n",
      "\n",
      " 46%|████▌     | 1177/2560 [00:26<00:27, 51.08it/s]\u001b[A\u001b[A\n",
      "\n",
      " 46%|████▋     | 1184/2560 [00:26<00:25, 53.21it/s]\u001b[A\u001b[A\n",
      "\n",
      " 47%|████▋     | 1191/2560 [00:27<00:37, 36.10it/s]\u001b[A\u001b[A\n",
      "\n",
      " 47%|████▋     | 1197/2560 [00:27<00:33, 40.61it/s]\u001b[A\u001b[A\n",
      "\n",
      " 47%|████▋     | 1205/2560 [00:27<00:28, 47.31it/s]\u001b[A\u001b[A\n",
      "\n",
      " 47%|████▋     | 1211/2560 [00:27<00:30, 43.83it/s]\u001b[A\u001b[A\n",
      "\n",
      " 48%|████▊     | 1217/2560 [00:27<00:29, 44.84it/s]\u001b[A\u001b[A\n",
      "\n",
      " 48%|████▊     | 1223/2560 [00:27<00:30, 44.24it/s]\u001b[A\u001b[A\n",
      "\n",
      " 48%|████▊     | 1228/2560 [00:27<00:31, 41.79it/s]\u001b[A\u001b[A\n",
      "\n",
      " 48%|████▊     | 1233/2560 [00:27<00:34, 38.54it/s]\u001b[A\u001b[A\n",
      "\n",
      " 48%|████▊     | 1238/2560 [00:28<00:37, 34.97it/s]\u001b[A\u001b[A\n",
      "\n",
      " 49%|████▊     | 1242/2560 [00:28<00:37, 35.42it/s]\u001b[A\u001b[A\n",
      "\n",
      " 49%|████▊     | 1246/2560 [00:28<00:36, 36.39it/s]\u001b[A\u001b[A\n",
      "\n",
      " 49%|████▉     | 1255/2560 [00:28<00:29, 44.06it/s]\u001b[A\u001b[A\n",
      "\n",
      " 49%|████▉     | 1263/2560 [00:28<00:25, 50.51it/s]\u001b[A\u001b[A\n",
      "\n",
      " 50%|████▉     | 1269/2560 [00:28<00:24, 52.37it/s]\u001b[A\u001b[A\n",
      "\n",
      " 50%|████▉     | 1275/2560 [00:28<00:24, 53.39it/s]\u001b[A\u001b[A\n",
      "\n",
      " 50%|█████     | 1281/2560 [00:28<00:23, 53.32it/s]\u001b[A\u001b[A\n",
      "\n",
      " 50%|█████     | 1288/2560 [00:29<00:23, 54.57it/s]\u001b[A\u001b[A\n",
      "\n",
      " 51%|█████     | 1294/2560 [00:29<00:25, 49.37it/s]\u001b[A\u001b[A\n",
      "\n",
      " 51%|█████     | 1300/2560 [00:29<00:32, 38.67it/s]\u001b[A\u001b[A\n",
      "\n",
      " 51%|█████     | 1305/2560 [00:29<00:38, 32.72it/s]\u001b[A\u001b[A\n",
      "\n",
      " 51%|█████     | 1309/2560 [00:29<00:40, 30.73it/s]\u001b[A\u001b[A\n",
      "\n",
      " 51%|█████▏    | 1313/2560 [00:29<00:42, 29.41it/s]\u001b[A\u001b[A\n",
      "\n",
      " 51%|█████▏    | 1317/2560 [00:30<00:43, 28.74it/s]\u001b[A\u001b[A\n",
      "\n",
      " 52%|█████▏    | 1321/2560 [00:30<00:43, 28.32it/s]\u001b[A\u001b[A\n",
      "\n",
      " 52%|█████▏    | 1330/2560 [00:30<00:34, 35.51it/s]\u001b[A\u001b[A\n",
      "\n",
      " 52%|█████▏    | 1335/2560 [00:30<00:35, 34.40it/s]\u001b[A\u001b[A\n",
      "\n",
      " 52%|█████▏    | 1340/2560 [00:30<00:33, 36.29it/s]\u001b[A\u001b[A\n",
      "\n",
      " 53%|█████▎    | 1345/2560 [00:30<00:32, 37.68it/s]\u001b[A\u001b[A\n",
      "\n",
      " 53%|█████▎    | 1350/2560 [00:30<00:31, 38.23it/s]\u001b[A\u001b[A\n",
      "\n",
      " 53%|█████▎    | 1355/2560 [00:30<00:31, 38.43it/s]\u001b[A\u001b[A\n",
      "\n",
      " 53%|█████▎    | 1366/2560 [00:31<00:25, 47.45it/s]\u001b[A\u001b[A\n",
      "\n",
      " 54%|█████▎    | 1373/2560 [00:31<00:22, 52.26it/s]\u001b[A\u001b[A\n",
      "\n",
      " 54%|█████▍    | 1380/2560 [00:31<00:22, 51.50it/s]\u001b[A\u001b[A\n",
      "\n",
      " 54%|█████▍    | 1386/2560 [00:31<00:26, 44.28it/s]\u001b[A\u001b[A\n",
      "\n",
      " 54%|█████▍    | 1392/2560 [00:31<00:25, 46.06it/s]\u001b[A\u001b[A\n",
      "\n",
      " 55%|█████▍    | 1399/2560 [00:31<00:22, 50.49it/s]\u001b[A\u001b[A\n",
      "\n",
      " 55%|█████▍    | 1406/2560 [00:31<00:21, 54.25it/s]\u001b[A\u001b[A\n",
      "\n",
      " 55%|█████▌    | 1414/2560 [00:31<00:19, 58.35it/s]\u001b[A\u001b[A\n",
      "\n",
      " 56%|█████▌    | 1421/2560 [00:32<00:22, 50.77it/s]\u001b[A\u001b[A\n",
      "\n",
      " 56%|█████▌    | 1427/2560 [00:32<00:22, 50.84it/s]\u001b[A\u001b[A\n",
      "\n",
      " 56%|█████▌    | 1433/2560 [00:32<00:22, 50.01it/s]\u001b[A\u001b[A\n",
      "\n",
      " 56%|█████▌    | 1439/2560 [00:32<00:25, 44.02it/s]\u001b[A\u001b[A\n",
      "\n",
      " 56%|█████▋    | 1444/2560 [00:32<00:31, 34.88it/s]\u001b[A\u001b[A\n",
      "\n",
      " 57%|█████▋    | 1448/2560 [00:32<00:33, 32.76it/s]\u001b[A\u001b[A\n",
      "\n",
      " 57%|█████▋    | 1452/2560 [00:32<00:32, 33.88it/s]\u001b[A\u001b[A\n",
      "\n",
      " 57%|█████▋    | 1456/2560 [00:33<00:31, 35.36it/s]\u001b[A\u001b[A\n",
      "\n",
      " 57%|█████▋    | 1463/2560 [00:33<00:26, 40.94it/s]\u001b[A\u001b[A\n",
      "\n",
      " 57%|█████▋    | 1468/2560 [00:33<00:25, 42.89it/s]\u001b[A\u001b[A\n",
      "\n",
      " 58%|█████▊    | 1473/2560 [00:33<00:29, 37.17it/s]\u001b[A\u001b[A\n",
      "\n",
      " 58%|█████▊    | 1478/2560 [00:33<00:28, 38.53it/s]\u001b[A\u001b[A\n",
      "\n",
      " 58%|█████▊    | 1483/2560 [00:33<00:28, 37.95it/s]\u001b[A\u001b[A\n",
      "\n",
      " 58%|█████▊    | 1487/2560 [00:33<00:29, 35.99it/s]\u001b[A\u001b[A\n",
      "\n",
      " 58%|█████▊    | 1491/2560 [00:33<00:32, 32.62it/s]\u001b[A\u001b[A\n",
      "\n",
      " 58%|█████▊    | 1495/2560 [00:34<00:32, 32.89it/s]\u001b[A\u001b[A\n",
      "\n",
      " 59%|█████▊    | 1499/2560 [00:34<00:39, 26.56it/s]\u001b[A\u001b[A\n",
      "\n",
      " 59%|█████▉    | 1504/2560 [00:34<00:34, 30.46it/s]\u001b[A\u001b[A\n",
      "\n",
      " 59%|█████▉    | 1508/2560 [00:34<00:33, 31.87it/s]\u001b[A\u001b[A\n",
      "\n",
      " 59%|█████▉    | 1512/2560 [00:34<00:33, 31.44it/s]\u001b[A\u001b[A\n",
      "\n",
      " 59%|█████▉    | 1516/2560 [00:34<00:34, 30.53it/s]\u001b[A\u001b[A\n",
      "\n",
      " 59%|█████▉    | 1520/2560 [00:34<00:34, 30.48it/s]\u001b[A\u001b[A\n",
      "\n",
      " 60%|█████▉    | 1524/2560 [00:35<00:34, 30.14it/s]\u001b[A\u001b[A\n",
      "\n",
      " 60%|█████▉    | 1528/2560 [00:35<00:36, 28.44it/s]\u001b[A\u001b[A\n",
      "\n",
      " 60%|█████▉    | 1532/2560 [00:35<00:34, 29.50it/s]\u001b[A\u001b[A\n",
      "\n",
      " 60%|██████    | 1536/2560 [00:35<00:34, 29.66it/s]\u001b[A\u001b[A\n",
      "\n",
      " 60%|██████    | 1540/2560 [00:35<00:34, 29.48it/s]\u001b[A\u001b[A\n",
      "\n",
      " 60%|██████    | 1548/2560 [00:35<00:27, 36.28it/s]\u001b[A\u001b[A\n",
      "\n",
      " 61%|██████    | 1553/2560 [00:35<00:27, 36.28it/s]\u001b[A\u001b[A\n",
      "\n",
      " 61%|██████    | 1559/2560 [00:35<00:25, 39.83it/s]\u001b[A\u001b[A\n",
      "\n",
      " 61%|██████    | 1564/2560 [00:36<00:26, 37.92it/s]\u001b[A\u001b[A\n",
      "\n",
      " 61%|██████▏   | 1569/2560 [00:36<00:25, 38.22it/s]\u001b[A\u001b[A\n",
      "\n",
      " 61%|██████▏   | 1574/2560 [00:36<00:24, 39.69it/s]\u001b[A\u001b[A\n",
      "\n",
      " 62%|██████▏   | 1579/2560 [00:36<00:23, 41.64it/s]\u001b[A\u001b[A\n",
      "\n",
      " 62%|██████▏   | 1584/2560 [00:36<00:25, 37.70it/s]\u001b[A\u001b[A\n",
      "\n",
      " 62%|██████▏   | 1588/2560 [00:36<00:30, 32.14it/s]\u001b[A\u001b[A\n",
      "\n",
      " 62%|██████▏   | 1592/2560 [00:36<00:32, 30.22it/s]\u001b[A\u001b[A\n",
      "\n",
      " 62%|██████▏   | 1597/2560 [00:37<00:29, 32.64it/s]\u001b[A\u001b[A\n",
      "\n",
      " 63%|██████▎   | 1601/2560 [00:37<00:28, 33.53it/s]\u001b[A\u001b[A\n",
      "\n",
      " 63%|██████▎   | 1605/2560 [00:37<00:27, 34.21it/s]\u001b[A\u001b[A\n",
      "\n",
      " 63%|██████▎   | 1609/2560 [00:37<00:30, 31.48it/s]\u001b[A\u001b[A\n",
      "\n",
      " 63%|██████▎   | 1613/2560 [00:37<00:29, 32.19it/s]\u001b[A\u001b[A\n",
      "\n",
      " 63%|██████▎   | 1617/2560 [00:37<00:28, 33.01it/s]\u001b[A\u001b[A\n",
      "\n",
      " 63%|██████▎   | 1621/2560 [00:37<00:28, 32.39it/s]\u001b[A\u001b[A\n",
      "\n",
      " 63%|██████▎   | 1625/2560 [00:37<00:27, 33.97it/s]\u001b[A\u001b[A\n",
      "\n",
      " 64%|██████▎   | 1629/2560 [00:38<00:29, 31.79it/s]\u001b[A\u001b[A\n",
      "\n",
      " 64%|██████▍   | 1633/2560 [00:38<00:30, 30.03it/s]\u001b[A\u001b[A\n",
      "\n",
      " 64%|██████▍   | 1637/2560 [00:38<00:29, 30.83it/s]\u001b[A\u001b[A\n",
      "\n",
      " 64%|██████▍   | 1643/2560 [00:38<00:26, 34.71it/s]\u001b[A\u001b[A\n",
      "\n",
      " 64%|██████▍   | 1647/2560 [00:38<00:26, 34.43it/s]\u001b[A\u001b[A\n",
      "\n",
      " 65%|██████▍   | 1652/2560 [00:38<00:24, 37.13it/s]\u001b[A\u001b[A\n",
      "\n",
      " 65%|██████▍   | 1657/2560 [00:38<00:23, 38.49it/s]\u001b[A\u001b[A\n",
      "\n",
      " 65%|██████▍   | 1661/2560 [00:38<00:27, 33.21it/s]\u001b[A\u001b[A\n",
      "\n",
      " 65%|██████▌   | 1665/2560 [00:39<00:29, 29.97it/s]\u001b[A\u001b[A\n",
      "\n",
      " 65%|██████▌   | 1671/2560 [00:39<00:26, 33.83it/s]\u001b[A\u001b[A\n",
      "\n",
      " 65%|██████▌   | 1675/2560 [00:39<00:27, 32.58it/s]\u001b[A\u001b[A\n",
      "\n",
      " 66%|██████▌   | 1679/2560 [00:39<00:28, 31.35it/s]\u001b[A\u001b[A\n",
      "\n",
      " 66%|██████▌   | 1684/2560 [00:39<00:24, 35.16it/s]\u001b[A\u001b[A\n",
      "\n",
      " 66%|██████▌   | 1688/2560 [00:39<00:26, 33.34it/s]\u001b[A\u001b[A\n",
      "\n",
      " 66%|██████▌   | 1694/2560 [00:39<00:22, 37.90it/s]\u001b[A\u001b[A\n",
      "\n",
      " 66%|██████▋   | 1699/2560 [00:39<00:21, 39.43it/s]\u001b[A\u001b[A\n",
      "\n",
      " 67%|██████▋   | 1704/2560 [00:40<00:21, 38.95it/s]\u001b[A\u001b[A\n",
      "\n",
      " 67%|██████▋   | 1709/2560 [00:40<00:21, 40.26it/s]\u001b[A\u001b[A\n",
      "\n",
      " 67%|██████▋   | 1714/2560 [00:40<00:21, 38.74it/s]\u001b[A\u001b[A\n",
      "\n",
      " 67%|██████▋   | 1718/2560 [00:40<00:22, 36.72it/s]\u001b[A\u001b[A\n",
      "\n",
      " 67%|██████▋   | 1722/2560 [00:40<00:25, 32.82it/s]\u001b[A\u001b[A\n",
      "\n",
      " 67%|██████▋   | 1726/2560 [00:40<00:25, 32.29it/s]\u001b[A\u001b[A\n",
      "\n",
      " 68%|██████▊   | 1730/2560 [00:40<00:25, 32.62it/s]\u001b[A\u001b[A\n",
      "\n",
      " 68%|██████▊   | 1734/2560 [00:41<00:25, 31.96it/s]\u001b[A\u001b[A\n",
      "\n",
      " 68%|██████▊   | 1738/2560 [00:41<00:24, 33.28it/s]\u001b[A\u001b[A\n",
      "\n",
      " 68%|██████▊   | 1742/2560 [00:41<00:24, 33.28it/s]\u001b[A\u001b[A\n",
      "\n",
      " 68%|██████▊   | 1746/2560 [00:41<00:26, 30.71it/s]\u001b[A\u001b[A\n",
      "\n",
      " 68%|██████▊   | 1750/2560 [00:41<00:25, 31.29it/s]\u001b[A\u001b[A\n",
      "\n",
      " 69%|██████▊   | 1754/2560 [00:41<00:24, 33.32it/s]\u001b[A\u001b[A\n",
      "\n",
      " 69%|██████▊   | 1758/2560 [00:41<00:22, 35.04it/s]\u001b[A\u001b[A\n",
      "\n",
      " 69%|██████▉   | 1763/2560 [00:41<00:21, 37.03it/s]\u001b[A\u001b[A\n",
      "\n",
      " 69%|██████▉   | 1769/2560 [00:41<00:19, 40.94it/s]\u001b[A\u001b[A\n",
      "\n",
      " 69%|██████▉   | 1775/2560 [00:42<00:18, 43.40it/s]\u001b[A\u001b[A\n",
      "\n",
      " 70%|██████▉   | 1780/2560 [00:42<00:20, 38.82it/s]\u001b[A\u001b[A\n",
      "\n",
      " 70%|██████▉   | 1785/2560 [00:42<00:20, 38.34it/s]\u001b[A\u001b[A\n",
      "\n",
      " 70%|██████▉   | 1789/2560 [00:42<00:20, 37.17it/s]\u001b[A\u001b[A\n",
      "\n",
      " 70%|███████   | 1793/2560 [00:42<00:22, 34.11it/s]\u001b[A\u001b[A\n",
      "\n",
      " 70%|███████   | 1797/2560 [00:42<00:24, 30.64it/s]\u001b[A\u001b[A\n",
      "\n",
      " 70%|███████   | 1801/2560 [00:42<00:25, 29.29it/s]\u001b[A\u001b[A\n",
      "\n",
      " 71%|███████   | 1806/2560 [00:43<00:23, 32.50it/s]\u001b[A\u001b[A\n",
      "\n",
      " 71%|███████   | 1810/2560 [00:43<00:22, 33.55it/s]\u001b[A\u001b[A\n",
      "\n",
      " 71%|███████   | 1815/2560 [00:43<00:20, 36.62it/s]\u001b[A\u001b[A\n",
      "\n",
      " 71%|███████   | 1821/2560 [00:43<00:18, 39.87it/s]\u001b[A\u001b[A\n",
      "\n",
      " 71%|███████▏  | 1826/2560 [00:43<00:20, 35.67it/s]\u001b[A\u001b[A\n",
      "\n",
      " 71%|███████▏  | 1830/2560 [00:43<00:23, 31.24it/s]\u001b[A\u001b[A\n",
      "\n",
      " 72%|███████▏  | 1834/2560 [00:43<00:23, 31.50it/s]\u001b[A\u001b[A\n",
      "\n",
      " 72%|███████▏  | 1838/2560 [00:43<00:22, 31.95it/s]\u001b[A\u001b[A\n",
      "\n",
      " 72%|███████▏  | 1843/2560 [00:44<00:20, 34.22it/s]\u001b[A\u001b[A\n",
      "\n",
      " 72%|███████▏  | 1848/2560 [00:44<00:19, 36.36it/s]\u001b[A\u001b[A\n",
      "\n",
      " 72%|███████▏  | 1852/2560 [00:44<00:19, 36.76it/s]\u001b[A\u001b[A\n",
      "\n",
      " 72%|███████▎  | 1856/2560 [00:44<00:20, 35.08it/s]\u001b[A\u001b[A\n",
      "\n",
      " 73%|███████▎  | 1860/2560 [00:44<00:20, 34.08it/s]\u001b[A\u001b[A\n",
      "\n",
      " 73%|███████▎  | 1864/2560 [00:44<00:21, 32.66it/s]\u001b[A\u001b[A\n",
      "\n",
      " 73%|███████▎  | 1868/2560 [00:44<00:20, 33.12it/s]\u001b[A\u001b[A\n",
      "\n",
      " 73%|███████▎  | 1874/2560 [00:44<00:18, 37.33it/s]\u001b[A\u001b[A\n",
      "\n",
      " 73%|███████▎  | 1878/2560 [00:45<00:18, 37.34it/s]\u001b[A\u001b[A\n",
      "\n",
      " 74%|███████▎  | 1882/2560 [00:45<00:18, 36.70it/s]\u001b[A\u001b[A\n",
      "\n",
      " 74%|███████▎  | 1886/2560 [00:45<00:17, 37.63it/s]\u001b[A\u001b[A\n",
      "\n",
      " 74%|███████▍  | 1890/2560 [00:45<00:18, 35.77it/s]\u001b[A\u001b[A\n",
      "\n",
      " 74%|███████▍  | 1894/2560 [00:45<00:19, 34.99it/s]\u001b[A\u001b[A\n",
      "\n",
      " 74%|███████▍  | 1898/2560 [00:45<00:18, 35.83it/s]\u001b[A\u001b[A\n",
      "\n",
      " 74%|███████▍  | 1906/2560 [00:45<00:15, 42.20it/s]\u001b[A\u001b[A\n",
      "\n",
      " 75%|███████▍  | 1911/2560 [00:45<00:15, 41.78it/s]\u001b[A\u001b[A\n",
      "\n",
      " 75%|███████▍  | 1916/2560 [00:45<00:15, 42.04it/s]\u001b[A\u001b[A\n",
      "\n",
      " 75%|███████▌  | 1921/2560 [00:46<00:15, 40.49it/s]\u001b[A\u001b[A\n",
      "\n",
      " 75%|███████▌  | 1926/2560 [00:46<00:16, 38.62it/s]\u001b[A\u001b[A\n",
      "\n",
      " 75%|███████▌  | 1931/2560 [00:46<00:18, 34.30it/s]\u001b[A\u001b[A\n",
      "\n",
      " 76%|███████▌  | 1935/2560 [00:46<00:20, 30.92it/s]\u001b[A\u001b[A\n",
      "\n",
      " 76%|███████▌  | 1939/2560 [00:46<00:26, 23.42it/s]\u001b[A\u001b[A\n",
      "\n",
      " 76%|███████▌  | 1943/2560 [00:46<00:24, 25.30it/s]\u001b[A\u001b[A\n",
      "\n",
      " 76%|███████▌  | 1946/2560 [00:47<00:24, 25.43it/s]\u001b[A\u001b[A\n",
      "\n",
      " 76%|███████▌  | 1950/2560 [00:47<00:21, 28.06it/s]\u001b[A\u001b[A\n",
      "\n",
      " 76%|███████▋  | 1954/2560 [00:47<00:24, 24.92it/s]\u001b[A\u001b[A\n",
      "\n",
      " 76%|███████▋  | 1958/2560 [00:47<00:22, 27.13it/s]\u001b[A\u001b[A\n",
      "\n",
      " 77%|███████▋  | 1962/2560 [00:47<00:20, 29.37it/s]\u001b[A\u001b[A\n",
      "\n",
      " 77%|███████▋  | 1966/2560 [00:47<00:19, 30.80it/s]\u001b[A\u001b[A\n",
      "\n",
      " 77%|███████▋  | 1971/2560 [00:47<00:17, 33.32it/s]\u001b[A\u001b[A\n",
      "\n",
      " 77%|███████▋  | 1975/2560 [00:47<00:16, 34.65it/s]\u001b[A\u001b[A\n",
      "\n",
      " 77%|███████▋  | 1979/2560 [00:48<00:16, 35.17it/s]\u001b[A\u001b[A\n",
      "\n",
      " 77%|███████▋  | 1983/2560 [00:48<00:16, 35.73it/s]\u001b[A\u001b[A\n",
      "\n",
      " 78%|███████▊  | 1987/2560 [00:48<00:16, 35.33it/s]\u001b[A\u001b[A\n",
      "\n",
      " 78%|███████▊  | 1991/2560 [00:48<00:15, 36.52it/s]\u001b[A\u001b[A\n",
      "\n",
      " 78%|███████▊  | 1995/2560 [00:48<00:17, 33.00it/s]\u001b[A\u001b[A\n",
      "\n",
      " 78%|███████▊  | 1999/2560 [00:48<00:16, 33.24it/s]\u001b[A\u001b[A\n",
      "\n",
      " 78%|███████▊  | 2003/2560 [00:48<00:16, 33.39it/s]\u001b[A\u001b[A\n",
      "\n",
      " 78%|███████▊  | 2007/2560 [00:48<00:17, 31.79it/s]\u001b[A\u001b[A\n",
      "\n",
      " 79%|███████▊  | 2011/2560 [00:49<00:16, 32.43it/s]\u001b[A\u001b[A\n",
      "\n",
      " 79%|███████▊  | 2015/2560 [00:49<00:18, 28.74it/s]\u001b[A\u001b[A\n",
      "\n",
      " 79%|███████▉  | 2018/2560 [00:49<00:19, 28.35it/s]\u001b[A\u001b[A\n",
      "\n",
      " 79%|███████▉  | 2023/2560 [00:49<00:17, 31.49it/s]\u001b[A\u001b[A\n",
      "\n",
      " 79%|███████▉  | 2027/2560 [00:49<00:15, 33.38it/s]\u001b[A\u001b[A\n",
      "\n",
      " 79%|███████▉  | 2031/2560 [00:49<00:16, 32.37it/s]\u001b[A\u001b[A\n",
      "\n",
      " 79%|███████▉  | 2035/2560 [00:49<00:16, 31.44it/s]\u001b[A\u001b[A\n",
      "\n",
      " 80%|███████▉  | 2041/2560 [00:49<00:14, 36.02it/s]\u001b[A\u001b[A\n",
      "\n",
      " 80%|███████▉  | 2046/2560 [00:50<00:13, 38.37it/s]\u001b[A\u001b[A\n",
      "\n",
      " 80%|████████  | 2051/2560 [00:50<00:12, 39.31it/s]\u001b[A\u001b[A\n",
      "\n",
      " 80%|████████  | 2056/2560 [00:50<00:13, 37.18it/s]\u001b[A\u001b[A\n",
      "\n",
      " 80%|████████  | 2060/2560 [00:50<00:14, 34.65it/s]\u001b[A\u001b[A\n",
      "\n",
      " 81%|████████  | 2064/2560 [00:50<00:14, 35.24it/s]\u001b[A\u001b[A\n",
      "\n",
      " 81%|████████  | 2068/2560 [00:50<00:14, 35.11it/s]\u001b[A\u001b[A\n",
      "\n",
      " 81%|████████  | 2072/2560 [00:50<00:14, 34.69it/s]\u001b[A\u001b[A\n",
      "\n",
      " 81%|████████  | 2077/2560 [00:50<00:12, 37.66it/s]\u001b[A\u001b[A\n",
      "\n",
      " 81%|████████▏ | 2081/2560 [00:51<00:12, 36.91it/s]\u001b[A\u001b[A\n",
      "\n",
      " 81%|████████▏ | 2086/2560 [00:51<00:12, 37.84it/s]\u001b[A\u001b[A\n",
      "\n",
      " 82%|████████▏ | 2090/2560 [00:51<00:13, 35.69it/s]\u001b[A\u001b[A\n",
      "\n",
      " 82%|████████▏ | 2095/2560 [00:51<00:12, 37.51it/s]\u001b[A\u001b[A\n",
      "\n",
      " 82%|████████▏ | 2099/2560 [00:51<00:12, 36.63it/s]\u001b[A\u001b[A\n",
      "\n",
      " 82%|████████▏ | 2103/2560 [00:51<00:12, 36.43it/s]\u001b[A\u001b[A\n",
      "\n",
      " 82%|████████▏ | 2107/2560 [00:51<00:12, 36.11it/s]\u001b[A\u001b[A\n",
      "\n",
      " 82%|████████▏ | 2111/2560 [00:51<00:12, 36.83it/s]\u001b[A\u001b[A\n",
      "\n",
      " 83%|████████▎ | 2115/2560 [00:51<00:12, 34.76it/s]\u001b[A\u001b[A\n",
      "\n",
      " 83%|████████▎ | 2119/2560 [00:52<00:12, 35.30it/s]\u001b[A\u001b[A\n",
      "\n",
      " 83%|████████▎ | 2123/2560 [00:52<00:12, 34.93it/s]\u001b[A\u001b[A\n",
      "\n",
      " 83%|████████▎ | 2127/2560 [00:52<00:13, 32.33it/s]\u001b[A\u001b[A\n",
      "\n",
      " 83%|████████▎ | 2131/2560 [00:52<00:14, 29.81it/s]\u001b[A\u001b[A\n",
      "\n",
      " 83%|████████▎ | 2135/2560 [00:52<00:13, 31.48it/s]\u001b[A\u001b[A\n",
      "\n",
      " 84%|████████▎ | 2139/2560 [00:52<00:12, 32.56it/s]\u001b[A\u001b[A\n",
      "\n",
      " 84%|████████▎ | 2143/2560 [00:52<00:13, 31.57it/s]\u001b[A\u001b[A\n",
      "\n",
      " 84%|████████▍ | 2147/2560 [00:52<00:13, 31.30it/s]\u001b[A\u001b[A\n",
      "\n",
      " 84%|████████▍ | 2151/2560 [00:53<00:12, 31.62it/s]\u001b[A\u001b[A\n",
      "\n",
      " 84%|████████▍ | 2155/2560 [00:53<00:12, 33.00it/s]\u001b[A\u001b[A\n",
      "\n",
      " 84%|████████▍ | 2160/2560 [00:53<00:11, 34.88it/s]\u001b[A\u001b[A\n",
      "\n",
      " 85%|████████▍ | 2165/2560 [00:53<00:10, 38.35it/s]\u001b[A\u001b[A\n",
      "\n",
      " 85%|████████▍ | 2169/2560 [00:53<00:10, 38.78it/s]\u001b[A\u001b[A\n",
      "\n",
      " 85%|████████▍ | 2173/2560 [00:53<00:10, 37.09it/s]\u001b[A\u001b[A\n",
      "\n",
      " 85%|████████▌ | 2177/2560 [00:53<00:11, 34.77it/s]\u001b[A\u001b[A\n",
      "\n",
      " 85%|████████▌ | 2181/2560 [00:53<00:10, 34.82it/s]\u001b[A\u001b[A\n",
      "\n",
      " 85%|████████▌ | 2186/2560 [00:54<00:10, 37.20it/s]\u001b[A\u001b[A\n",
      "\n",
      " 86%|████████▌ | 2190/2560 [00:54<00:10, 36.64it/s]\u001b[A\u001b[A\n",
      "\n",
      " 86%|████████▌ | 2194/2560 [00:54<00:10, 36.09it/s]\u001b[A\u001b[A\n",
      "\n",
      " 86%|████████▌ | 2198/2560 [00:54<00:11, 31.84it/s]\u001b[A\u001b[A\n",
      "\n",
      " 86%|████████▌ | 2202/2560 [00:54<00:11, 31.46it/s]\u001b[A\u001b[A\n",
      "\n",
      " 86%|████████▌ | 2206/2560 [00:54<00:10, 32.66it/s]\u001b[A\u001b[A\n",
      "\n",
      " 86%|████████▋ | 2210/2560 [00:54<00:10, 31.97it/s]\u001b[A\u001b[A\n",
      "\n",
      " 86%|████████▋ | 2214/2560 [00:54<00:11, 30.41it/s]\u001b[A\u001b[A\n",
      "\n",
      " 87%|████████▋ | 2218/2560 [00:55<00:10, 32.05it/s]\u001b[A\u001b[A\n",
      "\n",
      " 87%|████████▋ | 2223/2560 [00:55<00:09, 34.42it/s]\u001b[A\u001b[A\n",
      "\n",
      " 87%|████████▋ | 2228/2560 [00:55<00:08, 37.06it/s]\u001b[A\u001b[A\n",
      "\n",
      " 87%|████████▋ | 2232/2560 [00:55<00:09, 34.77it/s]\u001b[A\u001b[A\n",
      "\n",
      " 87%|████████▋ | 2236/2560 [00:55<00:09, 35.57it/s]\u001b[A\u001b[A\n",
      "\n",
      " 88%|████████▊ | 2240/2560 [00:55<00:08, 35.92it/s]\u001b[A\u001b[A\n",
      "\n",
      " 88%|████████▊ | 2244/2560 [00:55<00:08, 36.42it/s]\u001b[A\u001b[A\n",
      "\n",
      " 88%|████████▊ | 2248/2560 [00:55<00:08, 35.92it/s]\u001b[A\u001b[A\n",
      "\n",
      " 88%|████████▊ | 2252/2560 [00:56<00:09, 31.03it/s]\u001b[A\u001b[A\n",
      "\n",
      " 88%|████████▊ | 2256/2560 [00:56<00:10, 29.91it/s]\u001b[A\u001b[A\n",
      "\n",
      " 88%|████████▊ | 2260/2560 [00:56<00:10, 28.71it/s]\u001b[A\u001b[A\n",
      "\n",
      " 88%|████████▊ | 2263/2560 [00:56<00:10, 28.18it/s]\u001b[A\u001b[A\n",
      "\n",
      " 89%|████████▊ | 2267/2560 [00:56<00:10, 28.41it/s]\u001b[A\u001b[A\n",
      "\n",
      " 89%|████████▊ | 2271/2560 [00:56<00:09, 29.35it/s]\u001b[A\u001b[A\n",
      "\n",
      " 89%|████████▉ | 2275/2560 [00:56<00:09, 30.25it/s]\u001b[A\u001b[A\n",
      "\n",
      " 89%|████████▉ | 2279/2560 [00:56<00:08, 32.24it/s]\u001b[A\u001b[A\n",
      "\n",
      " 89%|████████▉ | 2283/2560 [00:57<00:08, 33.39it/s]\u001b[A\u001b[A\n",
      "\n",
      " 89%|████████▉ | 2287/2560 [00:57<00:09, 27.82it/s]\u001b[A\u001b[A\n",
      "\n",
      " 89%|████████▉ | 2291/2560 [00:57<00:09, 28.81it/s]\u001b[A\u001b[A\n",
      "\n",
      " 90%|████████▉ | 2295/2560 [00:57<00:09, 27.91it/s]\u001b[A\u001b[A\n",
      "\n",
      " 90%|████████▉ | 2298/2560 [00:57<00:09, 26.20it/s]\u001b[A\u001b[A\n",
      "\n",
      " 90%|████████▉ | 2302/2560 [00:57<00:09, 27.31it/s]\u001b[A\u001b[A\n",
      "\n",
      " 90%|█████████ | 2306/2560 [00:57<00:08, 28.46it/s]\u001b[A\u001b[A\n",
      "\n",
      " 90%|█████████ | 2310/2560 [00:57<00:08, 31.01it/s]\u001b[A\u001b[A\n",
      "\n",
      " 90%|█████████ | 2314/2560 [00:58<00:07, 31.34it/s]\u001b[A\u001b[A\n",
      "\n",
      " 91%|█████████ | 2319/2560 [00:58<00:07, 33.59it/s]\u001b[A\u001b[A\n",
      "\n",
      " 91%|█████████ | 2323/2560 [00:58<00:07, 33.68it/s]\u001b[A\u001b[A\n",
      "\n",
      " 91%|█████████ | 2327/2560 [00:58<00:06, 33.57it/s]\u001b[A\u001b[A\n",
      "\n",
      " 91%|█████████ | 2331/2560 [00:58<00:06, 34.72it/s]\u001b[A\u001b[A\n",
      "\n",
      " 91%|█████████ | 2335/2560 [00:58<00:06, 33.08it/s]\u001b[A\u001b[A\n",
      "\n",
      " 91%|█████████▏| 2339/2560 [00:58<00:06, 33.01it/s]\u001b[A\u001b[A\n",
      "\n",
      " 92%|█████████▏| 2343/2560 [00:58<00:06, 31.67it/s]\u001b[A\u001b[A\n",
      "\n",
      " 92%|█████████▏| 2347/2560 [00:59<00:07, 28.68it/s]\u001b[A\u001b[A\n",
      "\n",
      " 92%|█████████▏| 2350/2560 [00:59<00:07, 28.69it/s]\u001b[A\u001b[A\n",
      "\n",
      " 92%|█████████▏| 2354/2560 [00:59<00:06, 31.21it/s]\u001b[A\u001b[A\n",
      "\n",
      " 92%|█████████▏| 2358/2560 [00:59<00:06, 33.19it/s]\u001b[A\u001b[A\n",
      "\n",
      " 92%|█████████▏| 2363/2560 [00:59<00:05, 34.85it/s]\u001b[A\u001b[A\n",
      "\n",
      " 92%|█████████▏| 2367/2560 [00:59<00:05, 33.79it/s]\u001b[A\u001b[A\n",
      "\n",
      " 93%|█████████▎| 2371/2560 [00:59<00:05, 32.79it/s]\u001b[A\u001b[A\n",
      "\n",
      " 93%|█████████▎| 2375/2560 [00:59<00:05, 31.64it/s]\u001b[A\u001b[A\n",
      "\n",
      " 93%|█████████▎| 2380/2560 [01:00<00:05, 33.55it/s]\u001b[A\u001b[A\n",
      "\n",
      " 93%|█████████▎| 2384/2560 [01:00<00:05, 33.22it/s]\u001b[A\u001b[A\n",
      "\n",
      " 93%|█████████▎| 2388/2560 [01:00<00:05, 31.17it/s]\u001b[A\u001b[A\n",
      "\n",
      " 93%|█████████▎| 2392/2560 [01:00<00:05, 29.78it/s]\u001b[A\u001b[A\n",
      "\n",
      " 94%|█████████▎| 2396/2560 [01:00<00:05, 29.61it/s]\u001b[A\u001b[A\n",
      "\n",
      " 94%|█████████▎| 2399/2560 [01:00<00:05, 27.22it/s]\u001b[A\u001b[A\n",
      "\n",
      " 94%|█████████▍| 2402/2560 [01:00<00:06, 26.23it/s]\u001b[A\u001b[A\n",
      "\n",
      " 94%|█████████▍| 2405/2560 [01:01<00:05, 27.25it/s]\u001b[A\u001b[A\n",
      "\n",
      " 94%|█████████▍| 2409/2560 [01:01<00:05, 29.99it/s]\u001b[A\u001b[A\n",
      "\n",
      " 94%|█████████▍| 2414/2560 [01:01<00:04, 32.64it/s]\u001b[A\u001b[A\n",
      "\n",
      " 95%|█████████▍| 2420/2560 [01:01<00:03, 36.91it/s]\u001b[A\u001b[A\n",
      "\n",
      " 95%|█████████▍| 2425/2560 [01:01<00:03, 37.68it/s]\u001b[A\u001b[A\n",
      "\n",
      " 95%|█████████▍| 2430/2560 [01:01<00:03, 39.51it/s]\u001b[A\u001b[A\n",
      "\n",
      " 95%|█████████▌| 2435/2560 [01:01<00:03, 41.01it/s]\u001b[A\u001b[A\n",
      "\n",
      " 95%|█████████▌| 2440/2560 [01:01<00:03, 39.59it/s]\u001b[A\u001b[A\n",
      "\n",
      " 96%|█████████▌| 2445/2560 [01:01<00:03, 36.33it/s]\u001b[A\u001b[A\n",
      "\n",
      " 96%|█████████▌| 2449/2560 [01:02<00:03, 35.22it/s]\u001b[A\u001b[A\n",
      "\n",
      " 96%|█████████▌| 2453/2560 [01:02<00:03, 32.23it/s]\u001b[A\u001b[A\n",
      "\n",
      " 96%|█████████▌| 2457/2560 [01:02<00:03, 30.39it/s]\u001b[A\u001b[A\n",
      "\n",
      " 96%|█████████▌| 2461/2560 [01:02<00:03, 28.38it/s]\u001b[A\u001b[A\n",
      "\n",
      " 96%|█████████▋| 2464/2560 [01:02<00:03, 28.39it/s]\u001b[A\u001b[A\n",
      "\n",
      " 96%|█████████▋| 2467/2560 [01:02<00:03, 28.42it/s]\u001b[A\u001b[A\n",
      "\n",
      " 96%|█████████▋| 2470/2560 [01:02<00:03, 28.17it/s]\u001b[A\u001b[A\n",
      "\n",
      " 97%|█████████▋| 2473/2560 [01:03<00:03, 27.81it/s]\u001b[A\u001b[A\n",
      "\n",
      " 97%|█████████▋| 2477/2560 [01:03<00:02, 29.54it/s]\u001b[A\u001b[A\n",
      "\n",
      " 97%|█████████▋| 2482/2560 [01:03<00:02, 32.44it/s]\u001b[A\u001b[A\n",
      "\n",
      " 97%|█████████▋| 2486/2560 [01:03<00:02, 33.81it/s]\u001b[A\u001b[A\n",
      "\n",
      " 97%|█████████▋| 2490/2560 [01:03<00:02, 32.22it/s]\u001b[A\u001b[A\n",
      "\n",
      " 97%|█████████▋| 2494/2560 [01:03<00:02, 31.88it/s]\u001b[A\u001b[A\n",
      "\n",
      " 98%|█████████▊| 2498/2560 [01:03<00:01, 33.81it/s]\u001b[A\u001b[A\n",
      "\n",
      " 98%|█████████▊| 2502/2560 [01:03<00:01, 33.94it/s]\u001b[A\u001b[A\n",
      "\n",
      " 98%|█████████▊| 2506/2560 [01:03<00:01, 33.57it/s]\u001b[A\u001b[A\n",
      "\n",
      " 98%|█████████▊| 2510/2560 [01:04<00:01, 32.07it/s]\u001b[A\u001b[A\n",
      "\n",
      " 98%|█████████▊| 2514/2560 [01:04<00:01, 29.72it/s]\u001b[A\u001b[A\n",
      "\n",
      " 98%|█████████▊| 2518/2560 [01:04<00:01, 27.32it/s]\u001b[A\u001b[A\n",
      "\n",
      " 99%|█████████▊| 2522/2560 [01:04<00:01, 28.91it/s]\u001b[A\u001b[A\n",
      "\n",
      " 99%|█████████▊| 2526/2560 [01:04<00:01, 30.43it/s]\u001b[A\u001b[A\n",
      "\n",
      " 99%|█████████▉| 2530/2560 [01:04<00:00, 32.22it/s]\u001b[A\u001b[A\n",
      "\n",
      " 99%|█████████▉| 2534/2560 [01:04<00:00, 33.83it/s]\u001b[A\u001b[A\n",
      "\n",
      " 99%|█████████▉| 2538/2560 [01:05<00:00, 33.15it/s]\u001b[A\u001b[A\n",
      "\n",
      " 99%|█████████▉| 2542/2560 [01:05<00:00, 31.58it/s]\u001b[A\u001b[A\n",
      "\n",
      " 99%|█████████▉| 2546/2560 [01:05<00:00, 33.13it/s]\u001b[A\u001b[A\n",
      "\n",
      "100%|█████████▉| 2551/2560 [01:05<00:00, 34.71it/s]\u001b[A\u001b[A\n",
      "\n",
      "100%|█████████▉| 2555/2560 [01:05<00:00, 34.90it/s]\u001b[A\u001b[A\n",
      "\n",
      "100%|██████████| 2560/2560 [01:05<00:00, 38.98it/s]\u001b[A\u001b[A\n",
      "\n",
      "  0%|          | 0/1 [04:27<?, ?it/s]\n"
     ]
    },
    {
     "data": {
      "image/png": "[encoded data removed]",
      "text/plain": [
       "<Figure size 432x288 with 1 Axes>"
      ]
     },
     "metadata": {
      "needs_background": "light"
     },
     "output_type": "display_data"
    }
   ],
   "source": [
    "rendering_out_folder = '/home/ysheng/Dataset/eval_animation/'\n",
    "animation_out = 'ani_out'\n",
    "os.makedirs(animation_out, exist_ok=True)\n",
    "\n",
    "render_animations(rendering_out_folder, animation_out, 'net')\n",
    "# render_animations(rendering_out_folder, animation_out, 'mitsuba')\n",
    "# render_animations(rendering_out_folder, animation_out, 'both')"
   ]
  },
  {
   "cell_type": "markdown",
   "metadata": {},
   "source": [
    "## Test for Mitsuba Rendering"
   ]
  },
  {
   "cell_type": "code",
   "execution_count": 31,
   "metadata": {},
   "outputs": [
    {
     "name": "stdout",
     "output_type": "stream",
     "text": [
      "shape: (16, 32, 4) min: 0, max: 255\n"
     ]
    },
    {
     "data": {
      "image/png": "[encoded data removed]",
      "text/plain": [
       "<Figure size 1080x720 with 1 Axes>"
      ]
     },
     "metadata": {
      "needs_background": "light"
     },
     "output_type": "display_data"
    },
    {
     "name": "stdout",
     "output_type": "stream",
     "text": [
      "min: 5.826450433232822e-13, max: 1.0\n",
      "min: -5.165929906070232e-10, max: 1.0\n"
     ]
    },
    {
     "data": {
      "image/png": "[encoded data removed]",
      "text/plain": [
       "<Figure size 1080x720 with 1 Axes>"
      ]
     },
     "metadata": {
      "needs_background": "light"
     },
     "output_type": "display_data"
    },
    {
     "name": "stderr",
     "output_type": "stream",
     "text": [
      "Clipping input data to the valid range for imshow with RGB data ([0..1] for floats or [0..255] for integers).\n"
     ]
    },
    {
     "data": {
      "image/png": "[encoded data removed]",
      "text/plain": [
       "<Figure size 1080x720 with 1 Axes>"
      ]
     },
     "metadata": {
      "needs_background": "light"
     },
     "output_type": "display_data"
    }
   ],
   "source": [
    "folder = '/home/ysheng/Dataset/eval_animation/simulated_combine_male_genesis8_matias_hywavybob_dsoset_Base_Pose_Walking_B/001'\n",
    "test_shadow, test_final = join(folder, '000000_shadow.exr'), join(folder, '000000_final.exr')\n",
    "ibl_file = 'animation/001/000000.png'\n",
    "ibl = imageio.imread(ibl_file)\n",
    "print('shape: {} min: {}, max: {}'.format(ibl.shape, np.min(ibl), np.max(ibl)))\n",
    "show(ibl)\n",
    "\n",
    "test_shadow_np, test_final_np = imageio.imread(test_shadow), imageio.imread(test_final)\n",
    "\n",
    "cv2.normalize(test_shadow_np, test_shadow_np, 0.0, 1.0, cv2.NORM_MINMAX)\n",
    "cv2.normalize(test_final_np, test_final_np, 0.0, 1.0, cv2.NORM_MINMAX)\n",
    "\n",
    "print('min: {}, max: {}'.format(np.min(test_shadow_np), np.max(test_shadow_np)))\n",
    "print('min: {}, max: {}'.format(np.min(test_final_np), np.max(test_final_np)))\n",
    "show(test_shadow_np)\n",
    "show(test_final_np)"
   ]
  },
  {
   "cell_type": "code",
   "execution_count": null,
   "metadata": {},
   "outputs": [],
   "source": [
    "rendering_out_folder = '/home/ysheng/Dataset/eval_animation/'\n",
    "animation_out = 'ani_out'\n",
    "os.makedirs(animation_out, exist_ok=True)\n",
    "\n",
    "render_animations(rendering_out_folder, animation_out, 'mitsuba')\n",
    "\n",
    "dbg, dbg_num = True, 1\n",
    "models = get_folders(mitsuba_out_folder)\n",
    "with tqdm(total=len(models)) as pbar:\n",
    "    for model in models:\n",
    "        ibl_folds = get_folders(model)\n",
    "        print('{}: {}'.format(model, len(ibl_folds)))\n",
    "        \n",
    "        for ibl in ibl_folds:\n",
    "            mitsuba_files = [join(ibl, f) for f in os.listdir(ibl) if f.find('shadow.png') != -1]\n",
    "            model_name, ibl_name = os.path.basename(model), os.path.basename(ibl)\n",
    "            out_fname = '{}_{}_mitsuab.mp4'.format(model_name, ibl_name)\n",
    "            out_fname = join(animation_out, out_fname)\n",
    "            make_animation(out_fname, mitsuba_files)\n",
    "            \n",
    "        pbar.update()\n",
    "        \n",
    "        if dbg and pbar.n >= dbg_num:\n",
    "            break"
   ]
  }
 ],
 "metadata": {
  "kernelspec": {
   "display_name": "Python 3",
   "language": "python",
   "name": "python3"
  },
  "language_info": {
   "codemirror_mode": {
    "name": "ipython",
    "version": 3
   },
   "file_extension": ".py",
   "mimetype": "text/x-python",
   "name": "python",
   "nbconvert_exporter": "python",
   "pygments_lexer": "ipython3",
   "version": "3.7.7"
  }
 },
 "nbformat": 4,
 "nbformat_minor": 4
}
