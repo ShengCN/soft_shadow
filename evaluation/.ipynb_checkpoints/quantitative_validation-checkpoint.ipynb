{
 "cells": [
  {
   "cell_type": "code",
   "execution_count": 1,
   "metadata": {},
   "outputs": [],
   "source": [
    "%load_ext autoreload\n",
    "%autoreload 2"
   ]
  },
  {
   "cell_type": "code",
   "execution_count": 4,
   "metadata": {},
   "outputs": [],
   "source": [
    "import sys\n",
    "sys.path.append('..')\n",
    "\n",
    "import os\n",
    "from os.path import join\n",
    "import numpy as np\n",
    "import matplotlib.pyplot as plt\n",
    "import csv\n",
    "from tqdm import tqdm\n",
    "import multiprocessing\n",
    "from functools import partial\n",
    "from PIL import Image\n",
    "import numbergen as ng\n",
    "import imagen as ig\n",
    "from skimage.transform import resize\n",
    "import time\n",
    "import cv2\n",
    "from ssn.random_pattern import random_pattern\n",
    "import numbergen as ng\n",
    "import imagen as ig\n",
    "import random\n",
    "import imageio\n",
    "\n",
    "def show(img, title='',cmap=None): \n",
    "    plt.figure(figsize=(15,10))\n",
    "    plt.imshow(img, cmap=cmap)\n",
    "    plt.title(title)\n",
    "    plt.show()\n",
    "    \n",
    "def normalize(ibl, energy=3500):\n",
    "    total_energy = np.sum(ibl)\n",
    "    if total_energy < 1e-3:\n",
    "        print('small energy: ', total_energy)\n",
    "        return np.zeros((80,512))\n",
    "\n",
    "    ibl = ibl * energy / total_energy\n",
    "\n",
    "    return ibl\n",
    "\n",
    "def to_normalized_ibl(ibl):\n",
    "    \"\"\" input is pattern generated ibl [80x512]\n",
    "        output is noramlized ibl: [16x32]\n",
    "    \"\"\"\n",
    "    ibl = cv2.resize(ibl, (32, 5))\n",
    "    ret = np.zeros((16, 32))\n",
    "    ret[:5,:] = ibl\n",
    "    return ret\n",
    "\n",
    "def get_files(folder):\n",
    "    return [os.path.join(folder, f) for f in os.listdir(folder) if os.path.isfile(os.path.join(folder, f))]\n",
    "\n",
    "def get_folders(folder):\n",
    "    return [os.path.join(folder, f) for f in os.listdir(folder) if os.path.isdir(os.path.join(folder, f))]"
   ]
  },
  {
   "cell_type": "code",
   "execution_count": null,
   "metadata": {},
   "outputs": [],
   "source": [
    "result_folder = '/home/ysheng/Dataset/evaluation/'\n",
    "\n",
    "model_list = get_folders(result_folder)"
   ]
  }
 ],
 "metadata": {
  "kernelspec": {
   "display_name": "Python 3",
   "language": "python",
   "name": "python3"
  },
  "language_info": {
   "codemirror_mode": {
    "name": "ipython",
    "version": 3
   },
   "file_extension": ".py",
   "mimetype": "text/x-python",
   "name": "python",
   "nbconvert_exporter": "python",
   "pygments_lexer": "ipython3",
   "version": "3.7.7"
  }
 },
 "nbformat": 4,
 "nbformat_minor": 4
}
