{
 "cells": [
  {
   "cell_type": "code",
   "execution_count": 1,
   "metadata": {},
   "outputs": [],
   "source": [
    "%load_ext autoreload\n",
    "%autoreload 2"
   ]
  },
  {
   "cell_type": "code",
   "execution_count": 3,
   "metadata": {},
   "outputs": [
    {
     "name": "stdout",
     "output_type": "stream",
     "text": [
      "options:  Namespace(file='/home/ysheng/.local/share/jupyter/runtime/kernel-4d89612a-8568-4907-b8a7-acca55cef590.json', ibl=None, mask=None, output=None, verbose=False, weight='../weights/group_norm_15-May-07-45-PM.pt')\n",
      "Device:  cuda:2\n"
     ]
    }
   ],
   "source": [
    "import sys\n",
    "sys.path.append('..')\n",
    "\n",
    "import os\n",
    "from os.path import join\n",
    "import numpy as np\n",
    "import matplotlib.pyplot as plt\n",
    "import csv\n",
    "from tqdm import tqdm\n",
    "import multiprocessing\n",
    "from functools import partial\n",
    "from PIL import Image\n",
    "import numbergen as ng\n",
    "import imagen as ig\n",
    "import time\n",
    "import cv2\n",
    "from ssn.random_pattern import random_pattern\n",
    "import numbergen as ng\n",
    "import imagen as ig\n",
    "import random\n",
    "import imageio\n",
    "from evaluation import evaluate, mitsuba_render, net_gt, net_render"
   ]
  },
  {
   "cell_type": "code",
   "execution_count": 24,
   "metadata": {},
   "outputs": [],
   "source": [
    "def get_files(folder):\n",
    "    return [os.path.join(folder, f) for f in os.listdir(folder) if os.path.isfile(os.path.join(folder, f))]\n",
    "\n",
    "def get_folders(folder):\n",
    "    return [os.path.join(folder, f) for f in os.listdir(folder) if os.path.isdir(os.path.join(folder, f))]"
   ]
  },
  {
   "cell_type": "code",
   "execution_count": 6,
   "metadata": {},
   "outputs": [],
   "source": [
    "pattern_generator = random_pattern()\n",
    "\n",
    "def show(img, title='',cmap=None): \n",
    "    print('shape: {}, min: {}, max: {}'.format(img.shape, np.min(img), np.max(img)))\n",
    "    plt.figure(figsize=(15,10))\n",
    "    plt.imshow(img, cmap=cmap)\n",
    "    plt.title(title)\n",
    "    plt.show()"
   ]
  },
  {
   "cell_type": "code",
   "execution_count": 40,
   "metadata": {},
   "outputs": [
    {
     "name": "stdout",
     "output_type": "stream",
     "text": [
      "1 5\n",
      "2 5\n",
      "4 4\n",
      "10 1\n",
      "20 2\n",
      "30 1\n",
      "40 1\n",
      "50 1\n"
     ]
    }
   ],
   "source": [
    "us_dict={1:5, 2:5, 4:4, 10:1,20:2,30:1,40:1,50:1}\n",
    "output_folder = 'user_study'\n",
    "os.makedirs(output_folder, exist_ok=True)\n",
    "\n",
    "for key,value in us_dict.items():\n",
    "    print(key, value)\n",
    "    for i in range(value):\n",
    "        sampled_ibl = pattern_generator.get_pattern(key, size=0.12)\n",
    "        save_path = join(output_folder, '{}_{}_ibl.png'.format(key, i))\n",
    "        plt.imsave(save_path, sampled_ibl, cmap='gray')"
   ]
  },
  {
   "cell_type": "code",
   "execution_count": 25,
   "metadata": {},
   "outputs": [],
   "source": [
    "testing_ibl_folder = '/home/ysheng/Dataset/ibls/pattern/'\n",
    "high_reso_testing_ibl_folder = '/home/ysheng/Dataset/ibls/high_pattern/'\n",
    "testing_real_ibl_folder = '/home/ysheng/Dataset/ibls/real/'\n",
    "model_folder = '/home/ysheng/Dataset/models/'\n",
    "test_model_folder='/home/ysheng/Dataset/test_models/'\n",
    "result_folder = '/home/ysheng/Dataset/evaluation'"
   ]
  },
  {
   "cell_type": "code",
   "execution_count": 41,
   "metadata": {},
   "outputs": [
    {
     "name": "stdout",
     "output_type": "stream",
     "text": [
      "5\n",
      "['simulated_combine_female_genesis8_basic_wildwind_bardot_FEP_Pose_118_Genesis_8_Female', 'simulated_combine_male_genesis8_matias_hywavybob_dsoset_Base_Pose_Walking_B', 'simulated_combine_male_genesis8_basic_blair_cityboy_Altern8_Lee_8_-_Pose_11_B', 'simulated_combine_female_genesis8_missshang_hywavybob_xfharemoutfit_Base_Pose_Standing_B', 'simulated_combine_male_genesis8_lee8_armani_informalsuit_Base_Pose_Standing_A']\n"
     ]
    }
   ],
   "source": [
    "model_lists = get_files(test_model_folder)\n",
    "test_model_list = []\n",
    "for m in model_lists:\n",
    "    model_name = os.path.splitext(os.path.basename(m))[0]\n",
    "    test_model_list.append(model_name)\n",
    "\n",
    "# test_model_list = random.sample(test_model_list, k=10, )\n",
    "print(len(test_model_list))\n",
    "print(test_model_list)\n",
    "\n",
    "mask_dict = dict()\n",
    "mask_root = '/home/ysheng/Dataset/new_dataset/cache/test_mask/'\n",
    "sample_list = []\n",
    "for model in test_model_list:\n",
    "    mask_folder = join(mask_root, model)\n",
    "    masks = get_files(mask_folder)\n",
    "    filterd_masks = []\n",
    "    for m in masks:\n",
    "        if m.find('.png') != -1:\n",
    "            filterd_masks.append(m)\n",
    "    \n",
    "    sample_list += filterd_masks"
   ]
  },
  {
   "cell_type": "code",
   "execution_count": 43,
   "metadata": {},
   "outputs": [
    {
     "name": "stdout",
     "output_type": "stream",
     "text": [
      "75\n",
      "20\n",
      "20\n"
     ]
    }
   ],
   "source": [
    "print(len(sample_list))\n",
    "\n",
    "random.seed(19920208)\n",
    "us_mask = random.sample(sample_list, k=20)\n",
    "print(len(us_mask))\n",
    "\n",
    "ibl_folder = 'user_study'\n",
    "us_ibls = get_files(ibl_folder)\n",
    "print(len(us_ibls))\n",
    "\n",
    "np.random.shuffle(us_ibls)\n",
    "np.random.shuffle(us_mask)"
   ]
  },
  {
   "cell_type": "code",
   "execution_count": null,
   "metadata": {},
   "outputs": [
    {
     "name": "stdout",
     "output_type": "stream",
     "text": [
      "shape: (80, 512, 4), min: 0.0, max: 1.0\n"
     ]
    },
    {
     "data": {
      "image/png": "[encoded data removed]",
      "text/plain": [
       "<Figure size 1080x720 with 1 Axes>"
      ]
     },
     "metadata": {
      "needs_background": "light"
     },
     "output_type": "display_data"
    },
    {
     "name": "stdout",
     "output_type": "stream",
     "text": [
      "shape: (256, 256, 4), min: 0.0, max: 1.0\n"
     ]
    },
    {
     "data": {
      "image/png": "[encoded data removed]",
      "text/plain": [
       "<Figure size 1080x720 with 1 Axes>"
      ]
     },
     "metadata": {
      "needs_background": "light"
     },
     "output_type": "display_data"
    },
    {
     "name": "stdout",
     "output_type": "stream",
     "text": [
      "> <ipython-input-49-d7fb47886dbe>(17)<module>()\n",
      "-> final_out, shadow_out = join(user_study_result, '{}_final.exr'.format(prefix)), join(user_study_result, '{}_shadow.exr'.format(prefix))\n"
     ]
    }
   ],
   "source": [
    "def get_fname(fpath):\n",
    "    return os.path.splitext(os.path.basename(fpath))[0]\n",
    "\n",
    "# prepare mitsuba result\n",
    "user_study_result = 'user_study_result'\n",
    "os.makedirs(user_study_result, exist_ok=True)\n",
    "\n",
    "for i in range(len(us_ibls)):\n",
    "    ibl, mask = us_ibls[i], us_mask[i]\n",
    "    ibl_np, mask_np = plt.imread(ibl), plt.imread(mask)\n",
    "    show(ibl_np)\n",
    "    show(mask_np)\n",
    "    \n",
    "    ibl_name, mask_name = get_fname(ibl), get_fname(mask)\n",
    "    prefix = '{}_{}'.format(ibl_name, mask_name)\n",
    "    final_out, shadow_out = join(user_study_result, '{}_final.exr'.format(prefix)), join(user_study_result, '{}_shadow.exr'.format(prefix))\n",
    "    \n",
    "    mitsuba_render(mask, ibl, final_out, shadow_out, real_ibl=False)\n",
    "    final_np, shadow_np = imageio.imread(final_out), imageio.imread(shadow_out)\n",
    "    cv2.normalize(final_np,final_np, 0.0, 1.0, cv2.NORM_MINMAX)\n",
    "    show(final_np)\n",
    "    show(shadow_np)"
   ]
  },
  {
   "cell_type": "code",
   "execution_count": 37,
   "metadata": {},
   "outputs": [],
   "source": [
    "# prepare net renderign result\n",
    "\n"
   ]
  },
  {
   "cell_type": "code",
   "execution_count": null,
   "metadata": {},
   "outputs": [],
   "source": []
  }
 ],
 "metadata": {
  "kernelspec": {
   "display_name": "Python 3",
   "language": "python",
   "name": "python3"
  },
  "language_info": {
   "codemirror_mode": {
    "name": "ipython",
    "version": 3
   },
   "file_extension": ".py",
   "mimetype": "text/x-python",
   "name": "python",
   "nbconvert_exporter": "python",
   "pygments_lexer": "ipython3",
   "version": "3.7.7"
  }
 },
 "nbformat": 4,
 "nbformat_minor": 4
}
