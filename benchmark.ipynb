{
 "cells": [
  {
   "cell_type": "code",
   "execution_count": 1,
   "metadata": {},
   "outputs": [],
   "source": [
    "%load_ext autoreload\n",
    "%autoreload 2"
   ]
  },
  {
   "cell_type": "code",
   "execution_count": 2,
   "metadata": {},
   "outputs": [],
   "source": [
    "import os\n",
    "from os.path import join\n",
    "import matplotlib.pyplot as plt\n",
    "import glob\n",
    "import cv2\n",
    "import numpy as np\n",
    "import  torch \n",
    "import pandas as pd\n",
    "from evaluation import metric\n",
    "from tqdm import tqdm\n",
    "import matplotlib.pyplot as plt\n",
    "from PIL import Image"
   ]
  },
  {
   "cell_type": "markdown",
   "metadata": {},
   "source": [
    "# benchmark quantitative results"
   ]
  },
  {
   "cell_type": "code",
   "execution_count": 3,
   "metadata": {},
   "outputs": [],
   "source": [
    "benchmark_folder = '/home/ysheng/Dataset/benchmark_ds/'\n",
    "gt_folder = join(benchmark_folder, 'shadow_gt')\n",
    "exp_folder = join(benchmark_folder, 'old_baseline_human')"
   ]
  },
  {
   "cell_type": "code",
   "execution_count": null,
   "metadata": {},
   "outputs": [
    {
     "name": "stderr",
     "output_type": "stream",
     "text": [
      "\n",
      "  0%|          | 0/9 [00:00<?, ?it/s]\u001b[A"
     ]
    },
    {
     "name": "stdout",
     "output_type": "stream",
     "text": [
      "> <ipython-input-8-f1253c2353b0>(24)one_folder_result()\n",
      "-> gt_file = join(gt_sub, join(os.path.basename(m), gt_file + '.png'))\n"
     ]
    },
    {
     "name": "stdin",
     "output_type": "stream",
     "text": [
      "(Pdb)  print(gt_file)\n"
     ]
    },
    {
     "name": "stdout",
     "output_type": "stream",
     "text": [
      "shadow_pitch_19_rot_46_fov_63_mts_23_0\n"
     ]
    },
    {
     "name": "stdin",
     "output_type": "stream",
     "text": [
      "(Pdb)  n\n"
     ]
    },
    {
     "name": "stdout",
     "output_type": "stream",
     "text": [
      "> <ipython-input-8-f1253c2353b0>(26)one_folder_result()\n",
      "-> gt_img = 1.0 - to_metric_img(read_img(gt_file))\n"
     ]
    },
    {
     "name": "stdin",
     "output_type": "stream",
     "text": [
      "(Pdb)  print(gt_file)\n"
     ]
    },
    {
     "name": "stdout",
     "output_type": "stream",
     "text": [
      "/home/ysheng/Dataset/benchmark_ds/shadow_gt/human/simulated_combine_male_short_outfits_genesis8_armani_semicasual_Base_Pose_Standing_C/shadow_pitch_19_rot_46_fov_63_mts_23_0.png\n"
     ]
    }
   ],
   "source": [
    "def read_img(file):\n",
    "#     img = plt.imread(file)\n",
    "#     import pdb; pdb.set_trace()\n",
    "    img = cv2.imread(file,cv2.IMREAD_ANYCOLOR | cv2.IMREAD_ANYDEPTH)\n",
    "    img = img/img.max()\n",
    "    return img\n",
    "\n",
    "def to_metric_img(img):\n",
    "    img = (img[:,:,0] + img[:,:,1] + img[:,:,2])/3.0\n",
    "    cv2.normalize(img, img, 0.0,1.0,cv2.NORM_MINMAX)\n",
    "    return img\n",
    "\n",
    "def one_folder_result(gt_folder, exp_folder, subfolder):\n",
    "    exp_sub = join(exp_folder, subfolder)\n",
    "    gt_sub = join(gt_folder, subfolder)\n",
    "    models = glob.glob(join(exp_sub, '*'))\n",
    "    result = []    \n",
    "    for m in tqdm(models):\n",
    "        files = glob.glob(join(m, 'shadow_*.npy'))\n",
    "        for file in files:\n",
    "            gt_file = os.path.splitext(os.path.basename(file))[0]\n",
    "            \n",
    "            import pdb; pdb.set_trace()\n",
    "            gt_file = join(gt_sub, join(os.path.basename(m), gt_file + '.png'))\n",
    "            \n",
    "            gt_img = 1.0 - to_metric_img(read_img(gt_file))\n",
    "            pred_img = to_metric_img(np.load(file))\n",
    "            \n",
    "            plt.figure(figsize=(15,10))\n",
    "            plt.subplot(1,2,1)\n",
    "            plt.imshow(gt_img, cmap='gray')\n",
    "            plt.subplot(1,2,2)\n",
    "            plt.imshow(pred_img, cmap='gray')\n",
    "            \n",
    "            rmse, rmse_s, zncc, dssim = metric.rmse(gt_img, pred_img), metric.rmse_s(gt_img, pred_img)[1], metric.ZNCC(gt_img, pred_img), metric.DSSIM(gt_img, pred_img)\n",
    "            \n",
    "            result.append([gt_file, file,  rmse, rmse_s, zncc, dssim])\n",
    "            \n",
    "            break\n",
    "        break\n",
    "            \n",
    "    return result\n",
    "\n",
    "result = [['gt_file', 'pred_file', 'RMSE', 'RMSE-s', 'ZNCC', 'DSSIM']]\n",
    "result = result + one_folder_result(gt_folder,exp_folder,'human')\n",
    "result = result + one_folder_result(gt_folder,exp_folder,'general')\n",
    "\n",
    "df = pd.DataFrame(data=result)\n",
    "display(df)"
   ]
  },
  {
   "cell_type": "code",
   "execution_count": null,
   "metadata": {},
   "outputs": [],
   "source": []
  },
  {
   "cell_type": "markdown",
   "metadata": {},
   "source": [
    "# Sample results"
   ]
  },
  {
   "cell_type": "code",
   "execution_count": 9,
   "metadata": {},
   "outputs": [],
   "source": [
    "def show(img):\n",
    "    plt.figure(figsize=(15,10))\n",
    "    plt.imshow(img)\n",
    "    plt.show()\n",
    "    "
   ]
  },
  {
   "cell_type": "code",
   "execution_count": 10,
   "metadata": {},
   "outputs": [
    {
     "data": {
      "image/png": "[encoded data removed]",
      "text/plain": [
       "<Figure size 1080x720 with 1 Axes>"
      ]
     },
     "metadata": {
      "needs_background": "light"
     },
     "output_type": "display_data"
    }
   ],
   "source": [
    "test_gt = '/home/ysheng/Dataset/benchmark_ds/shadow_gt/general/airplane_0685/shadow_pitch_15_rot_-28_fov_92_mts_1_0.png'\n",
    "img = plt.imread(test_gt)\n",
    "show(img)"
   ]
  },
  {
   "cell_type": "code",
   "execution_count": 11,
   "metadata": {},
   "outputs": [],
   "source": [
    "def get_mask_ibl(path, general=True):\n",
    "    \"\"\" Given gt path, return mask and ibl map\n",
    "    \"\"\"\n",
    "    mask_root = '/home/ysheng/Dataset/benchmark_ds/mask'\n",
    "    ibl_root = '/home/ysheng/Dataset/benchmark_ds/lights'\n",
    "    if general:\n",
    "        mask_root = join(mask_root, 'general')\n",
    "    else:\n",
    "        mask_root = join(mask_root, 'human')\n",
    "\n",
    "    model_name = os.path.basename(os.path.dirname(path))\n",
    "    basename = os.path.basename(path)\n",
    "    pitch_rot = basename[basename.find('pitch'):basename.find('_mts')]\n",
    "    ibl = basename[basename.find('mts')+len('mts_'):basename.find('.png')]\n",
    "    \n",
    "    mask_path = join(mask_root, join(model_name, pitch_rot + '_mask.png'))\n",
    "    ibl_path = join(ibl_root, ibl + '.png')\n",
    "    \n",
    "    return mask_path, ibl_path\n",
    "\n",
    "mask, ibl = get_mask_ibl(test_gt)"
   ]
  },
  {
   "cell_type": "code",
   "execution_count": 12,
   "metadata": {},
   "outputs": [],
   "source": [
    "from ssn.ssn_touch import SSN_Touch\n",
    "from ssn.ssn_dataset import ToTensor"
   ]
  },
  {
   "cell_type": "code",
   "execution_count": 16,
   "metadata": {},
   "outputs": [
    {
     "data": {
      "text/plain": [
       "<All keys matched successfully>"
      ]
     },
     "execution_count": 16,
     "metadata": {},
     "output_type": "execute_result"
    }
   ],
   "source": [
    "device = torch.device(\"cuda:0\" if torch.cuda.is_available() else \"cpu\")\n",
    "\n",
    "model = SSN_Touch()\n",
    "model.to(device)\n",
    "checkpoint = torch.load('weights/new_arch_baseline.pt', map_location=device)\n",
    "model.load_state_dict(checkpoint['model_state_dict'])"
   ]
  },
  {
   "cell_type": "code",
   "execution_count": 18,
   "metadata": {},
   "outputs": [
    {
     "name": "stdout",
     "output_type": "stream",
     "text": [
      "(256, 256, 1)\n"
     ]
    },
    {
     "data": {
      "image/png": "[encoded data removed]",
      "text/plain": [
       "<Figure size 1080x720 with 1 Axes>"
      ]
     },
     "metadata": {
      "needs_background": "light"
     },
     "output_type": "display_data"
    },
    {
     "data": {
      "image/png": "[encoded data removed]",
      "text/plain": [
       "<Figure size 1080x720 with 1 Axes>"
      ]
     },
     "metadata": {
      "needs_background": "light"
     },
     "output_type": "display_data"
    },
    {
     "data": {
      "image/png": "[encoded data removed]",
      "text/plain": [
       "<Figure size 1080x720 with 1 Axes>"
      ]
     },
     "metadata": {
      "needs_background": "light"
     },
     "output_type": "display_data"
    }
   ],
   "source": [
    "def to_net_ibl(ibl_file):\n",
    "    \"\"\" input:  32 x 16\n",
    "        output: 32 x 8\n",
    "    \"\"\"\n",
    "    def normalize_energy(ibl, energy=30.0):\n",
    "        sum_ibl = np.sum(ibl)\n",
    "        if sum_ibl < 1e-3:\n",
    "            return ibl * 0.0\n",
    "        return ibl * energy / sum_ibl\n",
    "\n",
    "    ibl = plt.imread(ibl_file)\n",
    "    if np.uint8 == ibl.dtype:\n",
    "        ibl = ibl / 255.0\n",
    "    \n",
    "    ibl = ibl[:128,:,:1]\n",
    "    ibl = cv2.resize(ibl, (32,16))\n",
    "#     ibl = cv2.flip(ibl, 0)\n",
    "    return normalize_energy(ibl)\n",
    "\n",
    "tensor_convert = ToTensor()\n",
    "def to_tensor(mask_np, ibl_np):\n",
    "    assert len(mask_np.shape) == 2\n",
    "    \n",
    "    mask = mask_np[:,:,np.newaxis]\n",
    "    ibl_np = ibl_np[:,:,np.newaxis]\n",
    "    mask = tensor_convert(mask)\n",
    "    ibl = tensor_convert(ibl_np)\n",
    "    return mask.unsqueeze(0), ibl.unsqueeze(0)\n",
    "\n",
    "def ssn_touch_pred(model, mask, ibl):\n",
    "    ibl_img = to_net_ibl(ibl)\n",
    "    mask_img = plt.imread(mask)\n",
    "    if mask_img.dtype == np.uint8:\n",
    "        mask_img = mask_img/255.0\n",
    "    \n",
    "    mask_img = (mask_img[:,:,0] + mask_img[:,:,1] + mask_img[:,:,2])/3.0\n",
    "    mask, ibl = to_tensor(mask_img, ibl_img)\n",
    "    mask, ibl = mask.to(device), ibl.to(device)\n",
    "    touch = torch.zeros((1,1,256,256)).to(device)\n",
    "    I_s = torch.cat((mask, touch), 1)\n",
    "    \n",
    "    I_s = I_s.to(device)\n",
    "    shadow, touch_pred = model(I_s, ibl)\n",
    "    \n",
    "    I_s = torch.cat((mask, touch_pred), 1)\n",
    "    I_s = I_s.to(device)\n",
    "    shadow, touch_pred = model(I_s, ibl)\n",
    "    \n",
    "    return shadow[0].detach().cpu().numpy().transpose((1,2,0))\n",
    "\n",
    "img = ssn_touch_pred(model, mask, ibl)\n",
    "print(img.shape)\n",
    "show(plt.imread(mask))\n",
    "show(plt.imread(ibl))\n",
    "show(img.squeeze())"
   ]
  },
  {
   "cell_type": "code",
   "execution_count": null,
   "metadata": {},
   "outputs": [],
   "source": []
  }
 ],
 "metadata": {
  "kernelspec": {
   "display_name": "Python 3",
   "language": "python",
   "name": "python3"
  },
  "language_info": {
   "codemirror_mode": {
    "name": "ipython",
    "version": 3
   },
   "file_extension": ".py",
   "mimetype": "text/x-python",
   "name": "python",
   "nbconvert_exporter": "python",
   "pygments_lexer": "ipython3",
   "version": "3.7.7"
  }
 },
 "nbformat": 4,
 "nbformat_minor": 4
}
