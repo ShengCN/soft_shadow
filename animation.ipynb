{
 "cells": [
  {
   "cell_type": "code",
   "execution_count": 1,
   "metadata": {},
   "outputs": [],
   "source": [
    "%load_ext autoreload\n",
    "%autoreload 2"
   ]
  },
  {
   "cell_type": "code",
   "execution_count": 2,
   "metadata": {},
   "outputs": [],
   "source": [
    "import numpy as np\n",
    "from data_process.shadow_render import render_shadow\n",
    "import matplotlib.pyplot as plt\n",
    "\n",
    "import torch\n",
    "from ssn import ssn_dataset\n",
    "from torchvision import transforms, utils\n",
    "import numpy as np\n",
    "from utils.net_utils import show_batch, show_light_batch\n",
    "import numpy as np\n",
    "from scipy.ndimage.filters import gaussian_filter\n",
    "import torch\n",
    "import torch.nn as nn\n",
    "from torchvision import transforms\n",
    "from torch.utils.data import Dataset, DataLoader\n",
    "import matplotlib.pyplot as plt"
   ]
  },
  {
   "cell_type": "markdown",
   "metadata": {},
   "source": [
    "# Testing relative vectors"
   ]
  },
  {
   "cell_type": "code",
   "execution_count": 3,
   "metadata": {},
   "outputs": [],
   "source": [
    "# generate ibls(rotating around)\n",
    "def to_mask(img):\n",
    "    img = (img[:,:,0] + img[:,:,1] + img[:,:,2])/3.0\n",
    "    img = img/np.max(img)\n",
    "    return img\n",
    "\n",
    "# relative_vec = np.array([0.108, 2.64, 1.8])\n",
    "# ibl_img = to_mask(render_shadow(relative_vec))"
   ]
  },
  {
   "cell_type": "markdown",
   "metadata": {},
   "source": [
    "# Render predictions  "
   ]
  },
  {
   "cell_type": "code",
   "execution_count": 4,
   "metadata": {},
   "outputs": [],
   "source": [
    "from tqdm import tqdm\n",
    "from PIL import Image\n",
    "from ssn.ssn_dataset import Mask_Transform, IBL_Transform, ToTensor\n",
    "import os \n",
    "\n",
    "def show_np(img):\n",
    "    plt.figure()\n",
    "    plt.imshow(img)\n",
    "\n",
    "def to_one_batch(img_tensor):\n",
    "    c,h,w = img_tensor.size()\n",
    "    return img_tensor.view(1,c,h,w)\n",
    "\n",
    "def to_numpy(one_batch):\n",
    "    return one_batch[0].detach().cpu().numpy().transpose((1,2,0))\n",
    "\n",
    "def real_to_mask(img):\n",
    "    # print(np.max(img))\n",
    "    h,w,c = img.shape\n",
    "    mask = np.zeros((h,w,3), dtype=np.uint8)\n",
    "    mask[:,:,0],mask[:,:,1],mask[:,:,2]  = img[:,:,3], img[:,:,3], img[:,:,3]\n",
    "    \n",
    "    mask_img = Image.fromarray(mask)\n",
    "    new_h,new_w = 100, 100\n",
    "    mask_np = np.array(mask_img.resize((new_h,new_w), Image.BILINEAR)) \n",
    "    \n",
    "    mask = np.zeros((256,256,3),dtype=np.uint8)\n",
    "    mask[(256-new_h)//2:(256-new_h)//2 + new_h,(256-new_w)//2:(256-new_w)//2 + new_w] = mask_np\n",
    "    \n",
    "    return mask"
   ]
  },
  {
   "cell_type": "code",
   "execution_count": null,
   "metadata": {},
   "outputs": [],
   "source": [
    "import random\n",
    "from scipy.ndimage.filters import gaussian_filter\n",
    "output_folder = '/home/ysheng/Documents/adobe_shadow_net/testing_lights/'\n",
    "output_folder = '/home/ysheng/Dataset/soft_shadow/train/airplane_0330_normalize/imgs'\n",
    "\n",
    "prediction_result_folder = '/home/ysheng/Documents/adobe_shadow_net/results/animations/'\n",
    "\n",
    "testing_fname = '/home/ysheng/Dataset/soft_shadow/real_human_testing_set/10944340-young-man-standing.png'\n",
    "testing_img = Image.open(testing_fname)\n",
    "testing_img = real_to_mask(np.array(testing_img))\n",
    "\n",
    "testing_ibl_fnames = [f for f in os.listdir(output_folder) if f.find(\"light\") != -1]\n",
    "print(len(testing_ibl_fnames))\n",
    "\n",
    "counter = 1\n",
    "\n",
    "img_trnsf = transforms.Compose([\n",
    "    Mask_Transform(),\n",
    "    ToTensor()\n",
    "])\n",
    "ibl_trnsf = transforms.Compose([\n",
    "    IBL_Transform(),\n",
    "    ToTensor()\n",
    "])\n",
    "\n",
    "random.shuffle(testing_ibl_fnames) \n",
    "counter = 0\n",
    "\n",
    "for ibl_file in tqdm(testing_ibl_fnames):\n",
    "    prefix = os.path.splitext(ibl_file)[0]\n",
    "    out_file = '{}.png'.format(prefix)\n",
    "    predict_fname = os.path.join(prediction_result_folder, out_file)\n",
    "    \n",
    "    ibl_img = np.array(Image.open(os.path.join(output_folder, ibl_file)))\n",
    "    shadow = predict(testing_img, np.array(ibl_img))\n",
    "    \n",
    "    ibl_img = ibl_img/np.max(ibl_img)\n",
    "    ibl_img = (ibl_img[:,:,0] + ibl_img[:,:,1] + ibl_img[:,:,2])/3.0\n",
    "    ibl_img = gaussian_filter(ibl_img, sigma=20)\n",
    "    show_np(ibl_img)\n",
    "    show_np(shadow)\n",
    "    \n",
    "    counter += 1\n",
    "    if counter > 5:\n",
    "        break"
   ]
  },
  {
   "cell_type": "markdown",
   "metadata": {},
   "source": [
    "# Make animations"
   ]
  },
  {
   "cell_type": "code",
   "execution_count": 19,
   "metadata": {},
   "outputs": [
    {
     "name": "stderr",
     "output_type": "stream",
     "text": [
      "100%|██████████| 512/512 [02:48<00:00,  3.03it/s]\n"
     ]
    },
    {
     "data": {
      "image/png": "[encoded data removed]",
      "text/plain": [
       "<Figure size 432x288 with 1 Axes>"
      ]
     },
     "metadata": {
      "needs_background": "light"
     },
     "output_type": "display_data"
    }
   ],
   "source": [
    "from valid_relight_ssn import render_animation\n",
    "import numpy as np\n",
    "from PIL import Image\n",
    "\n",
    "# testing_fname = '/home/ysheng/Dataset/soft_shadow/real_human_testing_set/10944340-young-man-standing.png'\n",
    "testing_fname = '/home/ysheng/Dataset/soft_shadow/train/simulated_combine_female_long_outfits_genesis8_sportychic_sportychic_CDIG8Female_StandH/imgs/0000000_mask.png'\n",
    "testing_img = Image.open(testing_fname)\n",
    "real_human = np.array(testing_img)\n",
    "# real_human = real_to_mask(np.array(testing_img))\n",
    "show_np(real_human)\n",
    "output_folder = 'results/animations/experiments'\n",
    "os.makedirs(output_folder, exist_ok=True)\n",
    "render_animation(real_human, output_folder)\n",
    "\n",
    "# training_human = '/home/ysheng/Dataset/soft_shadow/train/simulated_combine_female_long_fullbody_bridget8_wildwind_ssradclosedrobe_Base_Pose_Standing_A/imgs/0000000_mask.png'\n",
    "# testing_img = np.array(Image.open(training_human))\n",
    "# show_np(testing_img)\n",
    "# output_folder = 'results/animations/training_human_own_light'\n",
    "# os.makedirs(output_folder, exist_ok=True)\n",
    "# render_animation(testing_img, output_folder)\n",
    "\n",
    "# training_bottle = '/home/ysheng/Dataset/soft_shadow/train/bottle_0052_normalize/imgs/0000000_mask.png'\n",
    "# testing_img = np.array(Image.open(training_bottle))\n",
    "# show_np(testing_img)\n",
    "# output_folder = 'results/animations/training_simple_obj'\n",
    "# os.makedirs(output_folder, exist_ok=True)\n",
    "# render_animation(testing_img, output_folder)"
   ]
  },
  {
   "cell_type": "code",
   "execution_count": null,
   "metadata": {},
   "outputs": [],
   "source": []
  }
 ],
 "metadata": {
  "kernelspec": {
   "display_name": "Python 3",
   "language": "python",
   "name": "python3"
  },
  "language_info": {
   "codemirror_mode": {
    "name": "ipython",
    "version": 3
   },
   "file_extension": ".py",
   "mimetype": "text/x-python",
   "name": "python",
   "nbconvert_exporter": "python",
   "pygments_lexer": "ipython3",
   "version": "3.7.5"
  }
 },
 "nbformat": 4,
 "nbformat_minor": 4
}
