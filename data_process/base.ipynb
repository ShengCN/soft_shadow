{
 "cells": [
  {
   "cell_type": "code",
   "execution_count": null,
   "metadata": {},
   "outputs": [],
   "source": [
    "import os\n",
    "import numpy as np\n",
    "import matplotlib.pyplot as plt\n",
    "import csv\n",
    "from tqdm import tqdm\n",
    "import multiprocessing\n",
    "from functools import partial\n",
    "from PIL import Image"
   ]
  },
  {
   "cell_type": "code",
   "execution_count": null,
   "metadata": {},
   "outputs": [],
   "source": [
    "path = 'D:/HPCG/Adobe/labels/notsimulated_combine_male_short_outfits_genesis8_armani_casualoutfit03_Base_Pose_Standing_A'\n",
    "output_folder = os.path.join(path, 'base')\n",
    "gt_file = os.path.join(path, 'ground_truth.txt')\n",
    "lines = []\n",
    "\n",
    "with open(gt_file) as f:\n",
    "    reader = csv.reader(f, delimiter=',')\n",
    "    for r in reader:\n",
    "        lines.append(r)\n",
    "\n",
    "print('there are {} lines'.format(len(lines)))"
   ]
  },
  {
   "cell_type": "code",
   "execution_count": null,
   "metadata": {},
   "outputs": [],
   "source": [
    "# construct the map\n",
    "# [camera, human_rot] -> [[i, j]->[prefix]]\n",
    "# oss << cur_prefix << \",\";\n",
    "# oss << light_pixel_pos.to_string() << \",\";\n",
    "# oss << to_string(manager.cur_camera->_position) << \",\";\n",
    "# oss << target_rot << \",\";\n",
    "# oss << to_string(render_target->compute_world_center()) << \",\";\n",
    "# oss << to_string(manager.m_lights[0]->m_verts[0]) << std::endl;\n",
    "# gt_str.push_back(oss.str());\n",
    "group_data = {}\n",
    "for l in tqdm(lines):\n",
    "    prefix = l[0]\n",
    "    ibl = (int(l[1]), int(l[2]))\n",
    "    camera_pos = (l[3], l[4], l[5])\n",
    "    rot = l[6]\n",
    "    target_center = (l[7], l[8], l[9])\n",
    "    light_pos = (l[10], l[11], l[12])\n",
    "\n",
    "    key = (camera_pos, rot)\n",
    "    if key not in group_data.keys():\n",
    "        group_data[key] = dict()\n",
    "\n",
    "    ibl_key = ibl\n",
    "    group_data[key][ibl_key] = prefix"
   ]
  },
  {
   "cell_type": "code",
   "execution_count": null,
   "metadata": {},
   "outputs": [],
   "source": [
    "print('keys: ',len(group_data.keys()))\n",
    "print('keys: ', group_data.keys())\n",
    "\n",
    "# h x w x x x y \n",
    "h, w, x, y = 256,256, 512, 256-176 \n",
    "\n",
    "print(h * w * x * y * 4 / 1024 / 1024 /1024)\n",
    "\n",
    "all_data = np.zeros((h, w, x, y))"
   ]
  },
  {
   "cell_type": "code",
   "execution_count": null,
   "metadata": {},
   "outputs": [],
   "source": [
    "info_str = \"\"\n",
    "new_prefix = 0\n",
    "img_folder = os.path.join(path, 'imgs')\n",
    "x_begin, y_begin = 0, 176\n",
    "\n",
    "for key in group_data.keys():\n",
    "    # loading data\n",
    "    for (ibl, prefix) in tqdm(group_data[key].items()):\n",
    "        x, y = ibl\n",
    "        if y < 176:\n",
    "            continue\n",
    "        \n",
    "        if y > 255:\n",
    "            print('y: {} is out of range, bug here'.format(y))\n",
    "            break\n",
    "        \n",
    "        shadow_path = os.path.join(img_folder, prefix + '_shadow.png')\n",
    "        shadow_np = plt.imread(shadow_path)\n",
    "        \n",
    "        cur_x, cur_y = x - x_begin, y - y_begin\n",
    "        all_data[:,:, cur_x, cur_y] = shadow_np[:,:,0]\n",
    "    \n",
    "    break"
   ]
  },
  {
   "cell_type": "code",
   "execution_count": null,
   "metadata": {},
   "outputs": [],
   "source": [
    " "
   ]
  }
 ],
 "metadata": {
  "kernelspec": {
   "display_name": "Python 3",
   "language": "python",
   "name": "python3"
  },
  "language_info": {
   "codemirror_mode": {
    "name": "ipython",
    "version": 3
   },
   "file_extension": ".py",
   "mimetype": "text/x-python",
   "name": "python",
   "nbconvert_exporter": "python",
   "pygments_lexer": "ipython3",
   "version": "3.7.4"
  }
 },
 "nbformat": 4,
 "nbformat_minor": 4
}
