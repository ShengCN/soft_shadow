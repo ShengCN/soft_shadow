{
 "cells": [
  {
   "cell_type": "code",
   "execution_count": 1,
   "metadata": {},
   "outputs": [],
   "source": [
    "%load_ext autoreload\n",
    "%autoreload 2"
   ]
  },
  {
   "cell_type": "code",
   "execution_count": 2,
   "metadata": {},
   "outputs": [],
   "source": [
    "import gt_parser\n",
    "import os\n",
    "\n",
    "# root = \"/home/ysheng/Dataset/soft_shadow/train/\"\n",
    "# sub_folder = \"notsimulated_combine_male_short_outfits_genesis8_armani_casualoutfit03_Base_Pose_Standing_A\"\n",
    "# out_folder = \"/home/ysheng/Dataset/soft_shadow/single_human/\"\n",
    "# test_path = os.path.join(root, os.path.join(sub_folder, \"ground_truth.txt\"))\n",
    "\n",
    "# gt_dict = gt_parser.parse(test_path)\n",
    "# print(len(gt_dict))"
   ]
  },
  {
   "cell_type": "code",
   "execution_count": 3,
   "metadata": {},
   "outputs": [
    {
     "name": "stdout",
     "output_type": "stream",
     "text": [
      "cannot find file  /home/ysheng/Dataset/soft_shadow/train/.ipynb_checkpoints/ground_truth.txt\n"
     ]
    }
   ],
   "source": [
    "dataset_folder = '/home/ysheng/Dataset/soft_shadow/train'\n",
    "\n",
    "out_file = os.path.join(dataset_folder, \"metadata.csv\")\n",
    "\n",
    "gt_parser.parse_folder(dataset_folder, out_file)"
   ]
  },
  {
   "cell_type": "code",
   "execution_count": 4,
   "metadata": {},
   "outputs": [
    {
     "name": "stderr",
     "output_type": "stream",
     "text": [
      "80352it [16:04, 83.32it/s] \n"
     ]
    }
   ],
   "source": [
    "import csv\n",
    "import numpy as np\n",
    "import os\n",
    "from shadow_render import render_shadow\n",
    "import matplotlib.pyplot as plt\n",
    "from tqdm import tqdm\n",
    "\n",
    "\"\"\"input: x_y_z\n",
    "   output: np array\n",
    "\"\"\"\n",
    "def get_vector(vec_str):\n",
    "    x_ind = vec_str.find('_')\n",
    "    x = float(vec_str[:x_ind])\n",
    "    y_ind = vec_str[x_ind + 1:].find('_')\n",
    "    \n",
    "    x = float(vec_str[:x_ind])\n",
    "    y = float(vec_str[x_ind + 1:x_ind + 1 + y_ind])\n",
    "    z = float(vec_str[x_ind + 1 + y_ind + 1:])\n",
    "    return np.array([x,y,z])\n",
    "\n",
    "with open(out_file) as f:\n",
    "    csv_read = csv.reader(f, delimiter=',')\n",
    "    for r in tqdm(csv_read):\n",
    "        mask_path = r[1]\n",
    "        relative_vec_str = r[-1]\n",
    "        relative_vec = get_vector(relative_vec_str)\n",
    "        \n",
    "        folder = os.path.dirname(mask_path)\n",
    "        prefix = os.path.basename(mask_path)[:os.path.basename(mask_path).find(\"_\")]\n",
    "        \n",
    "        light_path = os.path.join(folder,\"{}_light.png\".format(prefix))\n",
    "        \n",
    "#         print(folder)\n",
    "#         print(light_path)\n",
    "        img = render_shadow(relative_vec)\n",
    "        plt.imsave(light_path,img)\n"
   ]
  },
  {
   "cell_type": "code",
   "execution_count": null,
   "metadata": {},
   "outputs": [],
   "source": [
    "import matplotlib.pyplot as plt\n",
    "\n",
    "dir_folder = os.path.join(out_folder, sub_folder)\n",
    "test_file = os.path.join(dir_folder,\"00004799_final.png\")\n",
    "\n",
    "\n",
    "img = plt.imread(test_file)\n",
    "plt.figure()\n",
    "plt.imshow(img)\n",
    "plt.show()"
   ]
  },
  {
   "cell_type": "code",
   "execution_count": null,
   "metadata": {},
   "outputs": [],
   "source": [
    "from shadow_render import render_shadow\n",
    "import matplotlib.pyplot as plt\n",
    "import numpy as np\n",
    "from scipy.ndimage.filters import gaussian_filter\n",
    "\n",
    "def show(img):\n",
    "    img = gaussian_filter(img, 2)\n",
    "    plt.figure()\n",
    "    plt.imshow(img)\n",
    "\n",
    "testing_vec = np.array([0.0, 0.0, -1.0])\n",
    "img = render_shadow(testing_vec)\n",
    "show(img)\n",
    "\n",
    "testing_vec = np.array([0.0, 0.0, 1.0])\n",
    "img = render_shadow(testing_vec)\n",
    "show(img)\n",
    "\n",
    "testing_vec = np.array([0.0, 1.0, 0.0])\n",
    "img = render_shadow(testing_vec)\n",
    "show(img)\n",
    "\n",
    "testing_vec = np.array([0.0, -1.0, 0.0])\n",
    "img = render_shadow(testing_vec)\n",
    "show(img)\n",
    "\n",
    "testing_vec = np.array([1.0, 0.0, 0.0])\n",
    "img = render_shadow(testing_vec)\n",
    "show(img)\n",
    "\n",
    "testing_vec = np.array([-1.0, 0.0, 0.0])\n",
    "img = render_shadow(testing_vec)\n",
    "show(img)\n"
   ]
  },
  {
   "cell_type": "code",
   "execution_count": null,
   "metadata": {},
   "outputs": [],
   "source": []
  }
 ],
 "metadata": {
  "kernelspec": {
   "display_name": "Python 3",
   "language": "python",
   "name": "python3"
  },
  "language_info": {
   "codemirror_mode": {
    "name": "ipython",
    "version": 3
   },
   "file_extension": ".py",
   "mimetype": "text/x-python",
   "name": "python",
   "nbconvert_exporter": "python",
   "pygments_lexer": "ipython3",
   "version": "3.7.5"
  }
 },
 "nbformat": 4,
 "nbformat_minor": 4
}
