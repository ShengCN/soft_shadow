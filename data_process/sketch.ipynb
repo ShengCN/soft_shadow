{
 "cells": [
  {
   "cell_type": "code",
   "execution_count": 1,
   "metadata": {},
   "outputs": [],
   "source": [
    "%load_ext autoreload\n",
    "%autoreload 2"
   ]
  },
  {
   "cell_type": "code",
   "execution_count": 3,
   "metadata": {},
   "outputs": [],
   "source": [
    "import os\n",
    "import numpy as np\n",
    "import matplotlib.pyplot as plt\n",
    "import csv\n",
    "from tqdm import tqdm\n",
    "import multiprocessing\n",
    "from functools import partial\n",
    "from PIL import Image\n",
    "\n",
    "def get_files(folder):\n",
    "    return [os.path.join(folder, f) for f in os.listdir(folder) if os.path.isfile(os.path.join(folder, f))]\n",
    "\n",
    "def get_folders(folder):\n",
    "    return [os.path.join(folder, f) for f in os.listdir(folder) if os.path.isdir(os.path.join(folder, f))]"
   ]
  },
  {
   "cell_type": "code",
   "execution_count": 4,
   "metadata": {},
   "outputs": [
    {
     "name": "stdout",
     "output_type": "stream",
     "text": [
      "there are 89 files\n"
     ]
    }
   ],
   "source": [
    "from os.path import join\n",
    "\n",
    "ds_folder = '/home/ysheng/Dataset/general_dataset/'\n",
    "cache_folder = join(ds_folder, 'cache/shadow_output')\n",
    "obj_list = get_folders(cache_folder)\n",
    "print('there are {} files'.format(len(obj_list)))"
   ]
  },
  {
   "cell_type": "code",
   "execution_count": 5,
   "metadata": {},
   "outputs": [],
   "source": [
    "def get_prefix_list(files):\n",
    "    prefix_list = set()\n",
    "    for f in files:\n",
    "        if f.find('_mask') != -1:\n",
    "            fname = os.path.basename(f)\n",
    "            prefix_list.add(fname[:fname.find('_mask')])\n",
    "    return list(prefix_list)"
   ]
  },
  {
   "cell_type": "code",
   "execution_count": 8,
   "metadata": {},
   "outputs": [],
   "source": [
    "from sketch import sketch"
   ]
  },
  {
   "cell_type": "code",
   "execution_count": 7,
   "metadata": {},
   "outputs": [
    {
     "name": "stderr",
     "output_type": "stream",
     "text": [
      "  0%|          | 0/89 [00:00<?, ?it/s]"
     ]
    },
    {
     "name": "stdout",
     "output_type": "stream",
     "text": [
      "['pitch_45_rot_-45', 'pitch_30_rot_45', 'pitch_45_rot_45', 'pitch_30_rot_0', 'pitch_15_rot_0', 'pitch_30_rot_-45', 'pitch_15_rot_45', 'pitch_15_rot_-45', 'pitch_45_rot_0']\n"
     ]
    },
    {
     "name": "stderr",
     "output_type": "stream",
     "text": [
      "\n"
     ]
    }
   ],
   "source": [
    "for m in tqdm(obj_list):\n",
    "    files = get_files(m)\n",
    "    prefix_list = get_prefix_list(files)\n",
    "    for prefix in prefix_list:\n",
    "        normal_img, depth_img = plt.imread('{}_normal.png'.format(prefix)), plt.imread('{}_depth.png'.format(prefix))\n",
    "        sketch_img = sketch(normal_img, depth_img)\n",
    "        "
   ]
  },
  {
   "cell_type": "code",
   "execution_count": 9,
   "metadata": {},
   "outputs": [
    {
     "name": "stdout",
     "output_type": "stream",
     "text": [
      "(256, 256, 4)\n"
     ]
    }
   ],
   "source": [
    "test_sketch = '/home/ysheng/Dataset/general_dataset/sketch/airplane_0061/pitch_15_rot_-45_sketch.png'\n",
    "img = plt.imread(test_sketch)\n",
    "print(img.shape)"
   ]
  },
  {
   "cell_type": "code",
   "execution_count": 11,
   "metadata": {},
   "outputs": [
    {
     "data": {
      "text/plain": [
       "<matplotlib.image.AxesImage at 0x7f541c056090>"
      ]
     },
     "execution_count": 11,
     "metadata": {},
     "output_type": "execute_result"
    },
    {
     "data": {
      "image/png": "[encoded data removed]",
      "text/plain": [
       "<Figure size 432x288 with 1 Axes>"
      ]
     },
     "metadata": {
      "needs_background": "light"
     },
     "output_type": "display_data"
    },
    {
     "data": {
      "image/png": "[encoded data removed]",
      "text/plain": [
       "<Figure size 432x288 with 1 Axes>"
      ]
     },
     "metadata": {
      "needs_background": "light"
     },
     "output_type": "display_data"
    },
    {
     "data": {
      "image/png": "[encoded data removed]",
      "text/plain": [
       "<Figure size 432x288 with 1 Axes>"
      ]
     },
     "metadata": {
      "needs_background": "light"
     },
     "output_type": "display_data"
    },
    {
     "data": {
      "image/png": "[encoded data removed]",
      "text/plain": [
       "<Figure size 432x288 with 1 Axes>"
      ]
     },
     "metadata": {
      "needs_background": "light"
     },
     "output_type": "display_data"
    }
   ],
   "source": [
    "plt.figure()\n",
    "plt.imshow(img[:,:,0])\n",
    "\n",
    "plt.figure()\n",
    "plt.imshow(img[:,:,1])\n",
    "\n",
    "plt.figure()\n",
    "plt.imshow(img[:,:,2])\n",
    "\n",
    "plt.figure()\n",
    "plt.imshow(img[:,:,3])"
   ]
  }
 ],
 "metadata": {
  "kernelspec": {
   "display_name": "Python 3",
   "language": "python",
   "name": "python3"
  },
  "language_info": {
   "codemirror_mode": {
    "name": "ipython",
    "version": 3
   },
   "file_extension": ".py",
   "mimetype": "text/x-python",
   "name": "python",
   "nbconvert_exporter": "python",
   "pygments_lexer": "ipython3",
   "version": "3.7.7"
  }
 },
 "nbformat": 4,
 "nbformat_minor": 4
}
